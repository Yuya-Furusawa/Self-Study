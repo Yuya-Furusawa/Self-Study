{
 "cells": [
  {
   "cell_type": "markdown",
   "metadata": {},
   "source": [
    "# Financial Networks and Contagion"
   ]
  },
  {
   "cell_type": "markdown",
   "metadata": {},
   "source": [
    "\"Financial Networks and Contagion\", Matthew Elliot, Benjamin Golub and Matthew O. Jackson, *American Economic Review*, 2014"
   ]
  },
  {
   "cell_type": "code",
   "execution_count": 1,
   "metadata": {
    "collapsed": true
   },
   "outputs": [],
   "source": [
    "import numpy as np\n",
    "import copy"
   ]
  },
  {
   "cell_type": "markdown",
   "metadata": {},
   "source": [
    "## Model"
   ]
  },
  {
   "cell_type": "markdown",
   "metadata": {},
   "source": [
    "- $N$ : the set of organizations\n",
    "- $M$ : the set of assets\n",
    "- $D$ : the matrix whose entry is $D_{ik}$, which is a share of asset $k$ held by organization $i$\n",
    "- $C$ : the matrix whose entry is $C_{ij}$, which is a fraction of organization $j$ owned by organization $i$, but the diagonal elements are 0\n",
    "- $\\hat{C}$ : the diagonal matrix whose entry is $\\hat{C}_{ii} := 1 - \\sum_{j \\in N} C_{ji}$, that is, a share of organization $i$ not owned by any organizations \n",
    "- $P$ : the vector of asset prices"
   ]
  },
  {
   "cell_type": "markdown",
   "metadata": {},
   "source": [
    "The vector of organizations' book values : $V$\n",
    "\\begin{equation}\n",
    "V = {(I - C)}^{-1} Dp\n",
    "\\end{equation}"
   ]
  },
  {
   "cell_type": "markdown",
   "metadata": {},
   "source": [
    "$A$ : dependency matrix\n",
    "\\begin{equation}\n",
    "\\hat{C} {(I - C)}^{-1}\n",
    "\\end{equation}"
   ]
  },
  {
   "cell_type": "markdown",
   "metadata": {},
   "source": [
    "The vector of organizations' values : $v$\n",
    "\\begin{equation}\n",
    "v = \\hat{C} V = \\hat{C} {(I - C)}^{-1} Dp = ADp\n",
    "\\end{equation}"
   ]
  },
  {
   "cell_type": "markdown",
   "metadata": {},
   "source": [
    "If the value $v_i$ falls below some threshhold level $\\underline{v}_i$, then $i$ is said to fail and incurs the costs $\\beta_i(P)$."
   ]
  },
  {
   "cell_type": "markdown",
   "metadata": {},
   "source": [
    "## Algorithm"
   ]
  },
  {
   "cell_type": "markdown",
   "metadata": {},
   "source": [
    "At step $t$ of  the algorithm, let $\\mathcal{Z}_t$ be the set of failed organizations.\n",
    "\n",
    "Initialize $\\mathcal{Z}_0 = \\emptyset$. At step $t \\ge 1$:"
   ]
  },
  {
   "cell_type": "markdown",
   "metadata": {},
   "source": [
    "(1) Let $\\tilde{b}_{t-1}$ be a vector with element $\\tilde{b}_i = \\beta_i$ if $i \\in \\mathcal{Z}_{t-1}$ and $0$ otherwise."
   ]
  },
  {
   "cell_type": "markdown",
   "metadata": {},
   "source": [
    "(2) Let $\\mathcal{Z}_t$ be the set of all $k$ such that entry $k$ of the following vector is negative:\n",
    "\n",
    "\\begin{equation}\n",
    "A[Dp - \\tilde{b}_{t-1}] - \\underline{v}\n",
    "\\end{equation}"
   ]
  },
  {
   "cell_type": "markdown",
   "metadata": {},
   "source": [
    "(3) Terminate if $\\mathcal{Z}_t = \\mathcal{Z}_{t-1}$. Otherwise return to step 1."
   ]
  },
  {
   "cell_type": "markdown",
   "metadata": {},
   "source": [
    "## Code"
   ]
  },
  {
   "cell_type": "markdown",
   "metadata": {},
   "source": [
    "### General Class `FinancialNetwork`"
   ]
  },
  {
   "cell_type": "code",
   "execution_count": 2,
   "metadata": {
    "collapsed": true
   },
   "outputs": [],
   "source": [
    "class FinancialNetwork(object):\n",
    "    def __init__(self, D, C, C_hat, P, theta):\n",
    "        #D, C, C_hat must be numpy.array object\n",
    "        self.D = D\n",
    "        self.C = C\n",
    "        self.C_hat = C_hat\n",
    "        self.P = P\n",
    "        \n",
    "        self.theta = theta\n",
    "        \n",
    "        n = self.C.shape[0]\n",
    "        \n",
    "        #Compute dependency matrix\n",
    "        self.A = self.C_hat @ np.linalg.inv(np.eye(n) - self.C)\n",
    "        \n",
    "        #Compute the values of organizations\n",
    "        self.v = self.A @ self.D@ self.P\n",
    "        \n",
    "        #Cost Function beta\n",
    "        self.beta = self.P * 0.5\n",
    "        \n",
    "        #Set of failed organizations (1 -> fail)\n",
    "        self._Z = np.zeros(n, dtype=int)\n",
    "        \n",
    "        #Vector b_tilde\n",
    "        self.b_tilde = np.zeros(n)\n",
    "        \n",
    "        #Threshhold Value\n",
    "        self.low_v = self.theta * self.v\n",
    "        \n",
    "        #Hierarchies of failures\n",
    "        self._H =[]\n",
    "        \n",
    "    def main(self):\n",
    "        Z_temp = copy.copy(self.Z)\n",
    "        while True:\n",
    "            H_temp = []\n",
    "            X = self.A @ (self.D @ self.P - self.b_tilde) - self.low_v\n",
    "            for i, tf in enumerate(X < 0):\n",
    "                if tf:\n",
    "                    Z_temp[i] = 1\n",
    "                    self.b_tilde[i] = self.beta[i]\n",
    "                    H_temp.append(i)\n",
    "            self._H.append(H_temp)\n",
    "            if (self._Z == Z_temp).all():\n",
    "                break\n",
    "            else:\n",
    "                self.Z = Z_temp\n",
    "                \n",
    "        return self._H"
   ]
  },
  {
   "cell_type": "markdown",
   "metadata": {},
   "source": [
    "The following `FinancialNetworkSpecial` class is specialized for the European Debt Cross-Holdings in the paper."
   ]
  },
  {
   "cell_type": "code",
   "execution_count": 3,
   "metadata": {
    "collapsed": true
   },
   "outputs": [],
   "source": [
    "class FinancialNetworkSpecial(object):\n",
    "    def __init__(self, A, P, P_2008, theta):\n",
    "        self.A = A\n",
    "        self.P = P\n",
    "        self.P_2008 = P_2008\n",
    "        \n",
    "        self.theta = theta\n",
    "        \n",
    "        n = self.A.shape[0]\n",
    "        \n",
    "        #Threshhold Value\n",
    "        self.low_v = self.theta * self.A @ self.P_2008\n",
    "        \n",
    "        #Cost Function beta\n",
    "        self.beta = self.low_v * 0.5\n",
    "        \n",
    "        #Set of failed organizations (1 -> fail)\n",
    "        self.Z = np.zeros(n, dtype=int)\n",
    "        \n",
    "        #Vector b_tilde\n",
    "        self.b_tilde = np.zeros(n)\n",
    "        \n",
    "        #Hierarchies of failures\n",
    "        self._H =[]\n",
    "        \n",
    "    def main(self):\n",
    "        Z_temp = copy.copy(self.Z)\n",
    "        while True:\n",
    "            H_temp = []\n",
    "            X = self.A @ (self.P - self.b_tilde) - self.low_v\n",
    "            for i, tf in enumerate(X < 0):\n",
    "                if tf:\n",
    "                    Z_temp[i] = 1\n",
    "                    self.b_tilde[i] = self.beta[i]\n",
    "                    H_temp.append(i)\n",
    "            self._H.append(H_temp)\n",
    "            if (self.Z == Z_temp).all():\n",
    "                break\n",
    "            else:\n",
    "                self.Z = Z_temp\n",
    "        \n",
    "        return self._H"
   ]
  },
  {
   "cell_type": "markdown",
   "metadata": {},
   "source": [
    "- `A` : adjacency matrix\n",
    "- `P` : Price vector in 2011\n",
    "- ` P_2008` : Price vector in 2008, which is used for computing threshhold values"
   ]
  },
  {
   "cell_type": "code",
   "execution_count": 4,
   "metadata": {
    "collapsed": true
   },
   "outputs": [],
   "source": [
    "A = np.array([[0.71, 0.13, 0.13, 0.17, 0.07, 0.11], [0.18, 0.72, 0.12, 0.11, 0.09, 0.14], [0.00, 0.00, 0.67, 0.00, 0.00, 0.00], [0.07, 0.12, 0.03, 0.70, 0.03, 0.05], [0.01, 0.00, 0.02, 0.00, 0.67, 0.02], [0.03, 0.03, 0.02, 0.02, 0.14, 0.68]])\n",
    "P = np.array([11.6, 14.9, 1.3, 9.2, 1.0, 6.3])\n",
    "P_2008 = np.array([12.0, 15.4, 1.5, 9.8, 1.1, 6.7])"
   ]
  },
  {
   "cell_type": "markdown",
   "metadata": {},
   "source": [
    "- 0 : France\n",
    "- 1 : Germany\n",
    "- 2 : Greece\n",
    "- 3 : Italy\n",
    "- 4 : Portugal\n",
    "- 5 : Spain"
   ]
  },
  {
   "cell_type": "code",
   "execution_count": 5,
   "metadata": {},
   "outputs": [
    {
     "name": "stdout",
     "output_type": "stream",
     "text": [
      "[[2, 4], [2, 4, 5]]\n"
     ]
    }
   ],
   "source": [
    "FN = FinancialNetworkSpecial(A, P, P_2008, 0.935)\n",
    "result = FN.main()\n",
    "print(result)"
   ]
  },
  {
   "cell_type": "markdown",
   "metadata": {},
   "source": [
    "This implies that Greece and Portugal fail first, and then Spain also fail with $\\theta = 0.935$. All other countries do not fail."
   ]
  }
 ],
 "metadata": {
  "kernelspec": {
   "display_name": "Python 3",
   "language": "python",
   "name": "python3"
  },
  "language_info": {
   "codemirror_mode": {
    "name": "ipython",
    "version": 3
   },
   "file_extension": ".py",
   "mimetype": "text/x-python",
   "name": "python",
   "nbconvert_exporter": "python",
   "pygments_lexer": "ipython3",
   "version": "3.6.3"
  }
 },
 "nbformat": 4,
 "nbformat_minor": 2
}
