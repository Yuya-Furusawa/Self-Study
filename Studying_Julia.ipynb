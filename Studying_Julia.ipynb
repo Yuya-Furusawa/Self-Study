{
 "cells": [
  {
   "cell_type": "markdown",
   "metadata": {},
   "source": [
    "## Hello World"
   ]
  },
  {
   "cell_type": "code",
   "execution_count": 1,
   "metadata": {},
   "outputs": [
    {
     "name": "stdout",
     "output_type": "stream",
     "text": [
      "Hello World\n"
     ]
    }
   ],
   "source": [
    "#Pythonではprint関数だったが、Juliaではprintln関数\n",
    "#printは改行しない\n",
    "println(\"Hello World\")"
   ]
  },
  {
   "cell_type": "code",
   "execution_count": 2,
   "metadata": {},
   "outputs": [
    {
     "data": {
      "text/plain": [
       "String"
      ]
     },
     "execution_count": 2,
     "metadata": {},
     "output_type": "execute_result"
    }
   ],
   "source": [
    "hello_world = \"Hello World\"\n",
    "typeof(hello_world)"
   ]
  },
  {
   "cell_type": "code",
   "execution_count": 3,
   "metadata": {},
   "outputs": [
    {
     "name": "stdout",
     "output_type": "stream",
     "text": [
      "Hello World\n"
     ]
    }
   ],
   "source": [
    "println(hello_world)"
   ]
  },
  {
   "cell_type": "markdown",
   "metadata": {},
   "source": [
    "## Basic Math"
   ]
  },
  {
   "cell_type": "code",
   "execution_count": 4,
   "metadata": {},
   "outputs": [
    {
     "data": {
      "text/plain": [
       "17"
      ]
     },
     "execution_count": 4,
     "metadata": {},
     "output_type": "execute_result"
    }
   ],
   "source": [
    "a = 10+7"
   ]
  },
  {
   "cell_type": "code",
   "execution_count": 5,
   "metadata": {},
   "outputs": [
    {
     "data": {
      "text/plain": [
       "3"
      ]
     },
     "execution_count": 5,
     "metadata": {},
     "output_type": "execute_result"
    }
   ],
   "source": [
    "b = 10-7"
   ]
  },
  {
   "cell_type": "code",
   "execution_count": 6,
   "metadata": {},
   "outputs": [
    {
     "data": {
      "text/plain": [
       "70"
      ]
     },
     "execution_count": 6,
     "metadata": {},
     "output_type": "execute_result"
    }
   ],
   "source": [
    "c = 10*7"
   ]
  },
  {
   "cell_type": "code",
   "execution_count": 7,
   "metadata": {},
   "outputs": [
    {
     "data": {
      "text/plain": [
       "1.4285714285714286"
      ]
     },
     "execution_count": 7,
     "metadata": {},
     "output_type": "execute_result"
    }
   ],
   "source": [
    "d = 10/7"
   ]
  },
  {
   "cell_type": "code",
   "execution_count": 8,
   "metadata": {},
   "outputs": [
    {
     "data": {
      "text/plain": [
       "10000000"
      ]
     },
     "execution_count": 8,
     "metadata": {},
     "output_type": "execute_result"
    }
   ],
   "source": [
    "#Pythonとの違い\n",
    "e = 10^7"
   ]
  },
  {
   "cell_type": "code",
   "execution_count": 9,
   "metadata": {},
   "outputs": [
    {
     "data": {
      "text/plain": [
       "3"
      ]
     },
     "execution_count": 9,
     "metadata": {},
     "output_type": "execute_result"
    }
   ],
   "source": [
    "f = 10%7"
   ]
  },
  {
   "cell_type": "markdown",
   "metadata": {},
   "source": [
    "## String"
   ]
  },
  {
   "cell_type": "code",
   "execution_count": 10,
   "metadata": {},
   "outputs": [
    {
     "data": {
      "text/plain": [
       "\"string\""
      ]
     },
     "execution_count": 10,
     "metadata": {},
     "output_type": "execute_result"
    }
   ],
   "source": [
    "str1 = \"string\""
   ]
  },
  {
   "cell_type": "code",
   "execution_count": 11,
   "metadata": {},
   "outputs": [
    {
     "data": {
      "text/plain": [
       "\"これもstring\""
      ]
     },
     "execution_count": 11,
     "metadata": {},
     "output_type": "execute_result"
    }
   ],
   "source": [
    "str2 = \"\"\"これもstring\"\"\""
   ]
  },
  {
   "cell_type": "code",
   "execution_count": 12,
   "metadata": {},
   "outputs": [
    {
     "name": "stdout",
     "output_type": "stream",
     "text": [
      "ダブルクオーテーションをつかうときは\"こう\"する\n"
     ]
    }
   ],
   "source": [
    "println(\"\"\"ダブルクオーテーションをつかうときは\"こう\"する\"\"\")"
   ]
  },
  {
   "cell_type": "code",
   "execution_count": 13,
   "metadata": {},
   "outputs": [
    {
     "data": {
      "text/plain": [
       "Char"
      ]
     },
     "execution_count": 13,
     "metadata": {},
     "output_type": "execute_result"
    }
   ],
   "source": [
    "# Pythonだと''でくくった文字列は、stringとして扱われるが、Juliaだとcharacter型として扱われる。\n",
    "typeof('a')"
   ]
  },
  {
   "cell_type": "code",
   "execution_count": 14,
   "metadata": {},
   "outputs": [
    {
     "ename": "LoadError",
     "evalue": "syntax: invalid character literal",
     "output_type": "error",
     "traceback": [
      "syntax: invalid character literal",
      ""
     ]
    }
   ],
   "source": [
    "#シングルクオーテーションはダメ\n",
    "#要はJuliaの場合、シングルクオーテーションはcharacter型、ダブルクオーテーションはstring型になる\n",
    "char1 = 'これはエラー'"
   ]
  },
  {
   "cell_type": "markdown",
   "metadata": {},
   "source": [
    "## 変数を文字列として扱う"
   ]
  },
  {
   "cell_type": "code",
   "execution_count": 15,
   "metadata": {},
   "outputs": [
    {
     "name": "stdout",
     "output_type": "stream",
     "text": [
      "この値は10 です\n"
     ]
    }
   ],
   "source": [
    "# 変数の先頭に $ を入れることで、変数の中の値を出力できる。\n",
    "# Pythonよりもシンプルに書ける。\n",
    "num = 10\n",
    "println(\"この値は$num です\")"
   ]
  },
  {
   "cell_type": "code",
   "execution_count": 16,
   "metadata": {},
   "outputs": [
    {
     "name": "stdout",
     "output_type": "stream",
     "text": [
      "10 ＋ 10 = 20\n"
     ]
    }
   ],
   "source": [
    "# こんなこともできるらしい。\n",
    "println(\"$num ＋ $num = $(num + num)\")"
   ]
  },
  {
   "cell_type": "markdown",
   "metadata": {},
   "source": [
    "## 文字列の結合"
   ]
  },
  {
   "cell_type": "code",
   "execution_count": 17,
   "metadata": {},
   "outputs": [
    {
     "data": {
      "text/plain": [
       "\"私は犬です\""
      ]
     },
     "execution_count": 17,
     "metadata": {},
     "output_type": "execute_result"
    }
   ],
   "source": [
    "# string()のカッコの中に、カンマ区切りで入れていくことで、実現可能らしい。\n",
    "string(\"私\", \"は\", \"犬です\")"
   ]
  },
  {
   "cell_type": "code",
   "execution_count": 18,
   "metadata": {},
   "outputs": [
    {
     "data": {
      "text/plain": [
       "\"この値は10です\""
      ]
     },
     "execution_count": 18,
     "metadata": {},
     "output_type": "execute_result"
    }
   ],
   "source": [
    "# 変数も同じ感じで処理してくれる\n",
    "string(\"この値は\", num, \"です\")"
   ]
  },
  {
   "cell_type": "code",
   "execution_count": 19,
   "metadata": {},
   "outputs": [
    {
     "data": {
      "text/plain": [
       "\"この値は10です\""
      ]
     },
     "execution_count": 19,
     "metadata": {},
     "output_type": "execute_result"
    }
   ],
   "source": [
    "# int型なども同様\n",
    "string(\"この値は\", 10, \"です\")"
   ]
  },
  {
   "cell_type": "code",
   "execution_count": 20,
   "metadata": {},
   "outputs": [
    {
     "ename": "MethodError",
     "evalue": "MethodError: no method matching +(::String, ::String)\nClosest candidates are:\n  +(::Any, ::Any, !Matched::Any, !Matched::Any...) at operators.jl:502",
     "output_type": "error",
     "traceback": [
      "MethodError: no method matching +(::String, ::String)\nClosest candidates are:\n  +(::Any, ::Any, !Matched::Any, !Matched::Any...) at operators.jl:502",
      "",
      "Stacktrace:",
      " [1] top-level scope at In[20]:1"
     ]
    }
   ],
   "source": [
    "# ただ、Pythonでは出来る、以下のような文字の連結はできないらしい。\n",
    "\"これは\" + \"できません\""
   ]
  },
  {
   "cell_type": "code",
   "execution_count": 21,
   "metadata": {},
   "outputs": [
    {
     "data": {
      "text/plain": [
       "\"これはできる\""
      ]
     },
     "execution_count": 21,
     "metadata": {},
     "output_type": "execute_result"
    }
   ],
   "source": [
    "# Pythonだと、文字列が何回も繰り返しで出力される表現で、文字列の連結ができるっぽい。\n",
    "\"これは\" * \"できる\""
   ]
  },
  {
   "cell_type": "markdown",
   "metadata": {},
   "source": [
    "## character型の結合"
   ]
  },
  {
   "cell_type": "code",
   "execution_count": 22,
   "metadata": {},
   "outputs": [
    {
     "data": {
      "text/plain": [
       "\"ab\""
      ]
     },
     "execution_count": 22,
     "metadata": {},
     "output_type": "execute_result"
    }
   ],
   "source": [
    "# character型の文字を結合させて、文字列にすることも可能っぽい。\n",
    "char1 = 'a'\n",
    "char2 = 'b'\n",
    "string(char1, char2)"
   ]
  },
  {
   "cell_type": "markdown",
   "metadata": {},
   "source": [
    "## Tuple"
   ]
  },
  {
   "cell_type": "code",
   "execution_count": 23,
   "metadata": {},
   "outputs": [
    {
     "data": {
      "text/plain": [
       "((1, 2, 3), (2, 3, 4))"
      ]
     },
     "execution_count": 23,
     "metadata": {},
     "output_type": "execute_result"
    }
   ],
   "source": [
    "# 普通のTupleの定義の仕方はPythonと同じ\n",
    "tuple_data = (\"apple\", \"orange\", \"banana\")\n",
    "several_types = (1, \"apple\", 2)\n",
    "tuple_2d = ((1,2,3), (2,3,4))"
   ]
  },
  {
   "cell_type": "code",
   "execution_count": 24,
   "metadata": {},
   "outputs": [
    {
     "data": {
      "text/plain": [
       "\"apple\""
      ]
     },
     "execution_count": 24,
     "metadata": {},
     "output_type": "execute_result"
    }
   ],
   "source": [
    "# 要素の取り出し方は異なる、先頭は０ではなく１\n",
    "tuple_data[1]"
   ]
  },
  {
   "cell_type": "code",
   "execution_count": 25,
   "metadata": {},
   "outputs": [
    {
     "data": {
      "text/plain": [
       "([1, 2, 3],)"
      ]
     },
     "execution_count": 25,
     "metadata": {},
     "output_type": "execute_result"
    }
   ],
   "source": [
    "# これはPythonとは少し違う挙動。リストが一要素として入る\n",
    "tuple([1,2,3])"
   ]
  },
  {
   "cell_type": "code",
   "execution_count": 26,
   "metadata": {},
   "outputs": [
    {
     "data": {
      "text/plain": [
       "(1, 2, 3)"
      ]
     },
     "execution_count": 26,
     "metadata": {},
     "output_type": "execute_result"
    }
   ],
   "source": [
    "# これはPythonではエラーが出るが、Juliaだとこれでtupleを定義できるらしい\n",
    "tuple(1,2,3)"
   ]
  },
  {
   "cell_type": "code",
   "execution_count": 27,
   "metadata": {},
   "outputs": [
    {
     "ename": "MethodError",
     "evalue": "MethodError: no method matching setindex!(::Tuple{String,String,String}, ::String, ::Int64)",
     "output_type": "error",
     "traceback": [
      "MethodError: no method matching setindex!(::Tuple{String,String,String}, ::String, ::Int64)",
      "",
      "Stacktrace:",
      " [1] top-level scope at In[27]:1"
     ]
    }
   ],
   "source": [
    "# もちろん、tupleは不変なので、情報の更新などはできない。\n",
    "tuple_data[1] = \"peach\""
   ]
  },
  {
   "cell_type": "markdown",
   "metadata": {
    "collapsed": true
   },
   "source": [
    "## Arrays"
   ]
  },
  {
   "cell_type": "code",
   "execution_count": 1,
   "metadata": {},
   "outputs": [
    {
     "data": {
      "text/plain": [
       "3-element Array{String,1}:\n",
       " \"Apple\" \n",
       " \"Orange\"\n",
       " \"Banana\""
      ]
     },
     "execution_count": 1,
     "metadata": {},
     "output_type": "execute_result"
    }
   ],
   "source": [
    "# まずは普通に配列を定義。\n",
    "# この指定の仕方はPythonとも同じ。\n",
    "fruits = [\"Apple\", \"Orange\", \"Banana\"]"
   ]
  },
  {
   "cell_type": "code",
   "execution_count": 2,
   "metadata": {},
   "outputs": [
    {
     "data": {
      "text/plain": [
       "\"Apple\""
      ]
     },
     "execution_count": 2,
     "metadata": {},
     "output_type": "execute_result"
    }
   ],
   "source": [
    "# 要素の取得\n",
    "# indexはPythonとは違って1始まりなので、注意。\n",
    "fruits[1]"
   ]
  },
  {
   "cell_type": "code",
   "execution_count": 3,
   "metadata": {},
   "outputs": [
    {
     "ename": "BoundsError",
     "evalue": "BoundsError: attempt to access 3-element Array{String,1} at index [0]",
     "output_type": "error",
     "traceback": [
      "BoundsError: attempt to access 3-element Array{String,1} at index [0]",
      "",
      "Stacktrace:",
      " [1] getindex(::Array{String,1}, ::Int64) at ./array.jl:731",
      " [2] top-level scope at In[3]:1"
     ]
    }
   ],
   "source": [
    "# 0を指定するとエラーになる\n",
    "fruits[0]"
   ]
  },
  {
   "cell_type": "code",
   "execution_count": 4,
   "metadata": {},
   "outputs": [
    {
     "name": "stdout",
     "output_type": "stream",
     "text": [
      "[\"Apple\", \"Orange\", \"Banana\", \"Peach\"]\n",
      "[\"Apple\", \"Orange\", \"Banana\"]\n"
     ]
    }
   ],
   "source": [
    "# pushとpopもできる\n",
    "#pushは配列の最後に要素を追加\n",
    "#popは配列の最後の要素を削除\n",
    "push!(fruits, \"Peach\")\n",
    "println(fruits)\n",
    "pop!(fruits)\n",
    "println(fruits)"
   ]
  },
  {
   "cell_type": "code",
   "execution_count": 5,
   "metadata": {},
   "outputs": [
    {
     "data": {
      "text/plain": [
       "3-element Array{String,1}:\n",
       " \"Apple2\"\n",
       " \"Orange\"\n",
       " \"Banana\""
      ]
     },
     "execution_count": 5,
     "metadata": {},
     "output_type": "execute_result"
    }
   ],
   "source": [
    "# 要素にアクセスして情報も更新できる\n",
    "fruits[1] = \"Apple2\"\n",
    "fruits"
   ]
  },
  {
   "cell_type": "markdown",
   "metadata": {},
   "source": [
    "## 多次元配列"
   ]
  },
  {
   "cell_type": "code",
   "execution_count": 6,
   "metadata": {},
   "outputs": [
    {
     "data": {
      "text/plain": [
       "2-element Array{Array{String,1},1}:\n",
       " [\"Apple\", \"Orange\", \"Banana\"]         \n",
       " [\"Apple\", \"Orange\", \"Banana\", \"Peach\"]"
      ]
     },
     "execution_count": 6,
     "metadata": {},
     "output_type": "execute_result"
    }
   ],
   "source": [
    "# もちろん、これも普通にできる\n",
    "fruits_2d = [[\"Apple\", \"Orange\", \"Banana\"], [\"Apple\", \"Orange\", \"Banana\", \"Peach\"]]"
   ]
  },
  {
   "cell_type": "code",
   "execution_count": 7,
   "metadata": {},
   "outputs": [
    {
     "data": {
      "text/plain": [
       "4×3 Array{Float64,2}:\n",
       " 0.983463  0.444555  0.988348\n",
       " 0.861458  0.228344  0.213957\n",
       " 0.449313  0.427337  0.683473\n",
       " 0.548947  0.474501  0.780371"
      ]
     },
     "execution_count": 7,
     "metadata": {},
     "output_type": "execute_result"
    }
   ],
   "source": [
    "# 乱数発生。モジュールのインポートは不要\n",
    "rand(4,3)"
   ]
  },
  {
   "cell_type": "code",
   "execution_count": 61,
   "metadata": {},
   "outputs": [
    {
     "data": {
      "text/plain": [
       "4-element Array{Int64,1}:\n",
       " 1\n",
       " 2\n",
       " 3\n",
       " 4"
      ]
     },
     "execution_count": 61,
     "metadata": {},
     "output_type": "execute_result"
    }
   ],
   "source": [
    "#one dimentional array\n",
    "a = [1, 2, 3, 4]"
   ]
  },
  {
   "cell_type": "code",
   "execution_count": 62,
   "metadata": {},
   "outputs": [
    {
     "data": {
      "text/plain": [
       "1×4 Array{Int64,2}:\n",
       " 1  2  3  4"
      ]
     },
     "execution_count": 62,
     "metadata": {},
     "output_type": "execute_result"
    }
   ],
   "source": [
    "#two dimentional array (1 x n)\n",
    "a = [1 2 3 4]"
   ]
  },
  {
   "cell_type": "markdown",
   "metadata": {},
   "source": [
    "## 配列の初期化"
   ]
  },
  {
   "cell_type": "code",
   "execution_count": 27,
   "metadata": {},
   "outputs": [
    {
     "name": "stdout",
     "output_type": "stream",
     "text": [
      "[0.0, 0.0, 0.0, 0.0, 0.0]\n",
      "[0.0 0.0 0.0 0.0; 0.0 0.0 0.0 0.0]\n",
      "Int8[0 0 0 0; 0 0 0 0]\n"
     ]
    },
    {
     "ename": "MethodError",
     "evalue": "MethodError: no method matching zeros(::Type{Float64}, ::Array{Int8,2})\nClosest candidates are:\n  zeros(::Type{T}, !Matched::Union{Integer, AbstractUnitRange}...) where T at array.jl:464\n  zeros(::Type{T}, !Matched::Tuple{}) where T at array.jl:468\n  zeros(::Type{T}, !Matched::Tuple{Vararg{Integer,N}}) where {T, N} at array.jl:467\n  ...",
     "output_type": "error",
     "traceback": [
      "MethodError: no method matching zeros(::Type{Float64}, ::Array{Int8,2})\nClosest candidates are:\n  zeros(::Type{T}, !Matched::Union{Integer, AbstractUnitRange}...) where T at array.jl:464\n  zeros(::Type{T}, !Matched::Tuple{}) where T at array.jl:468\n  zeros(::Type{T}, !Matched::Tuple{Vararg{Integer,N}}) where {T, N} at array.jl:467\n  ...",
      "",
      "Stacktrace:",
      " [1] top-level scope at In[27]:15"
     ]
    }
   ],
   "source": [
    "# numpyとかで配列を初期化するときによく使うzeros\n",
    "# 普通の1d-array\n",
    "println(zeros(5))\n",
    "\n",
    "# 多次元配列も可能\n",
    "println(zeros(2,4))\n",
    "\n",
    "# 型の指定もできる\n",
    "println(zeros(Int8, 2,4))\n",
    "\n",
    "# 型の変換\n",
    "# 出力が、「0 => 0.0」 となっているのに注目\n",
    "#Julia1.0.1ではできない???\n",
    "zeros_array = zeros(Int8, 2,4)\n",
    "println(zeros(zeros_array, Float64))"
   ]
  },
  {
   "cell_type": "code",
   "execution_count": 9,
   "metadata": {},
   "outputs": [
    {
     "name": "stdout",
     "output_type": "stream",
     "text": [
      "[1.0, 1.0, 1.0, 1.0, 1.0]\n",
      "[1.0 1.0 1.0 1.0; 1.0 1.0 1.0 1.0]\n",
      "Int8[1 1 1 1; 1 1 1 1]\n"
     ]
    },
    {
     "ename": "MethodError",
     "evalue": "MethodError: no method matching ones(::Array{Int8,2}, ::Type{Float64})",
     "output_type": "error",
     "traceback": [
      "MethodError: no method matching ones(::Array{Int8,2}, ::Type{Float64})",
      "",
      "Stacktrace:",
      " [1] top-level scope at In[9]:13"
     ]
    }
   ],
   "source": [
    "# onesもある。似たような感じで使える。\n",
    "# 普通の1d-array\n",
    "println(ones(5))\n",
    "\n",
    "# 多次元配列も可能\n",
    "println(ones(2,4))\n",
    "\n",
    "# 型の指定もできる\n",
    "println(ones(Int8, 2,4))\n",
    "\n",
    "# 型の変換もできる\n",
    "#Julia1.0.1ではできない???\n",
    "ones_array = ones(Int8, 2,4)\n",
    "println(ones(ones_array, Float64))"
   ]
  },
  {
   "cell_type": "code",
   "execution_count": 10,
   "metadata": {},
   "outputs": [
    {
     "data": {
      "text/plain": [
       "3×2 Array{Int64,2}:\n",
       " 10  10\n",
       " 10  10\n",
       " 10  10"
      ]
     },
     "execution_count": 10,
     "metadata": {},
     "output_type": "execute_result"
    }
   ],
   "source": [
    "# 0や1, trueやfalse以外の値を入れたい場合は、fill関数を使うと良いっぽい。\n",
    "fill(10, (3,2))"
   ]
  },
  {
   "cell_type": "markdown",
   "metadata": {},
   "source": [
    "## 配列の情報取得"
   ]
  },
  {
   "cell_type": "code",
   "execution_count": 11,
   "metadata": {},
   "outputs": [
    {
     "data": {
      "text/plain": [
       "2×3 Array{Float64,2}:\n",
       " 1.0  1.0  1.0\n",
       " 1.0  1.0  1.0"
      ]
     },
     "execution_count": 11,
     "metadata": {},
     "output_type": "execute_result"
    }
   ],
   "source": [
    "#Example\n",
    "ones_2d = ones(2,3)"
   ]
  },
  {
   "cell_type": "code",
   "execution_count": 12,
   "metadata": {},
   "outputs": [
    {
     "data": {
      "text/plain": [
       "2"
      ]
     },
     "execution_count": 12,
     "metadata": {},
     "output_type": "execute_result"
    }
   ],
   "source": [
    "# 配列のdimentionを取得\n",
    "ndims(ones_2d)"
   ]
  },
  {
   "cell_type": "code",
   "execution_count": 13,
   "metadata": {},
   "outputs": [
    {
     "ename": "UndefVarError",
     "evalue": "UndefVarError: indices not defined",
     "output_type": "error",
     "traceback": [
      "UndefVarError: indices not defined",
      "",
      "Stacktrace:",
      " [1] top-level scope at In[13]:1"
     ]
    }
   ],
   "source": [
    "#indexを取得する関数\n",
    "#Julia1.0.1ではindices関数は無い???\n",
    "indices(ones_2d)"
   ]
  },
  {
   "cell_type": "code",
   "execution_count": 14,
   "metadata": {},
   "outputs": [
    {
     "data": {
      "text/plain": [
       "6"
      ]
     },
     "execution_count": 14,
     "metadata": {},
     "output_type": "execute_result"
    }
   ],
   "source": [
    "# 「長さ」ではなくて、「要素の数」を取得する関数であることに注意。\n",
    "# Pythonのlenとは違う\n",
    "length(ones_2d)"
   ]
  },
  {
   "cell_type": "code",
   "execution_count": 15,
   "metadata": {},
   "outputs": [
    {
     "data": {
      "text/plain": [
       "Base.OneTo(6)"
      ]
     },
     "execution_count": 15,
     "metadata": {},
     "output_type": "execute_result"
    }
   ],
   "source": [
    "# 要素へのインデックスをiterableな形で取得\n",
    "eachindex(ones_2d)"
   ]
  },
  {
   "cell_type": "code",
   "execution_count": 16,
   "metadata": {},
   "outputs": [
    {
     "name": "stdout",
     "output_type": "stream",
     "text": [
      "1=>1.0\n",
      "2=>1.0\n",
      "3=>1.0\n",
      "4=>1.0\n",
      "5=>1.0\n",
      "6=>1.0\n"
     ]
    }
   ],
   "source": [
    "# 呼び出しの例。以下は、for文の例。\n",
    "for iter in eachindex(ones_2d)\n",
    "    println(iter, \"=>\", ones_2d[iter])\n",
    "end"
   ]
  },
  {
   "cell_type": "code",
   "execution_count": 17,
   "metadata": {},
   "outputs": [
    {
     "ename": "UndefVarError",
     "evalue": "UndefVarError: countnz not defined",
     "output_type": "error",
     "traceback": [
      "UndefVarError: countnz not defined",
      "",
      "Stacktrace:",
      " [1] top-level scope at In[17]:1"
     ]
    }
   ],
   "source": [
    "# non-zeroな要素の数を返してくれる関数\n",
    "# Julia1.0.1ではcountnz関数は無い???\n",
    "countnz(ones_2d)"
   ]
  },
  {
   "cell_type": "markdown",
   "metadata": {},
   "source": [
    "## 配列の操作"
   ]
  },
  {
   "cell_type": "code",
   "execution_count": 18,
   "metadata": {},
   "outputs": [
    {
     "data": {
      "text/plain": [
       "4×4 Array{Float64,2}:\n",
       " 1.0  1.0  1.0  1.0\n",
       " 1.0  1.0  1.0  1.0\n",
       " 1.0  1.0  1.0  1.0\n",
       " 1.0  1.0  1.0  1.0"
      ]
     },
     "execution_count": 18,
     "metadata": {},
     "output_type": "execute_result"
    }
   ],
   "source": [
    "# reshape\n",
    "# Pythonと同じ\n",
    "ones_1d = ones(16)\n",
    "reshape(ones_1d, (4,4))"
   ]
  },
  {
   "cell_type": "code",
   "execution_count": 19,
   "metadata": {},
   "outputs": [
    {
     "data": {
      "text/plain": [
       "2×8 Array{Float64,2}:\n",
       " 1.0  1.0  1.0  1.0  1.0  1.0  1.0  1.0\n",
       " 1.0  1.0  1.0  1.0  1.0  1.0  1.0  1.0"
      ]
     },
     "execution_count": 19,
     "metadata": {},
     "output_type": "execute_result"
    }
   ],
   "source": [
    "# 片方の次元だけ指定するパターンも可能\n",
    "reshape(ones_1d, 2, :)"
   ]
  },
  {
   "cell_type": "code",
   "execution_count": 20,
   "metadata": {},
   "outputs": [
    {
     "ename": "DimensionMismatch",
     "evalue": "DimensionMismatch(\"array size 16 must be divisible by the product of the new dimensions (3, Colon())\")",
     "output_type": "error",
     "traceback": [
      "DimensionMismatch(\"array size 16 must be divisible by the product of the new dimensions (3, Colon())\")",
      "",
      "Stacktrace:",
      " [1] (::getfield(Base, Symbol(\"#throw2#178\")))(::Array{Float64,1}, ::Tuple{Int64,Colon}) at ./reshapedarray.jl:105",
      " [2] _reshape_uncolon at ./reshapedarray.jl:111 [inlined]",
      " [3] reshape(::Array{Float64,1}, ::Tuple{Int64,Colon}) at ./reshapedarray.jl:101",
      " [4] reshape(::Array{Float64,1}, ::Int64, ::Colon) at ./reshapedarray.jl:100",
      " [5] top-level scope at In[20]:1"
     ]
    }
   ],
   "source": [
    "# reshape不可能な数を渡したらエラー\n",
    "reshape(ones_1d, 3, :)"
   ]
  },
  {
   "cell_type": "code",
   "execution_count": 21,
   "metadata": {},
   "outputs": [
    {
     "data": {
      "text/plain": [
       "3×5 Array{Int64,2}:\n",
       "  1   2   3   4   5\n",
       "  6   7   8   9  10\n",
       " 11  12  13  14  15"
      ]
     },
     "execution_count": 21,
     "metadata": {},
     "output_type": "execute_result"
    }
   ],
   "source": [
    "# verticalな方向に結合する\n",
    "a = [1 2 3 4 5]\n",
    "b = [6 7 8 9 10; 11 12 13 14 15]\n",
    "vcat(a, b)"
   ]
  },
  {
   "cell_type": "code",
   "execution_count": 22,
   "metadata": {},
   "outputs": [
    {
     "data": {
      "text/plain": [
       "5×2 Array{Int64,2}:\n",
       " 1   6\n",
       " 2   7\n",
       " 3   8\n",
       " 4   9\n",
       " 5  10"
      ]
     },
     "execution_count": 22,
     "metadata": {},
     "output_type": "execute_result"
    }
   ],
   "source": [
    "# Horizontalな方向に結合する\n",
    "a = [1; 2; 3; 4; 5;]\n",
    "b = [6; 7; 8; 9; 10;]\n",
    "hcat(a, b)"
   ]
  },
  {
   "cell_type": "markdown",
   "metadata": {},
   "source": [
    "## 配列の演算"
   ]
  },
  {
   "cell_type": "code",
   "execution_count": 1,
   "metadata": {},
   "outputs": [
    {
     "name": "stdout",
     "output_type": "stream",
     "text": [
      "[2, 3, 4, 5, 6]\n",
      "[0, 1, 2, 3, 4]\n",
      "[2, 4, 6, 8, 10]\n",
      "[0.5, 1.0, 1.5, 2.0, 2.5]\n"
     ]
    }
   ],
   "source": [
    "#各要素に四則演算\n",
    "#+と-の前にドットをつける？？？\n",
    "a = [1, 2, 3, 4, 5]\n",
    "println(a .+ 1)\n",
    "println(a .- 1)\n",
    "println(a * 2)\n",
    "println(a / 2)"
   ]
  },
  {
   "cell_type": "code",
   "execution_count": 24,
   "metadata": {},
   "outputs": [
    {
     "data": {
      "text/plain": [
       "3-element Array{Int64,1}:\n",
       " 1\n",
       " 3\n",
       " 6"
      ]
     },
     "execution_count": 24,
     "metadata": {},
     "output_type": "execute_result"
    }
   ],
   "source": [
    "# 累積演算\n",
    "accumulate(+, [1,2,3])"
   ]
  },
  {
   "cell_type": "code",
   "execution_count": 26,
   "metadata": {},
   "outputs": [
    {
     "data": {
      "text/plain": [
       "3-element Array{Int64,1}:\n",
       " 101\n",
       " 103\n",
       " 106"
      ]
     },
     "execution_count": 26,
     "metadata": {},
     "output_type": "execute_result"
    }
   ],
   "source": [
    "# 最後にinitを指定するとそこから計算する。\n",
    "# 以下の例であれば、100+1が最初に出てくる。\n",
    "accumulate(+,  [1,2,3], init=100)"
   ]
  },
  {
   "cell_type": "code",
   "execution_count": 28,
   "metadata": {},
   "outputs": [
    {
     "data": {
      "text/plain": [
       "3-element Array{Int64,1}:\n",
       "  0\n",
       "  0\n",
       " -1"
      ]
     },
     "execution_count": 28,
     "metadata": {},
     "output_type": "execute_result"
    }
   ],
   "source": [
    "#四則演算だけでなく他のminとかでも大丈夫\n",
    "accumulate(min, [1,2,-1], init=0)"
   ]
  },
  {
   "cell_type": "markdown",
   "metadata": {},
   "source": [
    "## 辞書型"
   ]
  },
  {
   "cell_type": "code",
   "execution_count": 29,
   "metadata": {},
   "outputs": [
    {
     "data": {
      "text/plain": [
       "Dict{String,Int64} with 3 entries:\n",
       "  \"Apple\"  => 1\n",
       "  \"Orange\" => 3\n",
       "  \"Banana\" => 2"
      ]
     },
     "execution_count": 29,
     "metadata": {},
     "output_type": "execute_result"
    }
   ],
   "source": [
    "# 定義の仕方\n",
    "# Pythonは「:」だが、Juliaでは「=>」になる。\n",
    "fruits = Dict(\"Apple\" => 1, \"Banana\" => 2, \"Orange\" => 3)"
   ]
  },
  {
   "cell_type": "code",
   "execution_count": 30,
   "metadata": {},
   "outputs": [
    {
     "data": {
      "text/plain": [
       "1"
      ]
     },
     "execution_count": 30,
     "metadata": {},
     "output_type": "execute_result"
    }
   ],
   "source": [
    "# 要素へのアクセス方法はキーを指定するだけ\n",
    "fruits[\"Apple\"]"
   ]
  },
  {
   "cell_type": "code",
   "execution_count": 31,
   "metadata": {},
   "outputs": [
    {
     "name": "stdout",
     "output_type": "stream",
     "text": [
      "Dict(\"Apple\"=>1,\"Orange\"=>3,\"Peach\"=>4,\"Banana\"=>2)\n",
      "3\n",
      "Dict(\"Apple\"=>1,\"Orange\"=>3,\"Banana\"=>2)\n"
     ]
    },
    {
     "data": {
      "text/plain": [
       "Dict{String,Int64} with 3 entries:\n",
       "  \"Apple\"  => 1\n",
       "  \"Orange\" => 3\n",
       "  \"Banana\" => 2"
      ]
     },
     "execution_count": 31,
     "metadata": {},
     "output_type": "execute_result"
    }
   ],
   "source": [
    "# 要素の追加\n",
    "fruits[\"Peach\"] = 4\n",
    "println(fruits)\n",
    "\n",
    "# 更新\n",
    "fruits[\"Peach\"] = 3\n",
    "println(fruits[\"Peach\"])\n",
    "\n",
    "# 削除\n",
    "pop!(fruits, \"Peach\")\n",
    "println(fruits)\n",
    "\n",
    "# popでもできるが、delete!を使う方が直感的\n",
    "fruits[\"Peach\"] = 3\n",
    "delete!(fruits, \"Peach\")"
   ]
  },
  {
   "cell_type": "code",
   "execution_count": 32,
   "metadata": {},
   "outputs": [
    {
     "ename": "KeyError",
     "evalue": "KeyError: key 1 not found",
     "output_type": "error",
     "traceback": [
      "KeyError: key 1 not found",
      "",
      "Stacktrace:",
      " [1] getindex(::Dict{String,Int64}, ::Int64) at ./dict.jl:478",
      " [2] top-level scope at In[32]:1"
     ]
    }
   ],
   "source": [
    "# 辞書型は順序という概念を持っていないので、indexでアクセスはできない\n",
    "fruits[1]"
   ]
  },
  {
   "cell_type": "markdown",
   "metadata": {},
   "source": [
    "## 辞書型の操作"
   ]
  },
  {
   "cell_type": "code",
   "execution_count": 33,
   "metadata": {},
   "outputs": [
    {
     "data": {
      "text/plain": [
       "true"
      ]
     },
     "execution_count": 33,
     "metadata": {},
     "output_type": "execute_result"
    }
   ],
   "source": [
    "# キーを持っているかどうかの判定\n",
    "haskey(fruits, \"Apple\") # true"
   ]
  },
  {
   "cell_type": "code",
   "execution_count": 34,
   "metadata": {},
   "outputs": [
    {
     "name": "stdout",
     "output_type": "stream",
     "text": [
      "1\n",
      "100\n"
     ]
    }
   ],
   "source": [
    "# get(dict, key, default)で、値を取得できる。defaultは、keyがdictになかったときに返ってくる値\n",
    "\n",
    "# Appleがkeyにあるので、そのvalueを返す\n",
    "println(get(fruits, \"Apple\", 100))\n",
    "\n",
    "# Peachがkeyにないので、100を返す\n",
    "println(get(fruits, \"Peach\", 100))"
   ]
  },
  {
   "cell_type": "code",
   "execution_count": 35,
   "metadata": {},
   "outputs": [
    {
     "name": "stdout",
     "output_type": "stream",
     "text": [
      "3\n",
      "Dict(\"Apple\"=>1,\"Orange\"=>3,\"Banana\"=>2)\n"
     ]
    }
   ],
   "source": [
    "# pop\n",
    "# Pythonと同じ\n",
    "fruits[\"Peach\"] = 3\n",
    "println(pop!(fruits, \"Peach\")) # Peachの値が返ってくる\n",
    "println(fruits) # Peachのkeyとvalueはなくなっている"
   ]
  },
  {
   "cell_type": "code",
   "execution_count": 36,
   "metadata": {},
   "outputs": [
    {
     "data": {
      "text/plain": [
       "Base.KeySet for a Dict{String,Int64} with 3 entries. Keys:\n",
       "  \"Apple\"\n",
       "  \"Orange\"\n",
       "  \"Banana\""
      ]
     },
     "execution_count": 36,
     "metadata": {},
     "output_type": "execute_result"
    }
   ],
   "source": [
    "# keyの一覧を取得\n",
    "keys(fruits)"
   ]
  },
  {
   "cell_type": "code",
   "execution_count": 37,
   "metadata": {},
   "outputs": [
    {
     "data": {
      "text/plain": [
       "Base.ValueIterator for a Dict{String,Int64} with 3 entries. Values:\n",
       "  1\n",
       "  3\n",
       "  2"
      ]
     },
     "execution_count": 37,
     "metadata": {},
     "output_type": "execute_result"
    }
   ],
   "source": [
    "# valueの一覧を取得\n",
    "values(fruits)"
   ]
  },
  {
   "cell_type": "code",
   "execution_count": 38,
   "metadata": {},
   "outputs": [
    {
     "name": "stdout",
     "output_type": "stream",
     "text": [
      "Dict(\"Apple\"=>1,\"Peach\"=>4,\"Banana\"=>3)\n",
      "Dict(\"Apple\"=>1,\"Peach\"=>4,\"Banana\"=>2)\n"
     ]
    }
   ],
   "source": [
    "# 複数の辞書のマージも可能\n",
    "a = Dict(\"Apple\" => 1, \"Banana\" => 2)\n",
    "b = Dict(\"Banana\" => 3, \"Peach\" => 4)\n",
    "\n",
    "# 以下の二つのBananaの値の違いに注目\n",
    "# ２つ目の引数の方が優先される\n",
    "println(merge(a, b))\n",
    "println(merge(b, a))"
   ]
  },
  {
   "cell_type": "markdown",
   "metadata": {},
   "source": [
    "## Sets"
   ]
  },
  {
   "cell_type": "code",
   "execution_count": 39,
   "metadata": {},
   "outputs": [
    {
     "data": {
      "text/plain": [
       "Set([\"orange\", \"banana\", \"apple\"])"
      ]
     },
     "execution_count": 39,
     "metadata": {},
     "output_type": "execute_result"
    }
   ],
   "source": [
    "# 定義の仕方\n",
    "# Pythonと違い大文字\n",
    "fruits = Set([\"apple\", \"banana\", \"orange\"])"
   ]
  },
  {
   "cell_type": "code",
   "execution_count": 40,
   "metadata": {},
   "outputs": [
    {
     "data": {
      "text/plain": [
       "Set([\"orange\", \"banana\", \"apple\"])"
      ]
     },
     "execution_count": 40,
     "metadata": {},
     "output_type": "execute_result"
    }
   ],
   "source": [
    "# 型の自動判定もしてくれるが、自分で指定もできる。\n",
    "fruits = Set{String}([\"apple\", \"banana\", \"orange\"])"
   ]
  },
  {
   "cell_type": "code",
   "execution_count": 41,
   "metadata": {},
   "outputs": [
    {
     "data": {
      "text/plain": [
       "Set(Any[\"orange\", \"banana\", \"apple\", 1])"
      ]
     },
     "execution_count": 41,
     "metadata": {},
     "output_type": "execute_result"
    }
   ],
   "source": [
    "# 複数の型の値も入れられる\n",
    "fruits = Set([\"apple\", \"banana\", \"orange\", 1])"
   ]
  },
  {
   "cell_type": "code",
   "execution_count": 42,
   "metadata": {},
   "outputs": [
    {
     "data": {
      "text/plain": [
       "Set(Any[])"
      ]
     },
     "execution_count": 42,
     "metadata": {},
     "output_type": "execute_result"
    }
   ],
   "source": [
    "# 空集合の定義\n",
    "fruits = Set()"
   ]
  },
  {
   "cell_type": "code",
   "execution_count": 44,
   "metadata": {},
   "outputs": [
    {
     "data": {
      "text/plain": [
       "Set(String[])"
      ]
     },
     "execution_count": 44,
     "metadata": {},
     "output_type": "execute_result"
    }
   ],
   "source": [
    "# 型を指定しておくこともできる。\n",
    "fruits = Set{String}()"
   ]
  },
  {
   "cell_type": "markdown",
   "metadata": {},
   "source": [
    "## 集合に要素を追加"
   ]
  },
  {
   "cell_type": "code",
   "execution_count": 45,
   "metadata": {},
   "outputs": [
    {
     "data": {
      "text/plain": [
       "Set(Any[\"apple\"])"
      ]
     },
     "execution_count": 45,
     "metadata": {},
     "output_type": "execute_result"
    }
   ],
   "source": [
    "# 要素の追加。pushを使う\n",
    "fruits = Set()\n",
    "push!(fruits, \"apple\")\n",
    "fruits"
   ]
  },
  {
   "cell_type": "code",
   "execution_count": 46,
   "metadata": {},
   "outputs": [
    {
     "data": {
      "text/plain": [
       "Set(Any[\"apple\"])"
      ]
     },
     "execution_count": 46,
     "metadata": {},
     "output_type": "execute_result"
    }
   ],
   "source": [
    "# 同じ要素を追加しても、集合なので一つだけしか保持しない。エラーも出ない\n",
    "fruits = Set()\n",
    "push!(fruits, \"apple\")\n",
    "push!(fruits, \"apple\")\n",
    "fruits"
   ]
  },
  {
   "cell_type": "code",
   "execution_count": 48,
   "metadata": {},
   "outputs": [
    {
     "ename": "MethodError",
     "evalue": "MethodError: Cannot `convert` an object of type Int64 to an object of type String\nClosest candidates are:\n  convert(::Type{T<:AbstractString}, !Matched::T<:AbstractString) where T<:AbstractString at strings/basic.jl:207\n  convert(::Type{T<:AbstractString}, !Matched::AbstractString) where T<:AbstractString at strings/basic.jl:208\n  convert(::Type{T}, !Matched::T) where T at essentials.jl:154",
     "output_type": "error",
     "traceback": [
      "MethodError: Cannot `convert` an object of type Int64 to an object of type String\nClosest candidates are:\n  convert(::Type{T<:AbstractString}, !Matched::T<:AbstractString) where T<:AbstractString at strings/basic.jl:207\n  convert(::Type{T<:AbstractString}, !Matched::AbstractString) where T<:AbstractString at strings/basic.jl:208\n  convert(::Type{T}, !Matched::T) where T at essentials.jl:154",
      "",
      "Stacktrace:",
      " [1] setindex!(::Dict{String,Nothing}, ::Nothing, ::Int64) at ./dict.jl:373",
      " [2] push!(::Set{String}, ::Int64) at ./set.jl:48",
      " [3] top-level scope at In[48]:3"
     ]
    }
   ],
   "source": [
    "# 型を指定しておいたものに、その型で扱えない値を入れようとすると当然エラーになる\n",
    "fruits = Set{String}()\n",
    "push!(fruits, 1)\n",
    "fruits"
   ]
  },
  {
   "cell_type": "markdown",
   "metadata": {},
   "source": [
    "## 集合の要素の削除"
   ]
  },
  {
   "cell_type": "code",
   "execution_count": 49,
   "metadata": {},
   "outputs": [
    {
     "data": {
      "text/plain": [
       "Set([\"banana\"])"
      ]
     },
     "execution_count": 49,
     "metadata": {},
     "output_type": "execute_result"
    }
   ],
   "source": [
    "# 要素の削除は、popを使う\n",
    "fruits = Set([\"apple\", \"banana\"])\n",
    "pop!(fruits, \"apple\")\n",
    "fruits"
   ]
  },
  {
   "cell_type": "code",
   "execution_count": 50,
   "metadata": {},
   "outputs": [
    {
     "ename": "KeyError",
     "evalue": "KeyError: key \"orange\" not found",
     "output_type": "error",
     "traceback": [
      "KeyError: key \"orange\" not found",
      "",
      "Stacktrace:",
      " [1] pop!(::Dict{String,Nothing}, ::String) at ./dict.jl:581",
      " [2] pop!(::Set{String}, ::String) at ./set.jl:49",
      " [3] top-level scope at In[50]:3"
     ]
    }
   ],
   "source": [
    "# 存在しない要素を削除しようとすると、エラーがでる。\n",
    "fruits = Set([\"apple\", \"banana\"])\n",
    "pop!(fruits, \"orange\")\n",
    "fruits"
   ]
  },
  {
   "cell_type": "markdown",
   "metadata": {},
   "source": [
    "## 集合の要素の存在判定"
   ]
  },
  {
   "cell_type": "code",
   "execution_count": 51,
   "metadata": {},
   "outputs": [
    {
     "data": {
      "text/plain": [
       "true"
      ]
     },
     "execution_count": 51,
     "metadata": {},
     "output_type": "execute_result"
    }
   ],
   "source": [
    "# 要素が存在しているかどうかを判定\n",
    "fruits = Set([\"apple\", \"banana\"])\n",
    "in(\"banana\", fruits) # true"
   ]
  },
  {
   "cell_type": "markdown",
   "metadata": {},
   "source": [
    "## 集合同士の演算"
   ]
  },
  {
   "cell_type": "code",
   "execution_count": 52,
   "metadata": {},
   "outputs": [
    {
     "data": {
      "text/plain": [
       "Set([4, 2, 3, 1])"
      ]
     },
     "execution_count": 52,
     "metadata": {},
     "output_type": "execute_result"
    }
   ],
   "source": [
    "# ここで使う集合をまず定義\n",
    "fruits = Set([\"apple\", \"banana\", \"orange\"])\n",
    "another_fruits = Set([\"apple\", \"peach\"])\n",
    "drink = Set([\"coffee\", \"yogurt drink\", \"cocoa\"])\n",
    "number = Set([1,2,3,4])"
   ]
  },
  {
   "cell_type": "markdown",
   "metadata": {},
   "source": [
    "## 和集合"
   ]
  },
  {
   "cell_type": "code",
   "execution_count": 53,
   "metadata": {},
   "outputs": [
    {
     "data": {
      "text/plain": [
       "Set([\"orange\", \"coffee\", \"yogurt drink\", \"banana\", \"cocoa\", \"apple\"])"
      ]
     },
     "execution_count": 53,
     "metadata": {},
     "output_type": "execute_result"
    }
   ],
   "source": [
    "# 同じ型の集合の和集合\n",
    "union(fruits, drink)"
   ]
  },
  {
   "cell_type": "code",
   "execution_count": 54,
   "metadata": {},
   "outputs": [
    {
     "data": {
      "text/plain": [
       "Set(Any[4, 2, \"orange\", 3, \"banana\", \"apple\", 1])"
      ]
     },
     "execution_count": 54,
     "metadata": {},
     "output_type": "execute_result"
    }
   ],
   "source": [
    "# 違う型の集合の和集合をとると、型が変わる。\n",
    "union(fruits, number)"
   ]
  },
  {
   "cell_type": "markdown",
   "metadata": {},
   "source": [
    "## 積集合"
   ]
  },
  {
   "cell_type": "code",
   "execution_count": 55,
   "metadata": {},
   "outputs": [
    {
     "data": {
      "text/plain": [
       "Set([\"apple\"])"
      ]
     },
     "execution_count": 55,
     "metadata": {},
     "output_type": "execute_result"
    }
   ],
   "source": [
    "# 積集合\n",
    "intersect(fruits, another_fruits)"
   ]
  },
  {
   "cell_type": "code",
   "execution_count": 56,
   "metadata": {},
   "outputs": [
    {
     "data": {
      "text/plain": [
       "Set(String[])"
      ]
     },
     "execution_count": 56,
     "metadata": {},
     "output_type": "execute_result"
    }
   ],
   "source": [
    "# 積集合が空集合\n",
    "intersect(fruits, drink)"
   ]
  },
  {
   "cell_type": "markdown",
   "metadata": {},
   "source": [
    "## 差集合"
   ]
  },
  {
   "cell_type": "code",
   "execution_count": 57,
   "metadata": {},
   "outputs": [
    {
     "data": {
      "text/plain": [
       "Set([\"orange\", \"banana\"])"
      ]
     },
     "execution_count": 57,
     "metadata": {},
     "output_type": "execute_result"
    }
   ],
   "source": [
    "# 差集合\n",
    "setdiff(fruits, another_fruits)"
   ]
  },
  {
   "cell_type": "markdown",
   "metadata": {
    "collapsed": true
   },
   "source": [
    "## while"
   ]
  },
  {
   "cell_type": "code",
   "execution_count": 63,
   "metadata": {},
   "outputs": [
    {
     "name": "stdout",
     "output_type": "stream",
     "text": [
      "1\n",
      "2\n",
      "3\n",
      "4\n",
      "5\n",
      "6\n",
      "7\n",
      "8\n",
      "9\n",
      "10\n"
     ]
    }
   ],
   "source": [
    "#Pythonではコロンが必要だったがJuliaでは必要ない\n",
    "i = 0\n",
    "while i < 10\n",
    "    i += 1\n",
    "    println(i)\n",
    "end"
   ]
  },
  {
   "cell_type": "code",
   "execution_count": 64,
   "metadata": {},
   "outputs": [
    {
     "name": "stdout",
     "output_type": "stream",
     "text": [
      "apple\n",
      "banana\n",
      "orange\n"
     ]
    }
   ],
   "source": [
    "#Example2\n",
    "fruits = [\"apple\", \"banana\", \"orange\"]\n",
    "i = 1\n",
    "while i <= length(fruits)\n",
    "    println(fruits[i])\n",
    "    i += 1\n",
    "end"
   ]
  },
  {
   "cell_type": "markdown",
   "metadata": {},
   "source": [
    "## for"
   ]
  },
  {
   "cell_type": "code",
   "execution_count": 65,
   "metadata": {},
   "outputs": [
    {
     "name": "stdout",
     "output_type": "stream",
     "text": [
      "1\n",
      "2\n",
      "3\n",
      "4\n",
      "5\n"
     ]
    }
   ],
   "source": [
    "# for loopはPythonに似たような感じの使い方ができる。\n",
    "# コロンは必要ない\n",
    "for i = 1:5\n",
    "    println(i)\n",
    "end"
   ]
  },
  {
   "cell_type": "code",
   "execution_count": 66,
   "metadata": {},
   "outputs": [
    {
     "name": "stdout",
     "output_type": "stream",
     "text": [
      "apple\n",
      "banana\n",
      "orange\n"
     ]
    }
   ],
   "source": [
    "# iterableであればいいので、配列のループも可能\n",
    "fruits = [\"apple\", \"banana\", \"orange\"]\n",
    "for i in fruits\n",
    "    println(i)\n",
    "end"
   ]
  },
  {
   "cell_type": "code",
   "execution_count": 67,
   "metadata": {},
   "outputs": [
    {
     "name": "stdout",
     "output_type": "stream",
     "text": [
      "apple\n",
      "banana\n",
      "orange\n"
     ]
    }
   ],
   "source": [
    "# タプルも可能\n",
    "fruits = (\"apple\", \"banana\", \"orange\")\n",
    "for i in fruits\n",
    "    println(i)\n",
    "end"
   ]
  },
  {
   "cell_type": "code",
   "execution_count": 68,
   "metadata": {},
   "outputs": [
    {
     "name": "stdout",
     "output_type": "stream",
     "text": [
      "orange は 3 個あります\n",
      "banana は 2 個あります\n",
      "apple は 1 個あります\n"
     ]
    }
   ],
   "source": [
    "# 辞書も可能\n",
    "fruits = Dict(\"apple\" => 1, \"banana\" => 2, \"orange\" => 3)\n",
    "\n",
    "# 変数の部分にカッコをつけないとエラー\n",
    "for (k, v) in fruits\n",
    "    println(\"$k は $v 個あります\")\n",
    "end"
   ]
  },
  {
   "cell_type": "code",
   "execution_count": 69,
   "metadata": {},
   "outputs": [
    {
     "name": "stdout",
     "output_type": "stream",
     "text": [
      "a\n",
      "p\n",
      "p\n",
      "l\n",
      "e\n"
     ]
    }
   ],
   "source": [
    "# 文字列のループも可能\n",
    "#Pythonと同じ\n",
    "apple = \"apple\"\n",
    "for i in apple\n",
    "    println(i)\n",
    "end"
   ]
  },
  {
   "cell_type": "markdown",
   "metadata": {},
   "source": [
    "## 特殊なループ"
   ]
  },
  {
   "cell_type": "code",
   "execution_count": 70,
   "metadata": {},
   "outputs": [
    {
     "name": "stdout",
     "output_type": "stream",
     "text": [
      "(1, 2)\n",
      "(1, 3)\n",
      "(2, 2)\n",
      "(2, 3)\n"
     ]
    }
   ],
   "source": [
    "# 2つ以上の配列のループ\n",
    "# Pythonだと2重ループにする必要があるが、一行で済む。\n",
    "for i = 1:2, j = 2:3\n",
    "    println((i, j))\n",
    "end"
   ]
  },
  {
   "cell_type": "code",
   "execution_count": 71,
   "metadata": {},
   "outputs": [
    {
     "name": "stdout",
     "output_type": "stream",
     "text": [
      "(1, 2)\n",
      "(1, 3)\n",
      "(1, 4)\n",
      "(1, 5)\n",
      "(2, 2)\n",
      "(2, 3)\n",
      "(2, 4)\n",
      "(2, 5)\n"
     ]
    }
   ],
   "source": [
    "# それぞれの配列の要素の数が異なっていても良い\n",
    "for i = 1:2, j = 2:5\n",
    "    println((i, j))\n",
    "end"
   ]
  },
  {
   "cell_type": "code",
   "execution_count": 72,
   "metadata": {},
   "outputs": [
    {
     "name": "stdout",
     "output_type": "stream",
     "text": [
      "(1, 3)\n",
      "(2, 4)\n"
     ]
    }
   ],
   "source": [
    "# 同時にループを回したい場合は、zip関数を使う\n",
    "# Pythonと同じ\n",
    "for (i, j) in zip(1:2, 3:4)\n",
    "    println((i, j))\n",
    "end"
   ]
  },
  {
   "cell_type": "markdown",
   "metadata": {},
   "source": [
    "## 内包表記"
   ]
  },
  {
   "cell_type": "code",
   "execution_count": 73,
   "metadata": {},
   "outputs": [
    {
     "name": "stdout",
     "output_type": "stream",
     "text": [
      "[\"apple\", \"banana\", \"orange\"]\n"
     ]
    }
   ],
   "source": [
    "#Example1\n",
    "fruits = [i for i in [\"apple\", \"banana\", \"orange\"]]\n",
    "println(fruits)"
   ]
  },
  {
   "cell_type": "code",
   "execution_count": 74,
   "metadata": {},
   "outputs": [
    {
     "data": {
      "text/plain": [
       "100×100 Array{Int64,2}:\n",
       " 102  103  104  105  106  107  108  109  …  195  196  197  198  199  200  201\n",
       " 103  104  105  106  107  108  109  110     196  197  198  199  200  201  202\n",
       " 104  105  106  107  108  109  110  111     197  198  199  200  201  202  203\n",
       " 105  106  107  108  109  110  111  112     198  199  200  201  202  203  204\n",
       " 106  107  108  109  110  111  112  113     199  200  201  202  203  204  205\n",
       " 107  108  109  110  111  112  113  114  …  200  201  202  203  204  205  206\n",
       " 108  109  110  111  112  113  114  115     201  202  203  204  205  206  207\n",
       " 109  110  111  112  113  114  115  116     202  203  204  205  206  207  208\n",
       " 110  111  112  113  114  115  116  117     203  204  205  206  207  208  209\n",
       " 111  112  113  114  115  116  117  118     204  205  206  207  208  209  210\n",
       " 112  113  114  115  116  117  118  119  …  205  206  207  208  209  210  211\n",
       " 113  114  115  116  117  118  119  120     206  207  208  209  210  211  212\n",
       " 114  115  116  117  118  119  120  121     207  208  209  210  211  212  213\n",
       "   ⋮                        ⋮            ⋱              ⋮                    \n",
       " 190  191  192  193  194  195  196  197     283  284  285  286  287  288  289\n",
       " 191  192  193  194  195  196  197  198     284  285  286  287  288  289  290\n",
       " 192  193  194  195  196  197  198  199  …  285  286  287  288  289  290  291\n",
       " 193  194  195  196  197  198  199  200     286  287  288  289  290  291  292\n",
       " 194  195  196  197  198  199  200  201     287  288  289  290  291  292  293\n",
       " 195  196  197  198  199  200  201  202     288  289  290  291  292  293  294\n",
       " 196  197  198  199  200  201  202  203     289  290  291  292  293  294  295\n",
       " 197  198  199  200  201  202  203  204  …  290  291  292  293  294  295  296\n",
       " 198  199  200  201  202  203  204  205     291  292  293  294  295  296  297\n",
       " 199  200  201  202  203  204  205  206     292  293  294  295  296  297  298\n",
       " 200  201  202  203  204  205  206  207     293  294  295  296  297  298  299\n",
       " 201  202  203  204  205  206  207  208     294  295  296  297  298  299  300"
      ]
     },
     "execution_count": 74,
     "metadata": {},
     "output_type": "execute_result"
    }
   ],
   "source": [
    "# 2重の内包表記\n",
    "fruits_num = [i + j for i in 1:100, j in 101:200]"
   ]
  },
  {
   "cell_type": "markdown",
   "metadata": {},
   "source": [
    "## Compound Expression"
   ]
  },
  {
   "cell_type": "code",
   "execution_count": 2,
   "metadata": {},
   "outputs": [
    {
     "data": {
      "text/plain": [
       "2-element Array{String,1}:\n",
       " \"apple\" \n",
       " \"orange\""
      ]
     },
     "execution_count": 2,
     "metadata": {},
     "output_type": "execute_result"
    }
   ],
   "source": [
    "#複数の式の計算を１つにまとめる\n",
    "fruits = begin\n",
    "    apple = \"apple\"\n",
    "    orange = \"orange\"\n",
    "    [apple, orange]\n",
    "end"
   ]
  },
  {
   "cell_type": "code",
   "execution_count": 3,
   "metadata": {},
   "outputs": [
    {
     "data": {
      "text/plain": [
       "2-element Array{String,1}:\n",
       " \"apple\" \n",
       " \"orange\""
      ]
     },
     "execution_count": 3,
     "metadata": {},
     "output_type": "execute_result"
    }
   ],
   "source": [
    "# 「;」でもOK\n",
    "z = (apple = \"apple\"; orange = \"orange\"; [apple, orange])"
   ]
  },
  {
   "cell_type": "markdown",
   "metadata": {},
   "source": [
    "## if"
   ]
  },
  {
   "cell_type": "code",
   "execution_count": 4,
   "metadata": {},
   "outputs": [
    {
     "data": {
      "text/plain": [
       "if_example (generic function with 1 method)"
      ]
     },
     "execution_count": 4,
     "metadata": {},
     "output_type": "execute_result"
    }
   ],
   "source": [
    "# if文の書き方はPythonと同じ、elseifだけ違う\n",
    "# Pythonと異なりコロンがいらない\n",
    "function if_example(x, y)\n",
    "    if x < y\n",
    "        println(\"x : $x は y : $y よりも小さい\")\n",
    "    elseif x > y\n",
    "        println(\"x : $x は y : $y よりも大きい\")\n",
    "    else\n",
    "        println(\"x : $x と y : $y は等しい\")\n",
    "    end\n",
    "end"
   ]
  },
  {
   "cell_type": "code",
   "execution_count": 5,
   "metadata": {},
   "outputs": [
    {
     "name": "stdout",
     "output_type": "stream",
     "text": [
      "x : 100 は y : 1 よりも大きい\n"
     ]
    }
   ],
   "source": [
    "if_example(100, 1)"
   ]
  },
  {
   "cell_type": "code",
   "execution_count": 6,
   "metadata": {},
   "outputs": [
    {
     "name": "stdout",
     "output_type": "stream",
     "text": [
      "FizzBuzz\n"
     ]
    }
   ],
   "source": [
    "# このような書き方もOK\n",
    "N = 15\n",
    "if (N % 3 == 0) & (N % 5 == 0)\n",
    "    println(\"FizzBuzz\")\n",
    "end"
   ]
  },
  {
   "cell_type": "markdown",
   "metadata": {},
   "source": [
    "## 三項演算子"
   ]
  },
  {
   "cell_type": "markdown",
   "metadata": {},
   "source": [
    "a ? b : cは\n",
    "\n",
    "if a, b else c  end\n",
    "\n",
    "を表す"
   ]
  },
  {
   "cell_type": "code",
   "execution_count": 7,
   "metadata": {},
   "outputs": [
    {
     "data": {
      "text/plain": [
       "10"
      ]
     },
     "execution_count": 7,
     "metadata": {},
     "output_type": "execute_result"
    }
   ],
   "source": [
    "# Example\n",
    "x = (10 > 5) ? 10 : 5"
   ]
  },
  {
   "cell_type": "code",
   "execution_count": 8,
   "metadata": {},
   "outputs": [
    {
     "name": "stdout",
     "output_type": "stream",
     "text": [
      "false\n"
     ]
    }
   ],
   "source": [
    "# 出力を返すときにも使える\n",
    "println(10 < 5 ? \"true\" : \"false\")"
   ]
  },
  {
   "cell_type": "code",
   "execution_count": 9,
   "metadata": {},
   "outputs": [
    {
     "data": {
      "text/plain": [
       "example (generic function with 1 method)"
      ]
     },
     "execution_count": 9,
     "metadata": {},
     "output_type": "execute_result"
    }
   ],
   "source": [
    "# 三項演算子でif-elseif-elseみたいなこともできる\n",
    "example(x, y) = println(x < y ? \"$x は $y よりも小さい(if)\" :\n",
    "                        x > y ? \"$x は $y よりも大きい(elseif)\" : \"$x と $y は等しい\")"
   ]
  },
  {
   "cell_type": "code",
   "execution_count": 10,
   "metadata": {},
   "outputs": [
    {
     "name": "stdout",
     "output_type": "stream",
     "text": [
      "100 は 1 よりも大きい(elseif)\n"
     ]
    }
   ],
   "source": [
    "example(100,1)"
   ]
  },
  {
   "cell_type": "code",
   "execution_count": 11,
   "metadata": {},
   "outputs": [
    {
     "name": "stdout",
     "output_type": "stream",
     "text": [
      "2 は 5 よりも小さい(if)\n"
     ]
    }
   ],
   "source": [
    "example(2,5)"
   ]
  },
  {
   "cell_type": "code",
   "execution_count": 12,
   "metadata": {},
   "outputs": [
    {
     "name": "stdout",
     "output_type": "stream",
     "text": [
      "3 と 3 は等しい\n"
     ]
    }
   ],
   "source": [
    "example(3,3)"
   ]
  },
  {
   "cell_type": "markdown",
   "metadata": {},
   "source": [
    "## &と&&の違い"
   ]
  },
  {
   "cell_type": "code",
   "execution_count": 13,
   "metadata": {},
   "outputs": [
    {
     "name": "stdout",
     "output_type": "stream",
     "text": [
      "apple => 1\n",
      "orange => 2\n"
     ]
    },
    {
     "data": {
      "text/plain": [
       "false"
      ]
     },
     "execution_count": 13,
     "metadata": {},
     "output_type": "execute_result"
    }
   ],
   "source": [
    "# この２つはどちらも、「２つの条件がともに真の時、trueを返す」が、挙動が違う\n",
    "# 以下は、果物の個数を出力した後にtrueとfalseをそれぞれ返す関数\n",
    "apple_true(x) = (println(\"apple => $x\"); true)\n",
    "orange_false(x) = (println(\"orange => $x\"); false)\n",
    "\n",
    "apple_true(1) & orange_false(2)"
   ]
  },
  {
   "cell_type": "code",
   "execution_count": 14,
   "metadata": {},
   "outputs": [
    {
     "name": "stdout",
     "output_type": "stream",
     "text": [
      "orange => 2\n",
      "apple => 1\n"
     ]
    },
    {
     "data": {
      "text/plain": [
       "false"
      ]
     },
     "execution_count": 14,
     "metadata": {},
     "output_type": "execute_result"
    }
   ],
   "source": [
    "# &では、一つ目の要素がtrueでもfalseでも両方評価\n",
    "# そのため、一つ目がfalseを返しても、二つ目も評価する\n",
    "orange_false(2) & apple_true(1)"
   ]
  },
  {
   "cell_type": "code",
   "execution_count": 15,
   "metadata": {},
   "outputs": [
    {
     "name": "stdout",
     "output_type": "stream",
     "text": [
      "apple => 1\n",
      "orange => 2\n"
     ]
    },
    {
     "data": {
      "text/plain": [
       "false"
      ]
     },
     "execution_count": 15,
     "metadata": {},
     "output_type": "execute_result"
    }
   ],
   "source": [
    "# これは&と同じ挙動\n",
    "apple_true(1) && orange_false(2)"
   ]
  },
  {
   "cell_type": "code",
   "execution_count": 16,
   "metadata": {},
   "outputs": [
    {
     "name": "stdout",
     "output_type": "stream",
     "text": [
      "orange => 2\n"
     ]
    },
    {
     "data": {
      "text/plain": [
       "false"
      ]
     },
     "execution_count": 16,
     "metadata": {},
     "output_type": "execute_result"
    }
   ],
   "source": [
    "# &&では、一つ目の要素を評価してfalseであればそこで評価を止める\n",
    "# 以下のコードでは、二つ目の評価を行わない\n",
    "orange_false(2) && apple_true(1)"
   ]
  },
  {
   "cell_type": "markdown",
   "metadata": {},
   "source": [
    "## |と||の違い"
   ]
  },
  {
   "cell_type": "code",
   "execution_count": 17,
   "metadata": {},
   "outputs": [
    {
     "name": "stdout",
     "output_type": "stream",
     "text": [
      "apple => 1\n",
      "orange => 2\n"
     ]
    },
    {
     "data": {
      "text/plain": [
       "true"
      ]
     },
     "execution_count": 17,
     "metadata": {},
     "output_type": "execute_result"
    }
   ],
   "source": [
    "# この２つはどちらも、「２つの条件のどちらかが真の時、trueを返すが、挙動が違う\n",
    "\n",
    "# 以下は、一つ目がtrueの場合、2つ目を評価する必要がないのに、評価しています。\n",
    "apple_true(1) | orange_false(2)"
   ]
  },
  {
   "cell_type": "code",
   "execution_count": 18,
   "metadata": {},
   "outputs": [
    {
     "name": "stdout",
     "output_type": "stream",
     "text": [
      "apple => 1\n"
     ]
    },
    {
     "data": {
      "text/plain": [
       "true"
      ]
     },
     "execution_count": 18,
     "metadata": {},
     "output_type": "execute_result"
    }
   ],
   "source": [
    "# これが「||」の場合だと、二つ目を評価しない\n",
    "apple_true(1) || orange_false(2)"
   ]
  },
  {
   "cell_type": "markdown",
   "metadata": {},
   "source": [
    "## 関数の定義"
   ]
  },
  {
   "cell_type": "code",
   "execution_count": 19,
   "metadata": {},
   "outputs": [
    {
     "data": {
      "text/plain": [
       "say_name (generic function with 1 method)"
      ]
     },
     "execution_count": 19,
     "metadata": {},
     "output_type": "execute_result"
    }
   ],
   "source": [
    "# Juliaではfunction～endで関数を定義する\n",
    "function say_name(name)\n",
    "    println(\"$name\")\n",
    "end"
   ]
  },
  {
   "cell_type": "code",
   "execution_count": 20,
   "metadata": {},
   "outputs": [
    {
     "name": "stdout",
     "output_type": "stream",
     "text": [
      "banana\n"
     ]
    }
   ],
   "source": [
    "say_name(\"banana\")"
   ]
  },
  {
   "cell_type": "markdown",
   "metadata": {},
   "source": [
    "## 代入形式での関数の定義"
   ]
  },
  {
   "cell_type": "code",
   "execution_count": 21,
   "metadata": {},
   "outputs": [
    {
     "data": {
      "text/plain": [
       "say_name_oneline (generic function with 1 method)"
      ]
     },
     "execution_count": 21,
     "metadata": {},
     "output_type": "execute_result"
    }
   ],
   "source": [
    "# ワンライナーで関数宣言も可能\n",
    "say_name_oneline(name) = println(\"$name\")"
   ]
  },
  {
   "cell_type": "code",
   "execution_count": 22,
   "metadata": {},
   "outputs": [
    {
     "name": "stdout",
     "output_type": "stream",
     "text": [
      "banana\n"
     ]
    }
   ],
   "source": [
    "say_name_oneline(\"banana\")"
   ]
  },
  {
   "cell_type": "code",
   "execution_count": 23,
   "metadata": {},
   "outputs": [
    {
     "data": {
      "text/plain": [
       "say_name_lines (generic function with 1 method)"
      ]
     },
     "execution_count": 23,
     "metadata": {},
     "output_type": "execute_result"
    }
   ],
   "source": [
    "# 複数行でもOK\n",
    "say_name_lines(name) = begin\n",
    "    output = name \n",
    "    println(output)\n",
    "end"
   ]
  },
  {
   "cell_type": "code",
   "execution_count": 24,
   "metadata": {},
   "outputs": [
    {
     "name": "stdout",
     "output_type": "stream",
     "text": [
      "orange\n"
     ]
    }
   ],
   "source": [
    "say_name_lines(\"orange\")"
   ]
  },
  {
   "cell_type": "markdown",
   "metadata": {},
   "source": [
    "## 無名関数"
   ]
  },
  {
   "cell_type": "code",
   "execution_count": 25,
   "metadata": {},
   "outputs": [
    {
     "data": {
      "text/plain": [
       "#3 (generic function with 1 method)"
      ]
     },
     "execution_count": 25,
     "metadata": {},
     "output_type": "execute_result"
    }
   ],
   "source": [
    "# pythonでのlambdaみたいな\n",
    "say_name_anonymous = name -> println(\"$name\")"
   ]
  },
  {
   "cell_type": "code",
   "execution_count": 26,
   "metadata": {},
   "outputs": [
    {
     "name": "stdout",
     "output_type": "stream",
     "text": [
      "banana\n"
     ]
    }
   ],
   "source": [
    "say_name_anonymous(\"banana\")"
   ]
  },
  {
   "cell_type": "markdown",
   "metadata": {},
   "source": [
    "## return"
   ]
  },
  {
   "cell_type": "code",
   "execution_count": 27,
   "metadata": {},
   "outputs": [
    {
     "name": "stdout",
     "output_type": "stream",
     "text": [
      "15\n"
     ]
    }
   ],
   "source": [
    "# juliaではdefaultで、一番最後に評価した値を返す\n",
    "# return文を使わなくても値を返す\n",
    "\n",
    "function sample(x, y)\n",
    "    x + y\n",
    "end\n",
    "\n",
    "# return使わないけど値は返ってくる\n",
    "value = sample(5, 10)\n",
    "println(value)"
   ]
  },
  {
   "cell_type": "code",
   "execution_count": 28,
   "metadata": {},
   "outputs": [
    {
     "name": "stdout",
     "output_type": "stream",
     "text": [
      "50\n"
     ]
    }
   ],
   "source": [
    "# returnを使うとそこで強制的に値を返す\n",
    "function sample_return(x, y)\n",
    "    return x * y\n",
    "    x + y\n",
    "end\n",
    "\n",
    "value = sample_return(5, 10)\n",
    "println(value)"
   ]
  },
  {
   "cell_type": "code",
   "execution_count": 29,
   "metadata": {},
   "outputs": [
    {
     "data": {
      "text/plain": [
       "fizzbuzz (generic function with 1 method)"
      ]
     },
     "execution_count": 29,
     "metadata": {},
     "output_type": "execute_result"
    }
   ],
   "source": [
    "# returnで値を返すとそれ以降の処理をしない\n",
    "function fizzbuzz(x)\n",
    "    if x % 3 == 0 && x % 5 == 0\n",
    "        return \"fizzbuzz\"\n",
    "    elseif x % 3 == 0\n",
    "        return \"fizz\"\n",
    "    elseif x % 5 == 0\n",
    "        return \"buzz\"\n",
    "    else\n",
    "        return \"\"\n",
    "    end\n",
    "end"
   ]
  },
  {
   "cell_type": "code",
   "execution_count": 30,
   "metadata": {},
   "outputs": [
    {
     "data": {
      "text/plain": [
       "\"fizzbuzz\""
      ]
     },
     "execution_count": 30,
     "metadata": {},
     "output_type": "execute_result"
    }
   ],
   "source": [
    "fizzbuzz(15)"
   ]
  },
  {
   "cell_type": "markdown",
   "metadata": {},
   "source": [
    "## operatorを利用した関数"
   ]
  },
  {
   "cell_type": "code",
   "execution_count": 31,
   "metadata": {},
   "outputs": [
    {
     "data": {
      "text/plain": [
       "6"
      ]
     },
     "execution_count": 31,
     "metadata": {},
     "output_type": "execute_result"
    }
   ],
   "source": [
    "# こんなことできる\n",
    "+(1, 2, 3)"
   ]
  },
  {
   "cell_type": "code",
   "execution_count": 32,
   "metadata": {},
   "outputs": [
    {
     "data": {
      "text/plain": [
       "24"
      ]
     },
     "execution_count": 32,
     "metadata": {},
     "output_type": "execute_result"
    }
   ],
   "source": [
    "# juliaでは、ほとんどのoperatorが関数として特別なsytaxをサポートしている\n",
    "*(1, 2, 3, 4)"
   ]
  },
  {
   "cell_type": "code",
   "execution_count": 33,
   "metadata": {},
   "outputs": [
    {
     "data": {
      "text/plain": [
       "6"
      ]
     },
     "execution_count": 33,
     "metadata": {},
     "output_type": "execute_result"
    }
   ],
   "source": [
    "# これもOK\n",
    "f = +\n",
    "f(1,2,3)"
   ]
  },
  {
   "cell_type": "markdown",
   "metadata": {
    "collapsed": true
   },
   "source": [
    "# 型システム"
   ]
  },
  {
   "cell_type": "markdown",
   "metadata": {},
   "source": [
    "## 型構造"
   ]
  },
  {
   "cell_type": "code",
   "execution_count": 2,
   "metadata": {},
   "outputs": [
    {
     "data": {
      "text/plain": [
       "true"
      ]
     },
     "execution_count": 2,
     "metadata": {},
     "output_type": "execute_result"
    }
   ],
   "source": [
    "#Intは具体型\n",
    "isconcretetype(Int64)"
   ]
  },
  {
   "cell_type": "code",
   "execution_count": 4,
   "metadata": {},
   "outputs": [
    {
     "data": {
      "text/plain": [
       "false"
      ]
     },
     "execution_count": 4,
     "metadata": {},
     "output_type": "execute_result"
    }
   ],
   "source": [
    "#Integerは抽象型\n",
    "isconcretetype(Integer)"
   ]
  },
  {
   "cell_type": "code",
   "execution_count": 5,
   "metadata": {},
   "outputs": [
    {
     "data": {
      "text/plain": [
       "true"
      ]
     },
     "execution_count": 5,
     "metadata": {},
     "output_type": "execute_result"
    }
   ],
   "source": [
    "#Int型はInteger型のsubtype\n",
    "#subtype/supertypeの関係は<:を使って確認\n",
    "Int64 <: Integer"
   ]
  },
  {
   "cell_type": "code",
   "execution_count": 6,
   "metadata": {},
   "outputs": [
    {
     "data": {
      "text/plain": [
       "true"
      ]
     },
     "execution_count": 6,
     "metadata": {},
     "output_type": "execute_result"
    }
   ],
   "source": [
    "#Bool型もInteger型のsubtype\n",
    "Bool <: Integer"
   ]
  },
  {
   "cell_type": "code",
   "execution_count": 7,
   "metadata": {},
   "outputs": [
    {
     "data": {
      "text/plain": [
       "tracetype (generic function with 1 method)"
      ]
     },
     "execution_count": 7,
     "metadata": {},
     "output_type": "execute_result"
    }
   ],
   "source": [
    "#subtype/supertypeの関係を返す関数\n",
    "function tracetype(t)\n",
    "    print(t)\n",
    "    while t != supertype(t)\n",
    "        print(\" <: \")\n",
    "        t = supertype(t)\n",
    "        print(t)\n",
    "    end\n",
    "    println()\n",
    "end"
   ]
  },
  {
   "cell_type": "code",
   "execution_count": 8,
   "metadata": {},
   "outputs": [
    {
     "name": "stdout",
     "output_type": "stream",
     "text": [
      "Int64 <: Signed <: Integer <: Real <: Number <: Any\n"
     ]
    }
   ],
   "source": [
    "#Int64から上に遡る\n",
    "tracetype(Int64)"
   ]
  },
  {
   "cell_type": "code",
   "execution_count": 9,
   "metadata": {},
   "outputs": [
    {
     "name": "stdout",
     "output_type": "stream",
     "text": [
      "Bool <: Integer <: Real <: Number <: Any\n"
     ]
    }
   ],
   "source": [
    "#Boolから上に遡る\n",
    "tracetype(Bool)"
   ]
  },
  {
   "cell_type": "code",
   "execution_count": 10,
   "metadata": {},
   "outputs": [
    {
     "name": "stdout",
     "output_type": "stream",
     "text": [
      "Float64 <: AbstractFloat <: Real <: Number <: Any\n"
     ]
    }
   ],
   "source": [
    "#Float64から上に遡る\n",
    "tracetype(Float64)"
   ]
  },
  {
   "cell_type": "markdown",
   "metadata": {},
   "source": [
    "## 型パラメータ"
   ]
  },
  {
   "cell_type": "code",
   "execution_count": 11,
   "metadata": {},
   "outputs": [
    {
     "data": {
      "text/plain": [
       "Array{Int64,1}"
      ]
     },
     "execution_count": 11,
     "metadata": {},
     "output_type": "execute_result"
    }
   ],
   "source": [
    "#[1,2,3]はInt64型を要素とする一次元配列であることを示す\n",
    "typeof([1,2,3])"
   ]
  },
  {
   "cell_type": "code",
   "execution_count": 12,
   "metadata": {},
   "outputs": [
    {
     "data": {
      "text/plain": [
       "Array{Int64,2}"
      ]
     },
     "execution_count": 12,
     "metadata": {},
     "output_type": "execute_result"
    }
   ],
   "source": [
    "#これは行列になるので二次元配列\n",
    "typeof([1 2 3])"
   ]
  },
  {
   "cell_type": "code",
   "execution_count": 13,
   "metadata": {},
   "outputs": [
    {
     "data": {
      "text/plain": [
       "Array{Int64,2}"
      ]
     },
     "execution_count": 13,
     "metadata": {},
     "output_type": "execute_result"
    }
   ],
   "source": [
    "#これも行列\n",
    "typeof([1 2 3; 4 5 6])"
   ]
  },
  {
   "cell_type": "markdown",
   "metadata": {},
   "source": [
    "## 型定義"
   ]
  },
  {
   "cell_type": "code",
   "execution_count": 14,
   "metadata": {
    "collapsed": true
   },
   "outputs": [],
   "source": [
    "#型を自分で作ることができる\n",
    "#Pythonのclassみたいな\n",
    "#\"mutable struct\"もしくは\"struct\"から始める\n",
    "mutable struct Person\n",
    "    name::String\n",
    "    age::Int\n",
    "end\n",
    "\n",
    "struct Location\n",
    "    x::Float64\n",
    "    y::Float64\n",
    "end"
   ]
  },
  {
   "cell_type": "code",
   "execution_count": 15,
   "metadata": {},
   "outputs": [
    {
     "data": {
      "text/plain": [
       "Person(\"Alice\", 24)"
      ]
     },
     "execution_count": 15,
     "metadata": {},
     "output_type": "execute_result"
    }
   ],
   "source": [
    "person = Person(\"Alice\", 24)"
   ]
  },
  {
   "cell_type": "code",
   "execution_count": 16,
   "metadata": {},
   "outputs": [
    {
     "data": {
      "text/plain": [
       "Location(2.3, 4.5)"
      ]
     },
     "execution_count": 16,
     "metadata": {},
     "output_type": "execute_result"
    }
   ],
   "source": [
    "location = Location(2.3, 4.5)"
   ]
  },
  {
   "cell_type": "code",
   "execution_count": 17,
   "metadata": {},
   "outputs": [
    {
     "data": {
      "text/plain": [
       "25"
      ]
     },
     "execution_count": 17,
     "metadata": {},
     "output_type": "execute_result"
    }
   ],
   "source": [
    "#更新もできる\n",
    "person.age += 1"
   ]
  },
  {
   "cell_type": "code",
   "execution_count": 18,
   "metadata": {},
   "outputs": [
    {
     "data": {
      "text/plain": [
       "Person(\"Alice\", 25)"
      ]
     },
     "execution_count": 18,
     "metadata": {},
     "output_type": "execute_result"
    }
   ],
   "source": [
    "person"
   ]
  },
  {
   "cell_type": "code",
   "execution_count": 19,
   "metadata": {},
   "outputs": [
    {
     "data": {
      "text/plain": [
       "(2.3, 4.5)"
      ]
     },
     "execution_count": 19,
     "metadata": {},
     "output_type": "execute_result"
    }
   ],
   "source": [
    "location.x, location.y"
   ]
  },
  {
   "cell_type": "code",
   "execution_count": 20,
   "metadata": {},
   "outputs": [
    {
     "ename": "MethodError",
     "evalue": "MethodError: no method matching +(::Location, ::Float64)\nClosest candidates are:\n  +(::Any, ::Any, !Matched::Any, !Matched::Any...) at operators.jl:502\n  +(!Matched::Bool, ::T<:AbstractFloat) where T<:AbstractFloat at bool.jl:112\n  +(!Matched::Float64, ::Float64) at float.jl:395\n  ...",
     "output_type": "error",
     "traceback": [
      "MethodError: no method matching +(::Location, ::Float64)\nClosest candidates are:\n  +(::Any, ::Any, !Matched::Any, !Matched::Any...) at operators.jl:502\n  +(!Matched::Bool, ::T<:AbstractFloat) where T<:AbstractFloat at bool.jl:112\n  +(!Matched::Float64, ::Float64) at float.jl:395\n  ...",
      "",
      "Stacktrace:",
      " [1] top-level scope at In[20]:1"
     ]
    }
   ],
   "source": [
    "#structで作られた型のフィールド値は更新できない（イミュータブルなので）\n",
    "location += 1.2"
   ]
  },
  {
   "cell_type": "markdown",
   "metadata": {},
   "source": [
    "## 多重ディスパッチ"
   ]
  },
  {
   "cell_type": "code",
   "execution_count": 21,
   "metadata": {},
   "outputs": [
    {
     "data": {
      "text/plain": [
       "add (generic function with 1 method)"
      ]
     },
     "execution_count": 21,
     "metadata": {},
     "output_type": "execute_result"
    }
   ],
   "source": [
    "#<引数>::<型>のように引数の型を指定することができる\n",
    "function add(x::Int, y::Int)\n",
    "    return x + y\n",
    "end"
   ]
  },
  {
   "cell_type": "code",
   "execution_count": 22,
   "metadata": {},
   "outputs": [
    {
     "data": {
      "text/plain": [
       "5"
      ]
     },
     "execution_count": 22,
     "metadata": {},
     "output_type": "execute_result"
    }
   ],
   "source": [
    "add(2,3)"
   ]
  },
  {
   "cell_type": "code",
   "execution_count": 23,
   "metadata": {},
   "outputs": [
    {
     "ename": "MethodError",
     "evalue": "MethodError: no method matching add(::Float64, ::Float64)",
     "output_type": "error",
     "traceback": [
      "MethodError: no method matching add(::Float64, ::Float64)",
      "",
      "Stacktrace:",
      " [1] top-level scope at In[23]:1"
     ]
    }
   ],
   "source": [
    "#型が合わないとエラー\n",
    "add(2.0,3.0)"
   ]
  },
  {
   "cell_type": "code",
   "execution_count": 24,
   "metadata": {},
   "outputs": [
    {
     "data": {
      "text/plain": [
       "add (generic function with 2 methods)"
      ]
     },
     "execution_count": 24,
     "metadata": {},
     "output_type": "execute_result"
    }
   ],
   "source": [
    "#同じ名前の関数を作る\n",
    "function add(x::Float64, y::Float64)\n",
    "    return x + y\n",
    "end"
   ]
  },
  {
   "cell_type": "code",
   "execution_count": 25,
   "metadata": {},
   "outputs": [
    {
     "data": {
      "text/plain": [
       "5.0"
      ]
     },
     "execution_count": 25,
     "metadata": {},
     "output_type": "execute_result"
    }
   ],
   "source": [
    "add(2.0,3.0)"
   ]
  },
  {
   "cell_type": "code",
   "execution_count": 26,
   "metadata": {},
   "outputs": [
    {
     "data": {
      "text/plain": [
       "5"
      ]
     },
     "execution_count": 26,
     "metadata": {},
     "output_type": "execute_result"
    }
   ],
   "source": [
    "#先に定義した関数も使えるまま\n",
    "#関数の上書きにならない\n",
    "add(2,3)"
   ]
  },
  {
   "cell_type": "markdown",
   "metadata": {},
   "source": [
    "引数の型に合わせて呼び出すメソッドが変わる　-> **多重ディスパッチ**"
   ]
  },
  {
   "cell_type": "markdown",
   "metadata": {},
   "source": [
    "## コンストラクタ"
   ]
  },
  {
   "cell_type": "code",
   "execution_count": 27,
   "metadata": {
    "collapsed": true
   },
   "outputs": [],
   "source": [
    "#Red-Green-Blueの３原色を指定して符号なし8ビット整数でエンコーディング\n",
    "struct RGB\n",
    "    r::UInt8\n",
    "    g::UInt8\n",
    "    b::UInt8\n",
    "\n",
    "    #内部コンストラクタ\n",
    "    #与えられた値が8bitで表現できるかチェック\n",
    "    function RGB(r, g, b)\n",
    "        @assert 0 <= r <= 255\n",
    "        @assert 0 <= g <= 255\n",
    "        @assert 0 <= b <= 255\n",
    "        return new(r, g, b)\n",
    "    end\n",
    "end"
   ]
  },
  {
   "cell_type": "code",
   "execution_count": 28,
   "metadata": {},
   "outputs": [
    {
     "data": {
      "text/plain": [
       "RGB(0x01, 0x02, 0x03)"
      ]
     },
     "execution_count": 28,
     "metadata": {},
     "output_type": "execute_result"
    }
   ],
   "source": [
    "RGB(1,2,3)"
   ]
  },
  {
   "cell_type": "code",
   "execution_count": 29,
   "metadata": {},
   "outputs": [
    {
     "ename": "AssertionError",
     "evalue": "AssertionError: 0 <= g <= 255",
     "output_type": "error",
     "traceback": [
      "AssertionError: 0 <= g <= 255",
      "",
      "Stacktrace:",
      " [1] RGB(::Int64, ::Int64, ::Int64) at ./In[27]:11",
      " [2] top-level scope at In[29]:1"
     ]
    }
   ],
   "source": [
    "#300は8bitで表現できないのでエラー\n",
    "RGB(1,300,3)"
   ]
  },
  {
   "cell_type": "code",
   "execution_count": 30,
   "metadata": {},
   "outputs": [
    {
     "data": {
      "text/plain": [
       "RGB"
      ]
     },
     "execution_count": 30,
     "metadata": {},
     "output_type": "execute_result"
    }
   ],
   "source": [
    "#外部コンストラクタから簡便なコンストラクタを定義\n",
    "RGB(x) = RGB(x,x,x)"
   ]
  },
  {
   "cell_type": "code",
   "execution_count": 31,
   "metadata": {},
   "outputs": [
    {
     "data": {
      "text/plain": [
       "RGB"
      ]
     },
     "execution_count": 31,
     "metadata": {},
     "output_type": "execute_result"
    }
   ],
   "source": [
    "#上のコンストラクタから新たなコンストラクタを定義\n",
    "RGB() = RGB(0)"
   ]
  },
  {
   "cell_type": "code",
   "execution_count": 32,
   "metadata": {},
   "outputs": [
    {
     "data": {
      "text/plain": [
       "(RGB(0x00, 0x00, 0x00), RGB(0x01, 0x01, 0x01), RGB(0x02, 0x03, 0x04))"
      ]
     },
     "execution_count": 32,
     "metadata": {},
     "output_type": "execute_result"
    }
   ],
   "source": [
    "#多重ディスパッチのおかげで全部OK\n",
    "RGB(), RGB(1),RGB(2,3,4)"
   ]
  },
  {
   "cell_type": "markdown",
   "metadata": {},
   "source": [
    "# メタプログラミング"
   ]
  },
  {
   "cell_type": "markdown",
   "metadata": {},
   "source": [
    "## @show"
   ]
  },
  {
   "cell_type": "code",
   "execution_count": 33,
   "metadata": {},
   "outputs": [
    {
     "data": {
      "text/plain": [
       "3.14"
      ]
     },
     "execution_count": 33,
     "metadata": {},
     "output_type": "execute_result"
    }
   ],
   "source": [
    "x = 3.14"
   ]
  },
  {
   "cell_type": "code",
   "execution_count": 34,
   "metadata": {},
   "outputs": [
    {
     "name": "stdout",
     "output_type": "stream",
     "text": [
      "x = 3.14\n"
     ]
    },
    {
     "data": {
      "text/plain": [
       "3.14"
      ]
     },
     "execution_count": 34,
     "metadata": {},
     "output_type": "execute_result"
    }
   ],
   "source": [
    "#@showは変数の値を確認してくれる\n",
    "@show x"
   ]
  },
  {
   "cell_type": "code",
   "execution_count": 35,
   "metadata": {},
   "outputs": [
    {
     "data": {
      "text/plain": [
       "insertionsort! (generic function with 1 method)"
      ]
     },
     "execution_count": 35,
     "metadata": {},
     "output_type": "execute_result"
    }
   ],
   "source": [
    "insertionsort(xs) = insertionsort!(copy(xs))\n",
    "\n",
    "function insertionsort!(xs)\n",
    "    @show xs\n",
    "    for i in 2:length(xs)\n",
    "        j = i\n",
    "        while j > 1 && xs[j-1] > xs[j]\n",
    "            xs[j-1], xs[j] = xs[j], xs[j-1]\n",
    "            j -= 1\n",
    "        end\n",
    "        @show xs\n",
    "    end\n",
    "    xs\n",
    "end"
   ]
  },
  {
   "cell_type": "code",
   "execution_count": 36,
   "metadata": {},
   "outputs": [
    {
     "name": "stdout",
     "output_type": "stream",
     "text": [
      "xs = [6, 5, 3, 1, 8, 7, 2, 4]\n",
      "xs = [5, 6, 3, 1, 8, 7, 2, 4]\n",
      "xs = [3, 5, 6, 1, 8, 7, 2, 4]\n",
      "xs = [1, 3, 5, 6, 8, 7, 2, 4]\n",
      "xs = [1, 3, 5, 6, 8, 7, 2, 4]\n",
      "xs = [1, 3, 5, 6, 7, 8, 2, 4]\n",
      "xs = [1, 2, 3, 5, 6, 7, 8, 4]\n",
      "xs = [1, 2, 3, 4, 5, 6, 7, 8]\n"
     ]
    },
    {
     "data": {
      "text/plain": [
       "8-element Array{Int64,1}:\n",
       " 1\n",
       " 2\n",
       " 3\n",
       " 4\n",
       " 5\n",
       " 6\n",
       " 7\n",
       " 8"
      ]
     },
     "execution_count": 36,
     "metadata": {},
     "output_type": "execute_result"
    }
   ],
   "source": [
    "#ソートの様子を確認できる\n",
    "insertionsort([6,5,3,1,8,7,2,4])"
   ]
  },
  {
   "cell_type": "markdown",
   "metadata": {},
   "source": [
    "## @assert"
   ]
  },
  {
   "cell_type": "code",
   "execution_count": 37,
   "metadata": {},
   "outputs": [
    {
     "data": {
      "text/plain": [
       "1"
      ]
     },
     "execution_count": 37,
     "metadata": {},
     "output_type": "execute_result"
    }
   ],
   "source": [
    "x = 1"
   ]
  },
  {
   "cell_type": "code",
   "execution_count": 38,
   "metadata": {
    "collapsed": true
   },
   "outputs": [],
   "source": [
    "#@assertは条件の真偽を確かめてくれる\n",
    "#Trueなら何も返さない\n",
    "@assert x == 1"
   ]
  },
  {
   "cell_type": "code",
   "execution_count": 39,
   "metadata": {},
   "outputs": [
    {
     "ename": "AssertionError",
     "evalue": "AssertionError: x == 2",
     "output_type": "error",
     "traceback": [
      "AssertionError: x == 2",
      "",
      "Stacktrace:",
      " [1] top-level scope at In[39]:1"
     ]
    }
   ],
   "source": [
    "#Falseならエラーを返す\n",
    "@assert x == 2"
   ]
  },
  {
   "cell_type": "markdown",
   "metadata": {},
   "source": [
    "## @time"
   ]
  },
  {
   "cell_type": "code",
   "execution_count": 40,
   "metadata": {},
   "outputs": [
    {
     "data": {
      "text/plain": [
       "2-element Array{Float64,1}:\n",
       " 0.0\n",
       " 1.0"
      ]
     },
     "execution_count": 40,
     "metadata": {},
     "output_type": "execute_result"
    }
   ],
   "source": [
    "insertionsort(xs) = insertionsort!(copy(xs))\n",
    "\n",
    "function insertionsort!(xs)\n",
    "    @inbounds for i in 2:length(xs)\n",
    "        j = i\n",
    "        while j > 1 && xs[j-1] > xs[j]\n",
    "            xs[j-1], xs[j] = xs[j], xs[j-1]\n",
    "            j -= 1\n",
    "        end\n",
    "    end\n",
    "    xs\n",
    "end\n",
    "\n",
    "insertionsort([1.0, 0.0])"
   ]
  },
  {
   "cell_type": "code",
   "execution_count": 42,
   "metadata": {
    "collapsed": true
   },
   "outputs": [],
   "source": [
    "xs = randn(10000);"
   ]
  },
  {
   "cell_type": "code",
   "execution_count": 43,
   "metadata": {},
   "outputs": [
    {
     "name": "stdout",
     "output_type": "stream",
     "text": [
      "  0.035959 seconds (6 allocations: 78.359 KiB)\n"
     ]
    }
   ],
   "source": [
    "#@timeはコードの実行時間とメモリの使用量を返してくれる\n",
    "GC.gc()\n",
    "@time insertionsort(xs);"
   ]
  },
  {
   "cell_type": "markdown",
   "metadata": {},
   "source": [
    "# モジュール"
   ]
  },
  {
   "cell_type": "code",
   "execution_count": 44,
   "metadata": {},
   "outputs": [
    {
     "data": {
      "text/plain": [
       "Main.ModFoo"
      ]
     },
     "execution_count": 44,
     "metadata": {},
     "output_type": "execute_result"
    }
   ],
   "source": [
    "#モジュールは\"module ~ end\"で定義\n",
    "#名前空間が分けられるので多重ディスパッチであっても他の関数などと衝突しない\n",
    "module ModFoo #module定義の始まり\n",
    "\n",
    "struct Foo\n",
    "    x\n",
    "end\n",
    "\n",
    "function show(x)\n",
    "    print(\"!! \" * string(x) * \" !!\")\n",
    "end\n",
    "\n",
    "end　#moduke定義の終わり"
   ]
  },
  {
   "cell_type": "code",
   "execution_count": 45,
   "metadata": {},
   "outputs": [
    {
     "data": {
      "text/plain": [
       "Main.ModFoo.Foo(\"something\")"
      ]
     },
     "execution_count": 45,
     "metadata": {},
     "output_type": "execute_result"
    }
   ],
   "source": [
    "#<モジュール名>.<型/関数名>でアクセス\n",
    "f = ModFoo.Foo(\"something\")"
   ]
  },
  {
   "cell_type": "code",
   "execution_count": 46,
   "metadata": {},
   "outputs": [
    {
     "name": "stdout",
     "output_type": "stream",
     "text": [
      "!! Main.ModFoo.Foo(\"something\") !!"
     ]
    }
   ],
   "source": [
    "ModFoo.show(f)"
   ]
  },
  {
   "cell_type": "code",
   "execution_count": 47,
   "metadata": {},
   "outputs": [
    {
     "name": "stdout",
     "output_type": "stream",
     "text": [
      "Main.ModFoo.Foo(\"something\")"
     ]
    }
   ],
   "source": [
    "#もともとあるshow関数とは衝突しない\n",
    "show(f)"
   ]
  },
  {
   "cell_type": "markdown",
   "metadata": {},
   "source": [
    "## モジュールの使い方"
   ]
  },
  {
   "cell_type": "code",
   "execution_count": 48,
   "metadata": {},
   "outputs": [
    {
     "data": {
      "text/plain": [
       "Main.Geo"
      ]
     },
     "execution_count": 48,
     "metadata": {},
     "output_type": "execute_result"
    }
   ],
   "source": [
    "#module\"Geo\"を定義\n",
    "module Geo\n",
    "\n",
    "export Point, distance, iswithin, move\n",
    "\n",
    "struct Point\n",
    "    x::Float64\n",
    "    y::Float64\n",
    "    z::Float64\n",
    "end\n",
    "\n",
    "distance(a::Point, b::Point) = sqrt(sqdist(a, b))\n",
    "\n",
    "iswithin(p::Point, c::Point, r::Real) = sqdist(p, c) <= r^2\n",
    "\n",
    "function move(p::Point, dx, dy, dz)\n",
    "    return Point(p.x + dx, p.y + dy, p.z + dz)\n",
    "end\n",
    "\n",
    "sqdist(a::Point, b::Point) = (a.x - b.x)^2 + (a.y - b.y)^2 + (a.z - b.z)^2\n",
    "\n",
    "end"
   ]
  },
  {
   "cell_type": "code",
   "execution_count": 49,
   "metadata": {
    "collapsed": true
   },
   "outputs": [],
   "source": [
    "#モジュールで定義された関数などを現在のモジュール(Main)で使いたい場合はusingを用いる\n",
    "using .Geo"
   ]
  },
  {
   "cell_type": "code",
   "execution_count": 50,
   "metadata": {},
   "outputs": [
    {
     "data": {
      "text/plain": [
       "Point(1.0, 1.0, 1.0)"
      ]
     },
     "execution_count": 50,
     "metadata": {},
     "output_type": "execute_result"
    }
   ],
   "source": [
    "#usingを用いると\"Geo.\"をつけなくてもexportで指定された値や関数を使うことができる\n",
    "po = Point(0, 0, 0)\n",
    "p1 = Point(1, 1, 1)"
   ]
  },
  {
   "cell_type": "code",
   "execution_count": 51,
   "metadata": {},
   "outputs": [
    {
     "data": {
      "text/plain": [
       "1.7320508075688772"
      ]
     },
     "execution_count": 51,
     "metadata": {},
     "output_type": "execute_result"
    }
   ],
   "source": [
    "distance(po, p1)"
   ]
  },
  {
   "cell_type": "code",
   "execution_count": 52,
   "metadata": {},
   "outputs": [
    {
     "ename": "UndefVarError",
     "evalue": "UndefVarError: sqdist not defined",
     "output_type": "error",
     "traceback": [
      "UndefVarError: sqdist not defined",
      "",
      "Stacktrace:",
      " [1] top-level scope at In[52]:1"
     ]
    }
   ],
   "source": [
    "#exportで指定されてないものは使えない\n",
    "sqdist(po, p1)"
   ]
  },
  {
   "cell_type": "code",
   "execution_count": 53,
   "metadata": {},
   "outputs": [
    {
     "data": {
      "text/plain": [
       "3.0"
      ]
     },
     "execution_count": 53,
     "metadata": {},
     "output_type": "execute_result"
    }
   ],
   "source": [
    "#exportの指定がないものは明示的にモジュールの名前を与えなくてはならない\n",
    "Geo.sqdist(po, p1)"
   ]
  },
  {
   "cell_type": "markdown",
   "metadata": {},
   "source": [
    "## パッケージ"
   ]
  },
  {
   "cell_type": "markdown",
   "metadata": {},
   "source": [
    "パッケージのインストール。ここでは関数の数値最適化パッケージをインストール"
   ]
  },
  {
   "cell_type": "code",
   "execution_count": 54,
   "metadata": {},
   "outputs": [
    {
     "name": "stdout",
     "output_type": "stream",
     "text": [
      "\u001b[32m\u001b[1m  Updating\u001b[22m\u001b[39m registry at `~/.julia/registries/General`\n",
      "\u001b[32m\u001b[1m  Updating\u001b[22m\u001b[39m git-repo `https://github.com/JuliaRegistries/General.git`\n",
      "\u001b[2K\u001b[?25h[1mFetching:\u001b[22m\u001b[39m [========================================>]  100.0 %.0 %                             ]  25.4 %\u001b[36m\u001b[1mFetching:\u001b[22m\u001b[39m [===========>                             ]  25.7 %                       ]  41.3 %=======================>                 ]  57.1 %\u001b[36m\u001b[1mFetching:\u001b[22m\u001b[39m [=============================>           ]  72.1 %    ]  87.7 %\u001b[32m\u001b[1m Resolving\u001b[22m\u001b[39m package versions...\n",
      "\u001b[32m\u001b[1m Installed\u001b[22m\u001b[39m MbedTLS ─ v0.6.6\n",
      "\u001b[32m\u001b[1m  Updating\u001b[22m\u001b[39m `~/.julia/environments/v1.0/Project.toml`\n",
      "\u001b[90m [no changes]\u001b[39m\n",
      "\u001b[32m\u001b[1m  Updating\u001b[22m\u001b[39m `~/.julia/environments/v1.0/Manifest.toml`\n",
      " \u001b[90m [739be429]\u001b[39m\u001b[93m ↑ MbedTLS v0.6.4 ⇒ v0.6.6\u001b[39m\n",
      "\u001b[32m\u001b[1m  Building\u001b[22m\u001b[39m MbedTLS → `~/.julia/packages/MbedTLS/r1Ufc/deps/build.log`\n",
      "\u001b[32m\u001b[1m Resolving\u001b[22m\u001b[39m package versions...\n",
      "\u001b[32m\u001b[1m Installed\u001b[22m\u001b[39m SortingAlgorithms ────── v0.3.1\n",
      "\u001b[32m\u001b[1m Installed\u001b[22m\u001b[39m NaNMath ──────────────── v0.3.2\n",
      "\u001b[32m\u001b[1m Installed\u001b[22m\u001b[39m PositiveFactorizations ─ v0.2.1\n",
      "\u001b[32m\u001b[1m Installed\u001b[22m\u001b[39m DiffResults ──────────── v0.0.3\n",
      "\u001b[32m\u001b[1m Installed\u001b[22m\u001b[39m SpecialFunctions ─────── v0.7.2\n",
      "\u001b[32m\u001b[1m Installed\u001b[22m\u001b[39m ForwardDiff ──────────── v0.10.1\n",
      "\u001b[32m\u001b[1m Installed\u001b[22m\u001b[39m StaticArrays ─────────── v0.9.2\n",
      "\u001b[32m\u001b[1m Installed\u001b[22m\u001b[39m Optim ────────────────── v0.17.1\n",
      "\u001b[32m\u001b[1m Installed\u001b[22m\u001b[39m URIParser ────────────── v0.4.0\n",
      "\u001b[32m\u001b[1m Installed\u001b[22m\u001b[39m DiffRules ────────────── v0.0.7\n",
      "\u001b[32m\u001b[1m Installed\u001b[22m\u001b[39m OrderedCollections ───── v1.0.2\n",
      "\u001b[32m\u001b[1m Installed\u001b[22m\u001b[39m Missings ─────────────── v0.3.1\n",
      "\u001b[32m\u001b[1m Installed\u001b[22m\u001b[39m StatsBase ────────────── v0.25.0\n",
      "\u001b[32m\u001b[1m Installed\u001b[22m\u001b[39m Calculus ─────────────── v0.4.1\n",
      "\u001b[32m\u001b[1m Installed\u001b[22m\u001b[39m DataStructures ───────── v0.14.0\n",
      "\u001b[32m\u001b[1m Installed\u001b[22m\u001b[39m CommonSubexpressions ─── v0.2.0\n",
      "\u001b[32m\u001b[1m Installed\u001b[22m\u001b[39m Parameters ───────────── v0.10.1\n",
      "\u001b[32m\u001b[1m Installed\u001b[22m\u001b[39m BinDeps ──────────────── v0.8.10\n",
      "\u001b[32m\u001b[1m Installed\u001b[22m\u001b[39m NLSolversBase ────────── v7.1.1\n",
      "\u001b[32m\u001b[1m Installed\u001b[22m\u001b[39m LineSearches ─────────── v7.0.1\n",
      "\u001b[32m\u001b[1m Installed\u001b[22m\u001b[39m DiffEqDiffTools ──────── v0.7.1\n",
      "\u001b[32m\u001b[1m  Updating\u001b[22m\u001b[39m `~/.julia/environments/v1.0/Project.toml`\n",
      " \u001b[90m [429524aa]\u001b[39m\u001b[92m + Optim v0.17.1\u001b[39m\n",
      "\u001b[32m\u001b[1m  Updating\u001b[22m\u001b[39m `~/.julia/environments/v1.0/Manifest.toml`\n",
      " \u001b[90m [9e28174c]\u001b[39m\u001b[92m + BinDeps v0.8.10\u001b[39m\n",
      " \u001b[90m [49dc2e85]\u001b[39m\u001b[92m + Calculus v0.4.1\u001b[39m\n",
      " \u001b[90m [bbf7d656]\u001b[39m\u001b[92m + CommonSubexpressions v0.2.0\u001b[39m\n",
      " \u001b[90m [864edb3b]\u001b[39m\u001b[92m + DataStructures v0.14.0\u001b[39m\n",
      " \u001b[90m [01453d9d]\u001b[39m\u001b[92m + DiffEqDiffTools v0.7.1\u001b[39m\n",
      " \u001b[90m [163ba53b]\u001b[39m\u001b[92m + DiffResults v0.0.3\u001b[39m\n",
      " \u001b[90m [b552c78f]\u001b[39m\u001b[92m + DiffRules v0.0.7\u001b[39m\n",
      " \u001b[90m [f6369f11]\u001b[39m\u001b[92m + ForwardDiff v0.10.1\u001b[39m\n",
      " \u001b[90m [d3d80556]\u001b[39m\u001b[92m + LineSearches v7.0.1\u001b[39m\n",
      " \u001b[90m [e1d29d7a]\u001b[39m\u001b[92m + Missings v0.3.1\u001b[39m\n",
      " \u001b[90m [d41bc354]\u001b[39m\u001b[92m + NLSolversBase v7.1.1\u001b[39m\n",
      " \u001b[90m [77ba4419]\u001b[39m\u001b[92m + NaNMath v0.3.2\u001b[39m\n",
      " \u001b[90m [429524aa]\u001b[39m\u001b[92m + Optim v0.17.1\u001b[39m\n",
      " \u001b[90m [bac558e1]\u001b[39m\u001b[92m + OrderedCollections v1.0.2\u001b[39m\n",
      " \u001b[90m [d96e819e]\u001b[39m\u001b[92m + Parameters v0.10.1\u001b[39m\n",
      " \u001b[90m [85a6dd25]\u001b[39m\u001b[92m + PositiveFactorizations v0.2.1\u001b[39m\n",
      " \u001b[90m [a2af1166]\u001b[39m\u001b[92m + SortingAlgorithms v0.3.1\u001b[39m\n",
      " \u001b[90m [276daf66]\u001b[39m\u001b[92m + SpecialFunctions v0.7.2\u001b[39m\n",
      " \u001b[90m [90137ffa]\u001b[39m\u001b[92m + StaticArrays v0.9.2\u001b[39m\n",
      " \u001b[90m [2913bbd2]\u001b[39m\u001b[92m + StatsBase v0.25.0\u001b[39m\n",
      " \u001b[90m [30578b45]\u001b[39m\u001b[92m + URIParser v0.4.0\u001b[39m\n",
      "\u001b[32m\u001b[1m  Building\u001b[22m\u001b[39m SpecialFunctions → `~/.julia/packages/SpecialFunctions/fvheQ/deps/build.log`\n"
     ]
    }
   ],
   "source": [
    "using Pkg\n",
    "Pkg.update()\n",
    "Pkg.add(\"Optim\")"
   ]
  },
  {
   "cell_type": "code",
   "execution_count": 55,
   "metadata": {},
   "outputs": [
    {
     "name": "stderr",
     "output_type": "stream",
     "text": [
      "┌ Info: Precompiling Optim [429524aa-4258-5aef-a3af-852621145aeb]\n",
      "└ @ Base loading.jl:1189\n"
     ]
    }
   ],
   "source": [
    "using Optim"
   ]
  },
  {
   "cell_type": "code",
   "execution_count": 56,
   "metadata": {},
   "outputs": [
    {
     "data": {
      "text/plain": [
       "func (generic function with 3 methods)"
      ]
     },
     "execution_count": 56,
     "metadata": {},
     "output_type": "execute_result"
    }
   ],
   "source": [
    "#関数の定義\n",
    "#(1,1)で最小値をとる\n",
    "func(x, a=1, b=100) = (a - x[1])^2 + b * (x[2] - x[1]^2)^2"
   ]
  },
  {
   "cell_type": "code",
   "execution_count": 57,
   "metadata": {},
   "outputs": [
    {
     "data": {
      "text/plain": [
       "Results of Optimization Algorithm\n",
       " * Algorithm: Nelder-Mead\n",
       " * Starting Point: [10.0,10.0]\n",
       " * Minimizer: [1.0000076575345525,1.0000090769441363]\n",
       " * Minimum: 3.950131e-09\n",
       " * Iterations: 103\n",
       " * Convergence: true\n",
       "   *  √(Σ(yᵢ-ȳ)²)/n < 1.0e-08: true\n",
       "   * Reached Maximum Number of Iterations: false\n",
       " * Objective Calls: 198"
      ]
     },
     "execution_count": 57,
     "metadata": {},
     "output_type": "execute_result"
    }
   ],
   "source": [
    "optimize(func,[10.0, 10.0])"
   ]
  },
  {
   "cell_type": "markdown",
   "metadata": {
    "collapsed": true
   },
   "source": [
    "## 行列の扱い方"
   ]
  },
  {
   "cell_type": "code",
   "execution_count": 1,
   "metadata": {},
   "outputs": [
    {
     "data": {
      "text/plain": [
       "4×3 Array{Float64,2}:\n",
       " 1.0  2.2  3.9\n",
       " 1.1  2.4  3.6\n",
       " 1.2  2.6  3.3\n",
       " 1.3  2.8  3.1"
      ]
     },
     "execution_count": 1,
     "metadata": {},
     "output_type": "execute_result"
    }
   ],
   "source": [
    "a = [1.0, 1.1, 1.2, 1.3]\n",
    "b = [2.2, 2.4, 2.6, 2.8]\n",
    "c = [3.9, 3.6, 3.3, 3.1]\n",
    "\n",
    "m = hcat(a,b,c)"
   ]
  },
  {
   "cell_type": "markdown",
   "metadata": {},
   "source": [
    "### 行の削除"
   ]
  },
  {
   "cell_type": "code",
   "execution_count": 2,
   "metadata": {},
   "outputs": [
    {
     "data": {
      "text/plain": [
       "3×3 Array{Float64,2}:\n",
       " 1.0  2.2  3.9\n",
       " 1.2  2.6  3.3\n",
       " 1.3  2.8  3.1"
      ]
     },
     "execution_count": 2,
     "metadata": {},
     "output_type": "execute_result"
    }
   ],
   "source": [
    "#２行目を削除\n",
    "m[1:size(m,1) .!= 2,: ]"
   ]
  },
  {
   "cell_type": "markdown",
   "metadata": {},
   "source": [
    "### 列の削除"
   ]
  },
  {
   "cell_type": "code",
   "execution_count": 3,
   "metadata": {},
   "outputs": [
    {
     "data": {
      "text/plain": [
       "4×2 Array{Float64,2}:\n",
       " 1.0  3.9\n",
       " 1.1  3.6\n",
       " 1.2  3.3\n",
       " 1.3  3.1"
      ]
     },
     "execution_count": 3,
     "metadata": {},
     "output_type": "execute_result"
    }
   ],
   "source": [
    "#２列目を削除\n",
    "m[:, 1:size(m)[2] .!= 2]"
   ]
  }
 ],
 "metadata": {
  "kernelspec": {
   "display_name": "Julia 1.0.1",
   "language": "julia",
   "name": "julia-1.0"
  },
  "language_info": {
   "file_extension": ".jl",
   "mimetype": "application/julia",
   "name": "julia",
   "version": "1.0.1"
  }
 },
 "nbformat": 4,
 "nbformat_minor": 2
}
