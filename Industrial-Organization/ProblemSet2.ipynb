{
 "cells": [
  {
   "cell_type": "code",
   "execution_count": 1,
   "metadata": {},
   "outputs": [],
   "source": [
    "import numpy as np\n",
    "import pandas as pd\n",
    "from scipy.optimize import minimize_scalar"
   ]
  },
  {
   "cell_type": "code",
   "execution_count": 2,
   "metadata": {},
   "outputs": [],
   "source": [
    "# read data from 'Data2019PS2.csv'\n",
    "data = pd.read_csv('Data2019PS2.csv', header=None)\n",
    "data[0] = data[0].astype(int)\n",
    "data[1] = data[1].astype(int)"
   ]
  },
  {
   "cell_type": "code",
   "execution_count": 3,
   "metadata": {},
   "outputs": [],
   "source": [
    "# products' charasteristics\n",
    "X = [0.01, 0.02, 0.03, 0.04, 0.05, 0.06, 0.07, 0.08, 0.09, 0.10]"
   ]
  },
  {
   "cell_type": "markdown",
   "metadata": {},
   "source": [
    "## (a)"
   ]
  },
  {
   "cell_type": "markdown",
   "metadata": {},
   "source": [
    "First, we define the function which makes `pd.DataFrame` instance with market share of each products and market share of out side options in each market.\n",
    "This method enables us to manipulate data easily."
   ]
  },
  {
   "cell_type": "code",
   "execution_count": 4,
   "metadata": {},
   "outputs": [],
   "source": [
    "def create_data(data, population):\n",
    "    \"\"\"\n",
    "    Return a `pd.DataFrame` instance with the columns of 'Characteristics', 'Market Share Ratio'\n",
    "    and 'OutSide Share Ratio'.\n",
    "    \n",
    "    Parameters\n",
    "    ========\n",
    "    data : pd.DataFrame\n",
    "        data used\n",
    "        \n",
    "    population : scalar(int)\n",
    "        Population in each market\n",
    "        \n",
    "    Returns\n",
    "    ======\n",
    "    : pd.DataFrame\n",
    "    \"\"\"\n",
    "    num_products = len(data[0])\n",
    "    num_market = len(np.unique(data.loc[:,0].values))\n",
    "    DATA = pd.DataFrame({'Market ID' : data[0],\n",
    "                                            'Product ID' : data[1],\n",
    "                                            'Market Share' : data[2],\n",
    "                                            'Characteristics' : np.ones(num_products),\n",
    "                                            'Market Share Ratio' : data[2] / population,\n",
    "                                            'OutSide Share Ratio' : np.ones(num_products)})\n",
    "    for i in range(num_products):\n",
    "        DATA.loc[i, 'Characteristics'] = X[DATA.loc[i, 'Product ID']-1]\n",
    "    outside_share = np.empty(num_market)\n",
    "    for m in range(1, num_market+1):\n",
    "        market_data = DATA[DATA['Market ID'] == m]\n",
    "        outside_share[m-1] = 1 - sum(market_data.loc[:,'Market Share Ratio'].values)\n",
    "    for i in range(num_products):\n",
    "        DATA.loc[i,'OutSide Share Ratio'] = outside_share[DATA.loc[i,'Market ID']-1]\n",
    "    return DATA"
   ]
  },
  {
   "cell_type": "code",
   "execution_count": 5,
   "metadata": {},
   "outputs": [],
   "source": [
    "# Create new `pd.DataFrame` instance, where population of each market is 1000000\n",
    "data_a = create_data(data, 1000000)"
   ]
  },
  {
   "cell_type": "code",
   "execution_count": 6,
   "metadata": {},
   "outputs": [
    {
     "data": {
      "text/html": [
       "<div>\n",
       "<style scoped>\n",
       "    .dataframe tbody tr th:only-of-type {\n",
       "        vertical-align: middle;\n",
       "    }\n",
       "\n",
       "    .dataframe tbody tr th {\n",
       "        vertical-align: top;\n",
       "    }\n",
       "\n",
       "    .dataframe thead th {\n",
       "        text-align: right;\n",
       "    }\n",
       "</style>\n",
       "<table border=\"1\" class=\"dataframe\">\n",
       "  <thead>\n",
       "    <tr style=\"text-align: right;\">\n",
       "      <th></th>\n",
       "      <th>Market ID</th>\n",
       "      <th>Product ID</th>\n",
       "      <th>Market Share</th>\n",
       "      <th>Characteristics</th>\n",
       "      <th>Market Share Ratio</th>\n",
       "      <th>OutSide Share Ratio</th>\n",
       "    </tr>\n",
       "  </thead>\n",
       "  <tbody>\n",
       "    <tr>\n",
       "      <th>0</th>\n",
       "      <td>1</td>\n",
       "      <td>1</td>\n",
       "      <td>127379.0</td>\n",
       "      <td>0.01</td>\n",
       "      <td>0.127379</td>\n",
       "      <td>0.045863</td>\n",
       "    </tr>\n",
       "    <tr>\n",
       "      <th>1</th>\n",
       "      <td>1</td>\n",
       "      <td>2</td>\n",
       "      <td>128477.0</td>\n",
       "      <td>0.02</td>\n",
       "      <td>0.128477</td>\n",
       "      <td>0.045863</td>\n",
       "    </tr>\n",
       "    <tr>\n",
       "      <th>2</th>\n",
       "      <td>1</td>\n",
       "      <td>3</td>\n",
       "      <td>132527.0</td>\n",
       "      <td>0.03</td>\n",
       "      <td>0.132527</td>\n",
       "      <td>0.045863</td>\n",
       "    </tr>\n",
       "    <tr>\n",
       "      <th>3</th>\n",
       "      <td>1</td>\n",
       "      <td>4</td>\n",
       "      <td>136916.0</td>\n",
       "      <td>0.04</td>\n",
       "      <td>0.136916</td>\n",
       "      <td>0.045863</td>\n",
       "    </tr>\n",
       "    <tr>\n",
       "      <th>4</th>\n",
       "      <td>1</td>\n",
       "      <td>6</td>\n",
       "      <td>139476.0</td>\n",
       "      <td>0.06</td>\n",
       "      <td>0.139476</td>\n",
       "      <td>0.045863</td>\n",
       "    </tr>\n",
       "  </tbody>\n",
       "</table>\n",
       "</div>"
      ],
      "text/plain": [
       "   Market ID  Product ID  Market Share  Characteristics  Market Share Ratio  \\\n",
       "0          1           1      127379.0             0.01            0.127379   \n",
       "1          1           2      128477.0             0.02            0.128477   \n",
       "2          1           3      132527.0             0.03            0.132527   \n",
       "3          1           4      136916.0             0.04            0.136916   \n",
       "4          1           6      139476.0             0.06            0.139476   \n",
       "\n",
       "   OutSide Share Ratio  \n",
       "0             0.045863  \n",
       "1             0.045863  \n",
       "2             0.045863  \n",
       "3             0.045863  \n",
       "4             0.045863  "
      ]
     },
     "execution_count": 6,
     "metadata": {},
     "output_type": "execute_result"
    }
   ],
   "source": [
    "data_a.head()"
   ]
  },
  {
   "cell_type": "markdown",
   "metadata": {},
   "source": [
    "Then, run OLS regression."
   ]
  },
  {
   "cell_type": "code",
   "execution_count": 7,
   "metadata": {},
   "outputs": [
    {
     "data": {
      "text/plain": [
       "array([0.99833562, 1.97260981])"
      ]
     },
     "execution_count": 7,
     "metadata": {},
     "output_type": "execute_result"
    }
   ],
   "source": [
    "x = np.stack([np.ones(len(data_a['Market ID'])),\n",
    "                        np.asarray(data_a.loc[:,'Characteristics'].values)],\n",
    "                       axis=1)\n",
    "y = np.log(data_a.loc[:,'Market Share Ratio'].values) - np.log(data_a.loc[:,'OutSide Share Ratio'].values)\n",
    "res = np.linalg.solve(np.dot(x.T, x), np.dot(x.T, y))\n",
    "res"
   ]
  },
  {
   "cell_type": "markdown",
   "metadata": {},
   "source": [
    "Next, let's estimate the  variance-covariance matrix."
   ]
  },
  {
   "cell_type": "code",
   "execution_count": 8,
   "metadata": {},
   "outputs": [],
   "source": [
    "residual = y - np.dot(x, res)\n",
    "var_cov = np.dot(np.dot(residual, residual), np.linalg.inv(np.dot(x.T, x))) / (len(data_a['Market ID']) - len(res))\n",
    "se1, se2 = np.sqrt(var_cov[0,0]), np.sqrt(var_cov[1,1])"
   ]
  },
  {
   "cell_type": "code",
   "execution_count": 9,
   "metadata": {},
   "outputs": [
    {
     "name": "stdout",
     "output_type": "stream",
     "text": [
      "0.00022753322270299025\n",
      "0.003687366082569901\n"
     ]
    }
   ],
   "source": [
    "print(se1)\n",
    "print(se2)"
   ]
  },
  {
   "cell_type": "markdown",
   "metadata": {},
   "source": [
    "Thus, the estimated parameters are\n",
    "\n",
    "\\begin{eqnarray*}\n",
    "    \\beta_0 &=& 0.99833562 \\ (se = 0.00022753322270299025) \\\\\n",
    "    \\beta_1^m &=& 1.97260981 \\  (se = 0.003687366082569901)\n",
    "\\end{eqnarray*}"
   ]
  },
  {
   "cell_type": "markdown",
   "metadata": {},
   "source": [
    "## (b)"
   ]
  },
  {
   "cell_type": "markdown",
   "metadata": {},
   "source": [
    "We can estimate $\\beta_0$ and $\\beta_1^m$ by same procedure as in (a)."
   ]
  },
  {
   "cell_type": "code",
   "execution_count": 10,
   "metadata": {},
   "outputs": [],
   "source": [
    "# Create new `pd.DataFrame` instance, where population of each market is 2000000\n",
    "data_b1 = create_data(data, 2000000)"
   ]
  },
  {
   "cell_type": "code",
   "execution_count": 11,
   "metadata": {
    "scrolled": true
   },
   "outputs": [
    {
     "data": {
      "text/html": [
       "<div>\n",
       "<style scoped>\n",
       "    .dataframe tbody tr th:only-of-type {\n",
       "        vertical-align: middle;\n",
       "    }\n",
       "\n",
       "    .dataframe tbody tr th {\n",
       "        vertical-align: top;\n",
       "    }\n",
       "\n",
       "    .dataframe thead th {\n",
       "        text-align: right;\n",
       "    }\n",
       "</style>\n",
       "<table border=\"1\" class=\"dataframe\">\n",
       "  <thead>\n",
       "    <tr style=\"text-align: right;\">\n",
       "      <th></th>\n",
       "      <th>Market ID</th>\n",
       "      <th>Product ID</th>\n",
       "      <th>Market Share</th>\n",
       "      <th>Characteristics</th>\n",
       "      <th>Market Share Ratio</th>\n",
       "      <th>OutSide Share Ratio</th>\n",
       "    </tr>\n",
       "  </thead>\n",
       "  <tbody>\n",
       "    <tr>\n",
       "      <th>0</th>\n",
       "      <td>1</td>\n",
       "      <td>1</td>\n",
       "      <td>127379.0</td>\n",
       "      <td>0.01</td>\n",
       "      <td>0.063689</td>\n",
       "      <td>0.522932</td>\n",
       "    </tr>\n",
       "    <tr>\n",
       "      <th>1</th>\n",
       "      <td>1</td>\n",
       "      <td>2</td>\n",
       "      <td>128477.0</td>\n",
       "      <td>0.02</td>\n",
       "      <td>0.064239</td>\n",
       "      <td>0.522932</td>\n",
       "    </tr>\n",
       "    <tr>\n",
       "      <th>2</th>\n",
       "      <td>1</td>\n",
       "      <td>3</td>\n",
       "      <td>132527.0</td>\n",
       "      <td>0.03</td>\n",
       "      <td>0.066264</td>\n",
       "      <td>0.522932</td>\n",
       "    </tr>\n",
       "    <tr>\n",
       "      <th>3</th>\n",
       "      <td>1</td>\n",
       "      <td>4</td>\n",
       "      <td>136916.0</td>\n",
       "      <td>0.04</td>\n",
       "      <td>0.068458</td>\n",
       "      <td>0.522932</td>\n",
       "    </tr>\n",
       "    <tr>\n",
       "      <th>4</th>\n",
       "      <td>1</td>\n",
       "      <td>6</td>\n",
       "      <td>139476.0</td>\n",
       "      <td>0.06</td>\n",
       "      <td>0.069738</td>\n",
       "      <td>0.522932</td>\n",
       "    </tr>\n",
       "  </tbody>\n",
       "</table>\n",
       "</div>"
      ],
      "text/plain": [
       "   Market ID  Product ID  Market Share  Characteristics  Market Share Ratio  \\\n",
       "0          1           1      127379.0             0.01            0.063689   \n",
       "1          1           2      128477.0             0.02            0.064239   \n",
       "2          1           3      132527.0             0.03            0.066264   \n",
       "3          1           4      136916.0             0.04            0.068458   \n",
       "4          1           6      139476.0             0.06            0.069738   \n",
       "\n",
       "   OutSide Share Ratio  \n",
       "0             0.522932  \n",
       "1             0.522932  \n",
       "2             0.522932  \n",
       "3             0.522932  \n",
       "4             0.522932  "
      ]
     },
     "execution_count": 11,
     "metadata": {},
     "output_type": "execute_result"
    }
   ],
   "source": [
    "data_b1.head()"
   ]
  },
  {
   "cell_type": "code",
   "execution_count": 12,
   "metadata": {},
   "outputs": [
    {
     "data": {
      "text/plain": [
       "array([-2.16959252,  1.85755471])"
      ]
     },
     "execution_count": 12,
     "metadata": {},
     "output_type": "execute_result"
    }
   ],
   "source": [
    "# Run OLS regression\n",
    "x = np.stack([np.ones(len(data_b1['Market ID'])),\n",
    "                        np.asarray(data_b1.loc[:,'Characteristics'].values)],\n",
    "                       axis=1)\n",
    "y = np.log(data_b1.loc[:,'Market Share Ratio'].values) - np.log(data_b1.loc[:,'OutSide Share Ratio'].values)\n",
    "res = np.linalg.solve(np.dot(x.T, x), np.dot(x.T, y))\n",
    "res"
   ]
  },
  {
   "cell_type": "code",
   "execution_count": 13,
   "metadata": {},
   "outputs": [],
   "source": [
    "# Compute standard error\n",
    "residual = y - np.dot(x, res)\n",
    "var_cov = np.dot(np.dot(residual, residual), np.linalg.inv(np.dot(x.T, x))) / (len(data_a['Market ID']) - len(res))\n",
    "se1, se2 = np.sqrt(var_cov[0,0]), np.sqrt(var_cov[1,1])"
   ]
  },
  {
   "cell_type": "code",
   "execution_count": 14,
   "metadata": {},
   "outputs": [
    {
     "name": "stdout",
     "output_type": "stream",
     "text": [
      "0.0048152409225380175\n",
      "0.07803500449842635\n"
     ]
    }
   ],
   "source": [
    "print(se1)\n",
    "print(se2)"
   ]
  },
  {
   "cell_type": "markdown",
   "metadata": {},
   "source": [
    "Therefore, estimated parameters are\n",
    "\n",
    "\\begin{eqnarray*}\n",
    "    \\beta_0 &=& -2.16959252 \\  (se = 0.0048152409225380175) \\\\\n",
    "    \\beta_1^m &=& 1.85755471 \\  (se = 0.07803500449842635)\n",
    "\\end{eqnarray*}"
   ]
  },
  {
   "cell_type": "code",
   "execution_count": 15,
   "metadata": {},
   "outputs": [],
   "source": [
    "# Create new `pd.DataFrame` instance, where population of each market is 4000000\n",
    "data_b2 = create_data(data, 4000000)"
   ]
  },
  {
   "cell_type": "code",
   "execution_count": 16,
   "metadata": {},
   "outputs": [
    {
     "data": {
      "text/html": [
       "<div>\n",
       "<style scoped>\n",
       "    .dataframe tbody tr th:only-of-type {\n",
       "        vertical-align: middle;\n",
       "    }\n",
       "\n",
       "    .dataframe tbody tr th {\n",
       "        vertical-align: top;\n",
       "    }\n",
       "\n",
       "    .dataframe thead th {\n",
       "        text-align: right;\n",
       "    }\n",
       "</style>\n",
       "<table border=\"1\" class=\"dataframe\">\n",
       "  <thead>\n",
       "    <tr style=\"text-align: right;\">\n",
       "      <th></th>\n",
       "      <th>Market ID</th>\n",
       "      <th>Product ID</th>\n",
       "      <th>Market Share</th>\n",
       "      <th>Characteristics</th>\n",
       "      <th>Market Share Ratio</th>\n",
       "      <th>OutSide Share Ratio</th>\n",
       "    </tr>\n",
       "  </thead>\n",
       "  <tbody>\n",
       "    <tr>\n",
       "      <th>0</th>\n",
       "      <td>1</td>\n",
       "      <td>1</td>\n",
       "      <td>127379.0</td>\n",
       "      <td>0.01</td>\n",
       "      <td>0.031845</td>\n",
       "      <td>0.761466</td>\n",
       "    </tr>\n",
       "    <tr>\n",
       "      <th>1</th>\n",
       "      <td>1</td>\n",
       "      <td>2</td>\n",
       "      <td>128477.0</td>\n",
       "      <td>0.02</td>\n",
       "      <td>0.032119</td>\n",
       "      <td>0.761466</td>\n",
       "    </tr>\n",
       "    <tr>\n",
       "      <th>2</th>\n",
       "      <td>1</td>\n",
       "      <td>3</td>\n",
       "      <td>132527.0</td>\n",
       "      <td>0.03</td>\n",
       "      <td>0.033132</td>\n",
       "      <td>0.761466</td>\n",
       "    </tr>\n",
       "    <tr>\n",
       "      <th>3</th>\n",
       "      <td>1</td>\n",
       "      <td>4</td>\n",
       "      <td>136916.0</td>\n",
       "      <td>0.04</td>\n",
       "      <td>0.034229</td>\n",
       "      <td>0.761466</td>\n",
       "    </tr>\n",
       "    <tr>\n",
       "      <th>4</th>\n",
       "      <td>1</td>\n",
       "      <td>6</td>\n",
       "      <td>139476.0</td>\n",
       "      <td>0.06</td>\n",
       "      <td>0.034869</td>\n",
       "      <td>0.761466</td>\n",
       "    </tr>\n",
       "  </tbody>\n",
       "</table>\n",
       "</div>"
      ],
      "text/plain": [
       "   Market ID  Product ID  Market Share  Characteristics  Market Share Ratio  \\\n",
       "0          1           1      127379.0             0.01            0.031845   \n",
       "1          1           2      128477.0             0.02            0.032119   \n",
       "2          1           3      132527.0             0.03            0.033132   \n",
       "3          1           4      136916.0             0.04            0.034229   \n",
       "4          1           6      139476.0             0.06            0.034869   \n",
       "\n",
       "   OutSide Share Ratio  \n",
       "0             0.761466  \n",
       "1             0.761466  \n",
       "2             0.761466  \n",
       "3             0.761466  \n",
       "4             0.761466  "
      ]
     },
     "execution_count": 16,
     "metadata": {},
     "output_type": "execute_result"
    }
   ],
   "source": [
    "data_b2.head()"
   ]
  },
  {
   "cell_type": "code",
   "execution_count": 17,
   "metadata": {},
   "outputs": [
    {
     "data": {
      "text/plain": [
       "array([-3.23914134,  1.85350799])"
      ]
     },
     "execution_count": 17,
     "metadata": {},
     "output_type": "execute_result"
    }
   ],
   "source": [
    "# Run OLS regression\n",
    "x = np.stack([np.ones(len(data_b2['Market ID'])),\n",
    "                        np.asarray(data_b2.loc[:,'Characteristics'].values)],\n",
    "                       axis=1)\n",
    "y = np.log(data_b2.loc[:,'Market Share Ratio'].values) - np.log(data_b2.loc[:,'OutSide Share Ratio'].values)\n",
    "res = np.linalg.solve(np.dot(x.T, x), np.dot(x.T, y))\n",
    "res"
   ]
  },
  {
   "cell_type": "code",
   "execution_count": 18,
   "metadata": {},
   "outputs": [],
   "source": [
    "# Compute standard error\n",
    "residual = y - np.dot(x, res)\n",
    "var_cov = np.dot(np.dot(residual, residual), np.linalg.inv(np.dot(x.T, x))) / (len(data_a['Market ID']) - len(res))\n",
    "se1, se2 = np.sqrt(var_cov[0,0]), np.sqrt(var_cov[1,1])"
   ]
  },
  {
   "cell_type": "code",
   "execution_count": 19,
   "metadata": {},
   "outputs": [
    {
     "name": "stdout",
     "output_type": "stream",
     "text": [
      "0.0049696693169265635\n",
      "0.08053764572544997\n"
     ]
    }
   ],
   "source": [
    "print(se1)\n",
    "print(se2)"
   ]
  },
  {
   "cell_type": "markdown",
   "metadata": {},
   "source": [
    "Therefore, estimated parameters are\n",
    "\n",
    "\\begin{eqnarray*}\n",
    "    \\beta_0 &=& -3.23914134 \\  (se = 0.0049696693169265635) \\\\\n",
    "    \\beta_1^m &=& 1.85350799 \\  (se = 0.08053764572544997)\n",
    "\\end{eqnarray*}"
   ]
  },
  {
   "cell_type": "markdown",
   "metadata": {},
   "source": [
    "From all these estimations, we can see that when we change the size of population, $\\beta_1^m$ is not changed. However as we increase the number of population, $\\beta_0$ decreases. The larger population implies that the market share of outside option becomes large. In this framework, this means that the probability of choosing the product in the market decreases and the mean utility decreases. Hence, as the size of population becomes large, the level of mean utility declines, $\\beta_0$ decreases. However, the marginal utility of each products is not changed because outside option does not affect the relative probability of choosing each products, so $\\beta_1^m$ remains same value. "
   ]
  },
  {
   "cell_type": "markdown",
   "metadata": {},
   "source": [
    "## (c)"
   ]
  },
  {
   "cell_type": "markdown",
   "metadata": {},
   "source": [
    "First, create `BLP` class in order to handle the data easily."
   ]
  },
  {
   "cell_type": "code",
   "execution_count": 20,
   "metadata": {},
   "outputs": [],
   "source": [
    "class BLP:\n",
    "    \"\"\"\n",
    "    Class representing the BLP random coeeficient model.\n",
    "    All methods are suited for this homework, not BLP model in general.\n",
    "    \n",
    "    Parameters\n",
    "    ========\n",
    "    data : pd.DataFrame instance\n",
    "        The data we manipulate. The data must have the column named 'Market ID', 'Characteristics',\n",
    "        'Market Share Ratio' and 'OutSide Share Ratio'.\n",
    "        Input `data` can be created by `create_data` method.\n",
    "        \n",
    "    consumers : scalar(int)\n",
    "        The number of consumers, or simulations.\n",
    "        \n",
    "    Attributes\n",
    "    =======\n",
    "    num_products : scalar(int)\n",
    "        The number of products in the whole market.\n",
    "        \n",
    "    market_id : ndarray(int, ndim=1)\n",
    "        The array representing the market id of each product.\n",
    "        \n",
    "    num_market : scalar(int)\n",
    "        The number of markets.\n",
    "        \n",
    "    consumers : scalar(int)\n",
    "        See Parameters.\n",
    "        \n",
    "    characteristics : ndarray(float, ndim=1)\n",
    "        The array representing the characteristics of each product.\n",
    "        \n",
    "    share_ratio : ndarray(float, ndim=1)\n",
    "        The array representing the market share of each products.\n",
    "        \n",
    "    outside_ratio : ndarray(float, ndim=1)\n",
    "        The array representing the market share of outside option in the market of each products.\n",
    "        \n",
    "    nus : ndarray(float, ndim=1)\n",
    "        The array of random numbers, which follow standard normal distribution.\n",
    "        \n",
    "    delta : ndarray(float, ndim=1)\n",
    "        The array representing the optimal deltas.\n",
    "    \"\"\"\n",
    "    def __init__(self, data, consumers, seed=1):\n",
    "        self.num_products = len(data['Market ID'])\n",
    "        self.market_id = data.loc[:,'Market ID'].values\n",
    "        self.num_markets = len(np.unique(self.market_id))\n",
    "        self.consumers = consumers\n",
    "        self.characteristics = data.loc[:,'Characteristics'].values\n",
    "        self.share_ratio = np.log(data.loc[:,'Market Share Ratio'].values)\n",
    "        self.outside_ratio = np.log(data.loc[:,'OutSide Share Ratio'].values)\n",
    "        self.nus = np.random.RandomState(seed).randn(consumers)  # standard normal distribution\n",
    "        self.delta = np.empty(self.num_products)\n",
    "        \n",
    "    def _compute_deltas(self, deltas):\n",
    "        mat_deltas = np.empty((self.num_products, self.consumers))\n",
    "        for col in range(self.consumers):\n",
    "            mat_deltas[:, col] = deltas[:]\n",
    "        return mat_deltas\n",
    "    \n",
    "    def _compute_mus(self, beta):\n",
    "        mus = np.empty((self.num_products, self.consumers))\n",
    "        for row in range(self.num_products):\n",
    "            for col in range(self.consumers):\n",
    "                mus[row, col] = self.characteristics[row] * beta * self.nus[col]\n",
    "        return mus\n",
    "\n",
    "    def _compute_sjs(self, deltas, mus):\n",
    "        exp_mat = np.exp(deltas + mus)\n",
    "        mat = np.empty((self.num_products, self.consumers))\n",
    "        for m in range(1, self.num_markets+1):\n",
    "            boollist = self.market_id == m\n",
    "            mat[boollist, :] = exp_mat[boollist, :] / (np.ones(self.consumers) + np.sum(exp_mat[boollist,:], axis=0))\n",
    "        sjs = np.mean(mat, axis=1)\n",
    "        return np.log(sjs)\n",
    "    \n",
    "    def compute_opt_delta(self, beta, max_iter=10000, tol=1e-6):\n",
    "        \"\"\"\n",
    "        The method which returns optimal deltas by contraction mapping\n",
    "        \n",
    "        Parameters\n",
    "        ========\n",
    "        beta : scalar(float or int)\n",
    "            Parameter used in creating the matrix of µ`s\n",
    "            \n",
    "        Return\n",
    "        =====\n",
    "        d_old : ndarray(float)\n",
    "            Optimal delta\n",
    "        \"\"\"\n",
    "        mus = self._compute_mus(beta)\n",
    "        d_old = self.share_ratio - self.outside_ratio\n",
    "        d_new = np.empty(self.num_products)\n",
    "        distance = 1\n",
    "        for i in range(max_iter):\n",
    "            d_new[:] = d_old + self.share_ratio - self._compute_sjs(self._compute_deltas(d_old), mus)\n",
    "            distance = np.dot(d_new-d_old, d_new-d_old)\n",
    "            d_old[:] = d_new[:]\n",
    "            if distance < tol:\n",
    "                break\n",
    "\n",
    "        return d_old\n",
    "    \n",
    "    def opt_zeta(self, beta):\n",
    "        \"\"\"\n",
    "        The method which returns the GMM estimter. In this homework, GMM estimator\n",
    "        equals to the inner products of the OLS residuals.\n",
    "        \n",
    "        Parameters\n",
    "        ========\n",
    "        beta : scalar(float or int)\n",
    "            Parameter used in computing optimal delta\n",
    "            \n",
    "        Attributes\n",
    "        =======\n",
    "        : ndarray(float, ndim=1)\n",
    "            The GMM estimater\n",
    "        \"\"\"\n",
    "        deltas = self.compute_opt_delta(beta)\n",
    "        x = np.stack([np.ones(self.num_products), self.characteristics], axis=1)\n",
    "        beta_hat = np.linalg.solve(np.dot(x.T, x), np.dot(x.T, deltas))\n",
    "        residuals = deltas - np.dot(x, beta_hat)\n",
    "        self.delta = deltas\n",
    "        return np.dot(residuals, residuals)\n",
    "    \n",
    "    def opt_beta(self):\n",
    "        \"\"\"\n",
    "        The method which returns the optimal value of parameter by nonlinear search.\n",
    "        \n",
    "        Return\n",
    "        =====\n",
    "        result : ndarray(float, ndim=1)\n",
    "            The estimated parameter.\n",
    "        \"\"\"\n",
    "        result = minimize_scalar(self.opt_zeta)\n",
    "        return result"
   ]
  },
  {
   "cell_type": "markdown",
   "metadata": {},
   "source": [
    "First, we create `BLP` instance."
   ]
  },
  {
   "cell_type": "code",
   "execution_count": 21,
   "metadata": {},
   "outputs": [],
   "source": [
    "blp = BLP(data_a, 1000)"
   ]
  },
  {
   "cell_type": "markdown",
   "metadata": {},
   "source": [
    "Let's estimate the random coefficients model."
   ]
  },
  {
   "cell_type": "code",
   "execution_count": 22,
   "metadata": {},
   "outputs": [
    {
     "name": "stdout",
     "output_type": "stream",
     "text": [
      "CPU times: user 3min 36s, sys: 11.2 s, total: 3min 48s\n",
      "Wall time: 3min 47s\n"
     ]
    }
   ],
   "source": [
    "%%time\n",
    "beta_u = blp.opt_beta()"
   ]
  },
  {
   "cell_type": "code",
   "execution_count": 23,
   "metadata": {},
   "outputs": [
    {
     "data": {
      "text/plain": [
       "     fun: 0.5585584194788649\n",
       "    nfev: 21\n",
       "     nit: 17\n",
       " success: True\n",
       "       x: 1.087871182595932"
      ]
     },
     "execution_count": 23,
     "metadata": {},
     "output_type": "execute_result"
    }
   ],
   "source": [
    "# estimated \\beta_1^u\n",
    "beta_u"
   ]
  },
  {
   "cell_type": "code",
   "execution_count": 24,
   "metadata": {},
   "outputs": [
    {
     "data": {
      "text/plain": [
       "array([0.99972146, 1.93186667])"
      ]
     },
     "execution_count": 24,
     "metadata": {},
     "output_type": "execute_result"
    }
   ],
   "source": [
    "# run OLS regresion again, and get estimated \\beta_0 and \\beta_1^m\n",
    "x = np.stack([np.ones(len(data_a['Market ID'])),\n",
    "                        np.asarray(data_a.loc[:,'Characteristics'].values)],\n",
    "                       axis=1)\n",
    "y = np.log(data_a.loc[:,'Market Share Ratio'].values) - np.log(data_a.loc[:,'OutSide Share Ratio'].values)\n",
    "res = np.linalg.solve(np.dot(x.T, x), np.dot(x.T, blp.delta))\n",
    "res"
   ]
  },
  {
   "cell_type": "markdown",
   "metadata": {},
   "source": [
    "Therefore, estimated parameters are\n",
    "\n",
    "\\begin{eqnarray*}\n",
    "    \\beta_0 &=& 0.99972146 \\\\\n",
    "    \\beta_1^m &=& 1.93186667 \\\\\n",
    "    \\beta_1^u &=& 1.087871182595932\n",
    "\\end{eqnarray*}"
   ]
  },
  {
   "cell_type": "markdown",
   "metadata": {},
   "source": [
    "## (d)"
   ]
  },
  {
   "cell_type": "markdown",
   "metadata": {},
   "source": [
    "We can estimate parameters by same procedure as in (c)."
   ]
  },
  {
   "cell_type": "code",
   "execution_count": 25,
   "metadata": {},
   "outputs": [],
   "source": [
    "# create new BLP instance with first 100 markets\n",
    "data_d1 = data[data[0] < 101]\n",
    "data_d1 = create_data(data_d1, 1000000)\n",
    "blp_d1 = BLP(data_d1, 1000)"
   ]
  },
  {
   "cell_type": "code",
   "execution_count": 26,
   "metadata": {},
   "outputs": [
    {
     "name": "stdout",
     "output_type": "stream",
     "text": [
      "CPU times: user 20 s, sys: 497 ms, total: 20.5 s\n",
      "Wall time: 20.6 s\n"
     ]
    }
   ],
   "source": [
    "%%time\n",
    "beta_u = blp_d1.opt_beta()"
   ]
  },
  {
   "cell_type": "code",
   "execution_count": 27,
   "metadata": {},
   "outputs": [
    {
     "data": {
      "text/plain": [
       "     fun: 0.05742811141475579\n",
       "    nfev: 39\n",
       "     nit: 35\n",
       " success: True\n",
       "       x: 0.6733044666502929"
      ]
     },
     "execution_count": 27,
     "metadata": {},
     "output_type": "execute_result"
    }
   ],
   "source": [
    "# estimated \\beta_1^u\n",
    "beta_u"
   ]
  },
  {
   "cell_type": "code",
   "execution_count": 28,
   "metadata": {},
   "outputs": [
    {
     "data": {
      "text/plain": [
       "array([0.99922532, 1.94728431])"
      ]
     },
     "execution_count": 28,
     "metadata": {},
     "output_type": "execute_result"
    }
   ],
   "source": [
    "# run OLS regresion again, and get estimated \\beta_0 and \\beta_1^m\n",
    "x = np.stack([np.ones(len(data_d1['Market ID'])),\n",
    "                        np.asarray(data_d1.loc[:,'Characteristics'].values)],\n",
    "                       axis=1)\n",
    "y = np.log(data_d1.loc[:,'Market Share Ratio'].values) - np.log(data_d1.loc[:,'OutSide Share Ratio'].values)\n",
    "res = np.linalg.solve(np.dot(x.T, x), np.dot(x.T, blp_d1.delta))\n",
    "res"
   ]
  },
  {
   "cell_type": "markdown",
   "metadata": {},
   "source": [
    "Therefore, estimated parameters are\n",
    "\n",
    "\\begin{eqnarray*}\n",
    "    \\beta_0 &=& 0.99922532 \\\\\n",
    "    \\beta_1^m &=& 1.94728431 \\\\\n",
    "    \\beta_1^u &=& 0.6733044666502929\n",
    "\\end{eqnarray*}"
   ]
  },
  {
   "cell_type": "code",
   "execution_count": 29,
   "metadata": {},
   "outputs": [],
   "source": [
    "# create new BLP instance with first 10 markets\n",
    "data_d2 = data[data[0] < 11]\n",
    "data_d2 = create_data(data_d2, 1000000)\n",
    "blp_d2 = BLP(data_d2, 1000)"
   ]
  },
  {
   "cell_type": "code",
   "execution_count": 30,
   "metadata": {},
   "outputs": [
    {
     "name": "stdout",
     "output_type": "stream",
     "text": [
      "CPU times: user 1.02 s, sys: 4.92 ms, total: 1.02 s\n",
      "Wall time: 1.02 s\n"
     ]
    }
   ],
   "source": [
    "%%time\n",
    "beta_u = blp_d2.opt_beta()"
   ]
  },
  {
   "cell_type": "code",
   "execution_count": 31,
   "metadata": {},
   "outputs": [
    {
     "data": {
      "text/plain": [
       "     fun: 0.005198961024357971\n",
       "    nfev: 20\n",
       "     nit: 16\n",
       " success: True\n",
       "       x: 0.27076139561843504"
      ]
     },
     "execution_count": 31,
     "metadata": {},
     "output_type": "execute_result"
    }
   ],
   "source": [
    "# estimated \\beta_1^u\n",
    "beta_u"
   ]
  },
  {
   "cell_type": "code",
   "execution_count": 32,
   "metadata": {},
   "outputs": [
    {
     "data": {
      "text/plain": [
       "array([0.99698223, 1.96089766])"
      ]
     },
     "execution_count": 32,
     "metadata": {},
     "output_type": "execute_result"
    }
   ],
   "source": [
    "# run OLS regresion again, and get estimated \\beta_0 and \\beta_1^m\n",
    "x = np.stack([np.ones(len(data_d2['Market ID'])),\n",
    "                        np.asarray(data_d2.loc[:,'Characteristics'].values)],\n",
    "                       axis=1)\n",
    "y = np.log(data_d2.loc[:,'Market Share Ratio'].values) - np.log(data_d2.loc[:,'OutSide Share Ratio'].values)\n",
    "res = np.linalg.solve(np.dot(x.T, x), np.dot(x.T, blp_d2.delta))\n",
    "res"
   ]
  },
  {
   "cell_type": "markdown",
   "metadata": {},
   "source": [
    "Therefore, estimated parameters are\n",
    "\n",
    "\\begin{eqnarray*}\n",
    "    \\beta_0 &=& 0.99698223 \\\\\n",
    "    \\beta_1^m &=& 1.96089766 \\\\\n",
    "    \\beta_1^u &=& 0.27076139561843504\n",
    "\\end{eqnarray*}"
   ]
  },
  {
   "cell_type": "markdown",
   "metadata": {},
   "source": [
    "As we see from the estimations above, $\\beta_0$ and $\\beta_1^m$ remain same value, in addition these values are same with the estimation  in (a). This is because the mean utility level is same, so $\\beta_1^m$ is not changed. Furthermore, the impact of outside option is not changed because the population in the market is same, so we have same $\\beta_0$.\n",
    "However, $\\beta_1^u$ decreases as the number of sample markets decreases. $\\beta_1^u$ indicates the standard deviation of the preference parameter. Therefore, changes in $\\beta_1^u$ implies that the small number of sample size leads to underestimated value."
   ]
  }
 ],
 "metadata": {
  "@webio": {
   "lastCommId": null,
   "lastKernelId": null
  },
  "kernelspec": {
   "display_name": "Python 3",
   "language": "python",
   "name": "python3"
  },
  "language_info": {
   "codemirror_mode": {
    "name": "ipython",
    "version": 3
   },
   "file_extension": ".py",
   "mimetype": "text/x-python",
   "name": "python",
   "nbconvert_exporter": "python",
   "pygments_lexer": "ipython3",
   "version": "3.7.3"
  }
 },
 "nbformat": 4,
 "nbformat_minor": 2
}
