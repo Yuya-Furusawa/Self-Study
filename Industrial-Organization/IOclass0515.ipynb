{
 "cells": [
  {
   "cell_type": "markdown",
   "metadata": {},
   "source": [
    "# Production function estimation"
   ]
  },
  {
   "cell_type": "code",
   "execution_count": 1,
   "metadata": {},
   "outputs": [],
   "source": [
    "import numpy as np\n",
    "import pandas as pd\n",
    "from scipy.optimize import minimize"
   ]
  },
  {
   "cell_type": "markdown",
   "metadata": {},
   "source": [
    "### Data"
   ]
  },
  {
   "cell_type": "code",
   "execution_count": 2,
   "metadata": {},
   "outputs": [
    {
     "data": {
      "text/html": [
       "<div>\n",
       "<style scoped>\n",
       "    .dataframe tbody tr th:only-of-type {\n",
       "        vertical-align: middle;\n",
       "    }\n",
       "\n",
       "    .dataframe tbody tr th {\n",
       "        vertical-align: top;\n",
       "    }\n",
       "\n",
       "    .dataframe thead th {\n",
       "        text-align: right;\n",
       "    }\n",
       "</style>\n",
       "<table border=\"1\" class=\"dataframe\">\n",
       "  <thead>\n",
       "    <tr style=\"text-align: right;\">\n",
       "      <th></th>\n",
       "      <th>firm ID</th>\n",
       "      <th>year</th>\n",
       "      <th>logY</th>\n",
       "      <th>logL</th>\n",
       "      <th>logK</th>\n",
       "      <th>logM</th>\n",
       "      <th>invest</th>\n",
       "      <th>exit</th>\n",
       "    </tr>\n",
       "  </thead>\n",
       "  <tbody>\n",
       "    <tr>\n",
       "      <th>0</th>\n",
       "      <td>1</td>\n",
       "      <td>0</td>\n",
       "      <td>14.833649</td>\n",
       "      <td>4.912655</td>\n",
       "      <td>14.476757</td>\n",
       "      <td>14.756739</td>\n",
       "      <td>-9.000000</td>\n",
       "      <td>0</td>\n",
       "    </tr>\n",
       "    <tr>\n",
       "      <th>1</th>\n",
       "      <td>1</td>\n",
       "      <td>1</td>\n",
       "      <td>15.183484</td>\n",
       "      <td>5.093750</td>\n",
       "      <td>14.325154</td>\n",
       "      <td>13.311428</td>\n",
       "      <td>21.090775</td>\n",
       "      <td>0</td>\n",
       "    </tr>\n",
       "    <tr>\n",
       "      <th>2</th>\n",
       "      <td>1</td>\n",
       "      <td>2</td>\n",
       "      <td>14.071942</td>\n",
       "      <td>4.905275</td>\n",
       "      <td>14.557183</td>\n",
       "      <td>13.113793</td>\n",
       "      <td>69.504303</td>\n",
       "      <td>0</td>\n",
       "    </tr>\n",
       "    <tr>\n",
       "      <th>3</th>\n",
       "      <td>1</td>\n",
       "      <td>3</td>\n",
       "      <td>14.655201</td>\n",
       "      <td>4.672829</td>\n",
       "      <td>14.232835</td>\n",
       "      <td>13.069642</td>\n",
       "      <td>60.508053</td>\n",
       "      <td>0</td>\n",
       "    </tr>\n",
       "    <tr>\n",
       "      <th>4</th>\n",
       "      <td>1</td>\n",
       "      <td>4</td>\n",
       "      <td>13.756456</td>\n",
       "      <td>4.744932</td>\n",
       "      <td>14.266120</td>\n",
       "      <td>12.881343</td>\n",
       "      <td>25.486347</td>\n",
       "      <td>0</td>\n",
       "    </tr>\n",
       "    <tr>\n",
       "      <th>5</th>\n",
       "      <td>1</td>\n",
       "      <td>5</td>\n",
       "      <td>14.348527</td>\n",
       "      <td>4.615120</td>\n",
       "      <td>14.028557</td>\n",
       "      <td>13.121171</td>\n",
       "      <td>44.889374</td>\n",
       "      <td>0</td>\n",
       "    </tr>\n",
       "    <tr>\n",
       "      <th>6</th>\n",
       "      <td>1</td>\n",
       "      <td>6</td>\n",
       "      <td>14.498944</td>\n",
       "      <td>4.624973</td>\n",
       "      <td>14.201223</td>\n",
       "      <td>13.066875</td>\n",
       "      <td>28.312925</td>\n",
       "      <td>0</td>\n",
       "    </tr>\n",
       "    <tr>\n",
       "      <th>7</th>\n",
       "      <td>2</td>\n",
       "      <td>0</td>\n",
       "      <td>12.799171</td>\n",
       "      <td>3.465736</td>\n",
       "      <td>11.654267</td>\n",
       "      <td>12.423535</td>\n",
       "      <td>-9.000000</td>\n",
       "      <td>0</td>\n",
       "    </tr>\n",
       "    <tr>\n",
       "      <th>8</th>\n",
       "      <td>2</td>\n",
       "      <td>1</td>\n",
       "      <td>12.332752</td>\n",
       "      <td>3.555348</td>\n",
       "      <td>11.662062</td>\n",
       "      <td>12.145050</td>\n",
       "      <td>7.962585</td>\n",
       "      <td>0</td>\n",
       "    </tr>\n",
       "    <tr>\n",
       "      <th>9</th>\n",
       "      <td>2</td>\n",
       "      <td>2</td>\n",
       "      <td>12.668156</td>\n",
       "      <td>3.761200</td>\n",
       "      <td>11.795184</td>\n",
       "      <td>12.050364</td>\n",
       "      <td>3.983317</td>\n",
       "      <td>0</td>\n",
       "    </tr>\n",
       "  </tbody>\n",
       "</table>\n",
       "</div>"
      ],
      "text/plain": [
       "   firm ID  year       logY      logL       logK       logM     invest  exit\n",
       "0        1     0  14.833649  4.912655  14.476757  14.756739  -9.000000     0\n",
       "1        1     1  15.183484  5.093750  14.325154  13.311428  21.090775     0\n",
       "2        1     2  14.071942  4.905275  14.557183  13.113793  69.504303     0\n",
       "3        1     3  14.655201  4.672829  14.232835  13.069642  60.508053     0\n",
       "4        1     4  13.756456  4.744932  14.266120  12.881343  25.486347     0\n",
       "5        1     5  14.348527  4.615120  14.028557  13.121171  44.889374     0\n",
       "6        1     6  14.498944  4.624973  14.201223  13.066875  28.312925     0\n",
       "7        2     0  12.799171  3.465736  11.654267  12.423535  -9.000000     0\n",
       "8        2     1  12.332752  3.555348  11.662062  12.145050   7.962585     0\n",
       "9        2     2  12.668156  3.761200  11.795184  12.050364   3.983317     0"
      ]
     },
     "execution_count": 2,
     "metadata": {},
     "output_type": "execute_result"
    }
   ],
   "source": [
    "data = pd.read_csv('Data20190514.csv', header=None)\n",
    "data.columns = ['firm ID', 'year', 'logY', 'logL', 'logK', 'logM', 'invest', 'exit']\n",
    "data.head(10)"
   ]
  },
  {
   "cell_type": "code",
   "execution_count": 3,
   "metadata": {},
   "outputs": [
    {
     "data": {
      "text/plain": [
       "13832"
      ]
     },
     "execution_count": 3,
     "metadata": {},
     "output_type": "execute_result"
    }
   ],
   "source": [
    "num_rows = len(data['firm ID'])\n",
    "num_rows"
   ]
  },
  {
   "cell_type": "markdown",
   "metadata": {},
   "source": [
    "## OLS"
   ]
  },
  {
   "cell_type": "code",
   "execution_count": 4,
   "metadata": {},
   "outputs": [
    {
     "data": {
      "text/plain": [
       "array([5.56238117, 0.38576301, 0.74349085])"
      ]
     },
     "execution_count": 4,
     "metadata": {},
     "output_type": "execute_result"
    }
   ],
   "source": [
    "# OLS\n",
    "x = np.stack([np.ones(num_rows),\n",
    "                          np.asarray(data.loc[:, 'logK'].values),\n",
    "                          np.asarray(data.loc[:, 'logL'].values)], axis=1)\n",
    "y = np.asarray(data.loc[:, 'logY'].values)\n",
    "res = np.linalg.solve(np.dot(x.T, x), np.dot(x.T, y))\n",
    "res"
   ]
  },
  {
   "cell_type": "markdown",
   "metadata": {},
   "source": [
    "## Fixed Effect"
   ]
  },
  {
   "cell_type": "code",
   "execution_count": 5,
   "metadata": {},
   "outputs": [
    {
     "data": {
      "text/plain": [
       "array([0.03983651, 0.241837  ])"
      ]
     },
     "execution_count": 5,
     "metadata": {},
     "output_type": "execute_result"
    }
   ],
   "source": [
    "# Fixed Effect\n",
    "data.loc[:, 'logY t-1'] = data['logY'].shift()\n",
    "data.loc[:, 'logK t-1'] = data['logK'].shift()\n",
    "data.loc[:, 'logL t-1'] = data['logL'].shift()\n",
    "data_fx = data[data['year'] != 0]\n",
    "x = np.stack([data_fx.loc[:, 'logK'].values - data_fx.loc[:, 'logK t-1'].values,\n",
    "                        data_fx.loc[:, 'logL'].values - data_fx.loc[:, 'logL t-1'].values], axis=1)\n",
    "y = data_fx.loc[:, 'logY'].values - data_fx.loc[:, 'logY t-1'].values\n",
    "res = np.linalg.solve(np.dot(x.T, x), np.dot(x.T, y))\n",
    "res"
   ]
  },
  {
   "cell_type": "markdown",
   "metadata": {},
   "source": [
    "## Olley and Pakes(1996)"
   ]
  },
  {
   "cell_type": "markdown",
   "metadata": {},
   "source": [
    "### Step 1"
   ]
  },
  {
   "cell_type": "code",
   "execution_count": 6,
   "metadata": {},
   "outputs": [],
   "source": [
    "# Olley and Pakes approarch\n",
    "data.loc[:, 'i square'] = data.loc[:, 'invest'].values**2\n",
    "data.loc[:, 'k square'] = data.loc[:, 'logK'].values**2\n",
    "data.loc[:, 'i quad'] = data.loc[:, 'invest'].values**3\n",
    "data.loc[:, 'k quad'] = data.loc[:, 'logK'].values**3\n",
    "data.loc[:, 'i k'] = data.loc[:, 'invest'].values * data.loc[:, 'logK'].values\n",
    "data.loc[:, 'i2 k'] = data.loc[:, 'invest'].values**2 * data.loc[:, 'logK'].values\n",
    "data.loc[:, 'i k2'] = data.loc[:, 'invest'].values * data.loc[:, 'logK'].values**2"
   ]
  },
  {
   "cell_type": "code",
   "execution_count": 7,
   "metadata": {},
   "outputs": [
    {
     "data": {
      "text/plain": [
       "array([ 2.31582008e+01,  6.56627485e-01,  6.93829304e-02, -4.11695433e+00,\n",
       "       -1.68131304e-07,  3.75930971e-01, -9.37864655e-03,  1.35408548e-11,\n",
       "       -1.00441233e-02,  4.04384887e-08,  3.10640367e-04])"
      ]
     },
     "execution_count": 7,
     "metadata": {},
     "output_type": "execute_result"
    }
   ],
   "source": [
    "data = data[data['year'] != 0]\n",
    "num_rows = len(data['year'])\n",
    "x = np.stack([np.ones(num_rows),\n",
    "                         data.loc[:, 'logL'].values,\n",
    "                         data.loc[:, 'invest'].values,\n",
    "                         data.loc[:, 'logK'].values,\n",
    "                         data.loc[:, 'i square'].values,\n",
    "                         data.loc[:, 'k square'].values,\n",
    "                         data.loc[:, 'i k'].values,\n",
    "                         data.loc[:, 'i quad'].values,\n",
    "                         data.loc[:, 'k quad'].values,\n",
    "                         data.loc[:, 'i2 k'].values,\n",
    "                         data.loc[:, 'i k2'].values], axis=1)\n",
    "y = data.loc[:, 'logY'].values\n",
    "res = np.linalg.solve(np.dot(x.T, x), np.dot(x.T, y))\n",
    "res"
   ]
  },
  {
   "cell_type": "code",
   "execution_count": 8,
   "metadata": {},
   "outputs": [],
   "source": [
    "# Coefficient of Labor\n",
    "coef_l = res[1]"
   ]
  },
  {
   "cell_type": "markdown",
   "metadata": {},
   "source": [
    "### Step 2"
   ]
  },
  {
   "cell_type": "code",
   "execution_count": 9,
   "metadata": {},
   "outputs": [],
   "source": [
    "data.loc[:, 'y_hat'] = np.dot(x, res)\n",
    "data.loc[:, 'LHS'] = data.loc[:, 'logY'].values - data.loc[:, 'logL'].values*coef_l\n",
    "data.loc[:, 'phi'] = data.loc[:, 'y_hat'].values - data.loc[:, 'logL'].values*coef_l\n",
    "data.loc[:, 'phi t-1'] = data.loc[:, 'phi'].shift()"
   ]
  },
  {
   "cell_type": "code",
   "execution_count": 10,
   "metadata": {},
   "outputs": [],
   "source": [
    "data_op = data[data['year'] != 1]"
   ]
  },
  {
   "cell_type": "code",
   "execution_count": 11,
   "metadata": {},
   "outputs": [],
   "source": [
    "LHS = data_op.loc[:, 'LHS'].values\n",
    "logK = data_op.loc[:, 'logK'].values\n",
    "phi_t1 = data_op.loc[:, 'phi t-1'].values\n",
    "logK_t1 = data_op.loc[:, 'logK t-1'].values\n",
    "n = len(LHS)"
   ]
  },
  {
   "cell_type": "code",
   "execution_count": 12,
   "metadata": {},
   "outputs": [],
   "source": [
    "def SSR(beta):\n",
    "    total = 0\n",
    "    for i in range(n):\n",
    "        total += (LHS[i] - beta[0] - beta[1]*logK[i] \\\n",
    "                      - beta[2]*(phi_t1[i] - beta[0] - beta[1]*logK_t1[i]) \\\n",
    "                      - beta[3]*(phi_t1[i] - beta[0] - beta[1]*logK_t1[i])**2)**2\n",
    "    return total"
   ]
  },
  {
   "cell_type": "code",
   "execution_count": 13,
   "metadata": {},
   "outputs": [
    {
     "name": "stdout",
     "output_type": "stream",
     "text": [
      "CPU times: user 25.2 s, sys: 107 ms, total: 25.3 s\n",
      "Wall time: 25.5 s\n"
     ]
    }
   ],
   "source": [
    "%%time\n",
    "beta = np.ones(4)\n",
    "res = minimize(SSR, beta, method='BFGS')"
   ]
  },
  {
   "cell_type": "code",
   "execution_count": 14,
   "metadata": {},
   "outputs": [
    {
     "data": {
      "text/plain": [
       "      fun: 4178.102528602588\n",
       " hess_inv: array([[ 3.13963915e-02, -2.39725869e-03, -2.39135045e-03,\n",
       "        -1.07384495e-03],\n",
       "       [-2.39725869e-03,  3.05097238e-04, -1.00836882e-04,\n",
       "         2.52373203e-05],\n",
       "       [-2.39135045e-03, -1.00836882e-04,  1.33551319e-03,\n",
       "         7.67456255e-04],\n",
       "       [-1.07384495e-03,  2.52373203e-05,  7.67456255e-04,\n",
       "         1.22505620e-03]])\n",
       "      jac: array([ 0.00073242,  0.00091553,  0.00250244, -0.00445557])\n",
       "  message: 'Desired error not necessarily achieved due to precision loss.'\n",
       "     nfev: 725\n",
       "      nit: 45\n",
       "     njev: 119\n",
       "   status: 2\n",
       "  success: False\n",
       "        x: array([ 6.11439535,  0.40474144,  0.84183422, -0.26901726])"
      ]
     },
     "execution_count": 14,
     "metadata": {},
     "output_type": "execute_result"
    }
   ],
   "source": [
    "res"
   ]
  },
  {
   "cell_type": "markdown",
   "metadata": {},
   "source": [
    "$\\beta_k=0.40474144$"
   ]
  }
 ],
 "metadata": {
  "@webio": {
   "lastCommId": null,
   "lastKernelId": null
  },
  "kernelspec": {
   "display_name": "Python 3",
   "language": "python",
   "name": "python3"
  },
  "language_info": {
   "codemirror_mode": {
    "name": "ipython",
    "version": 3
   },
   "file_extension": ".py",
   "mimetype": "text/x-python",
   "name": "python",
   "nbconvert_exporter": "python",
   "pygments_lexer": "ipython3",
   "version": "3.7.3"
  }
 },
 "nbformat": 4,
 "nbformat_minor": 2
}
