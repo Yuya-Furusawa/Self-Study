{
 "cells": [
  {
   "cell_type": "code",
   "execution_count": 1,
   "metadata": {},
   "outputs": [
    {
     "data": {
      "text/plain": [
       "Detection (generic function with 1 method)"
      ]
     },
     "execution_count": 1,
     "metadata": {},
     "output_type": "execute_result"
    }
   ],
   "source": [
    "using Plots\n",
    "gr()\n",
    "include(\"hotellingTsquare.jl\")"
   ]
  },
  {
   "cell_type": "code",
   "execution_count": 2,
   "metadata": {},
   "outputs": [],
   "source": [
    "x = rand(300);"
   ]
  },
  {
   "cell_type": "code",
   "execution_count": 3,
   "metadata": {},
   "outputs": [
    {
     "data": {
      "image/svg+xml": [
       "<?xml version=\"1.0\" encoding=\"utf-8\"?>\n",
       "<svg xmlns=\"http://www.w3.org/2000/svg\" xmlns:xlink=\"http://www.w3.org/1999/xlink\" width=\"600\" height=\"400\" viewBox=\"0 0 2400 1600\">\n",
       "<defs>\n",
       "  <clipPath id=\"clip0100\">\n",
       "    <rect x=\"0\" y=\"0\" width=\"2000\" height=\"2000\"/>\n",
       "  </clipPath>\n",
       "</defs>\n",
       "<defs>\n",
       "  <clipPath id=\"clip0101\">\n",
       "    <rect x=\"0\" y=\"0\" width=\"2400\" height=\"1600\"/>\n",
       "  </clipPath>\n",
       "</defs>\n",
       "<polygon clip-path=\"url(#clip0101)\" points=\"\n",
       "0,1600 2400,1600 2400,0 0,0 \n",
       "  \" fill=\"#ffffff\" fill-rule=\"evenodd\" fill-opacity=\"1\"/>\n",
       "<defs>\n",
       "  <clipPath id=\"clip0102\">\n",
       "    <rect x=\"480\" y=\"0\" width=\"1681\" height=\"1600\"/>\n",
       "  </clipPath>\n",
       "</defs>\n",
       "<polygon clip-path=\"url(#clip0101)\" points=\"\n",
       "188.156,1503.47 2321.26,1503.47 2321.26,47.2441 188.156,47.2441 \n",
       "  \" fill=\"#ffffff\" fill-rule=\"evenodd\" fill-opacity=\"1\"/>\n",
       "<defs>\n",
       "  <clipPath id=\"clip0103\">\n",
       "    <rect x=\"188\" y=\"47\" width=\"2134\" height=\"1457\"/>\n",
       "  </clipPath>\n",
       "</defs>\n",
       "<polyline clip-path=\"url(#clip0103)\" style=\"stroke:#000000; stroke-width:2; stroke-opacity:0.1; fill:none\" points=\"\n",
       "  241.797,1503.47 241.797,47.2441 \n",
       "  \"/>\n",
       "<polyline clip-path=\"url(#clip0103)\" style=\"stroke:#000000; stroke-width:2; stroke-opacity:0.1; fill:none\" points=\"\n",
       "  914.828,1503.47 914.828,47.2441 \n",
       "  \"/>\n",
       "<polyline clip-path=\"url(#clip0103)\" style=\"stroke:#000000; stroke-width:2; stroke-opacity:0.1; fill:none\" points=\"\n",
       "  1587.86,1503.47 1587.86,47.2441 \n",
       "  \"/>\n",
       "<polyline clip-path=\"url(#clip0103)\" style=\"stroke:#000000; stroke-width:2; stroke-opacity:0.1; fill:none\" points=\"\n",
       "  2260.89,1503.47 2260.89,47.2441 \n",
       "  \"/>\n",
       "<polyline clip-path=\"url(#clip0103)\" style=\"stroke:#000000; stroke-width:2; stroke-opacity:0.1; fill:none\" points=\"\n",
       "  188.156,1462.6 2321.26,1462.6 \n",
       "  \"/>\n",
       "<polyline clip-path=\"url(#clip0103)\" style=\"stroke:#000000; stroke-width:2; stroke-opacity:0.1; fill:none\" points=\"\n",
       "  188.156,1117.27 2321.26,1117.27 \n",
       "  \"/>\n",
       "<polyline clip-path=\"url(#clip0103)\" style=\"stroke:#000000; stroke-width:2; stroke-opacity:0.1; fill:none\" points=\"\n",
       "  188.156,771.944 2321.26,771.944 \n",
       "  \"/>\n",
       "<polyline clip-path=\"url(#clip0103)\" style=\"stroke:#000000; stroke-width:2; stroke-opacity:0.1; fill:none\" points=\"\n",
       "  188.156,426.614 2321.26,426.614 \n",
       "  \"/>\n",
       "<polyline clip-path=\"url(#clip0103)\" style=\"stroke:#000000; stroke-width:2; stroke-opacity:0.1; fill:none\" points=\"\n",
       "  188.156,81.2844 2321.26,81.2844 \n",
       "  \"/>\n",
       "<polyline clip-path=\"url(#clip0101)\" style=\"stroke:#000000; stroke-width:4; stroke-opacity:1; fill:none\" points=\"\n",
       "  188.156,1503.47 2321.26,1503.47 \n",
       "  \"/>\n",
       "<polyline clip-path=\"url(#clip0101)\" style=\"stroke:#000000; stroke-width:4; stroke-opacity:1; fill:none\" points=\"\n",
       "  188.156,1503.47 188.156,47.2441 \n",
       "  \"/>\n",
       "<polyline clip-path=\"url(#clip0101)\" style=\"stroke:#000000; stroke-width:4; stroke-opacity:1; fill:none\" points=\"\n",
       "  241.797,1503.47 241.797,1481.63 \n",
       "  \"/>\n",
       "<polyline clip-path=\"url(#clip0101)\" style=\"stroke:#000000; stroke-width:4; stroke-opacity:1; fill:none\" points=\"\n",
       "  914.828,1503.47 914.828,1481.63 \n",
       "  \"/>\n",
       "<polyline clip-path=\"url(#clip0101)\" style=\"stroke:#000000; stroke-width:4; stroke-opacity:1; fill:none\" points=\"\n",
       "  1587.86,1503.47 1587.86,1481.63 \n",
       "  \"/>\n",
       "<polyline clip-path=\"url(#clip0101)\" style=\"stroke:#000000; stroke-width:4; stroke-opacity:1; fill:none\" points=\"\n",
       "  2260.89,1503.47 2260.89,1481.63 \n",
       "  \"/>\n",
       "<polyline clip-path=\"url(#clip0101)\" style=\"stroke:#000000; stroke-width:4; stroke-opacity:1; fill:none\" points=\"\n",
       "  188.156,1462.6 220.153,1462.6 \n",
       "  \"/>\n",
       "<polyline clip-path=\"url(#clip0101)\" style=\"stroke:#000000; stroke-width:4; stroke-opacity:1; fill:none\" points=\"\n",
       "  188.156,1117.27 220.153,1117.27 \n",
       "  \"/>\n",
       "<polyline clip-path=\"url(#clip0101)\" style=\"stroke:#000000; stroke-width:4; stroke-opacity:1; fill:none\" points=\"\n",
       "  188.156,771.944 220.153,771.944 \n",
       "  \"/>\n",
       "<polyline clip-path=\"url(#clip0101)\" style=\"stroke:#000000; stroke-width:4; stroke-opacity:1; fill:none\" points=\"\n",
       "  188.156,426.614 220.153,426.614 \n",
       "  \"/>\n",
       "<polyline clip-path=\"url(#clip0101)\" style=\"stroke:#000000; stroke-width:4; stroke-opacity:1; fill:none\" points=\"\n",
       "  188.156,81.2844 220.153,81.2844 \n",
       "  \"/>\n",
       "<g clip-path=\"url(#clip0101)\">\n",
       "<text style=\"fill:#000000; fill-opacity:1; font-family:Arial,Helvetica Neue,Helvetica,sans-serif; font-size:48px; text-anchor:middle;\" transform=\"rotate(0, 241.797, 1557.47)\" x=\"241.797\" y=\"1557.47\">0</text>\n",
       "</g>\n",
       "<g clip-path=\"url(#clip0101)\">\n",
       "<text style=\"fill:#000000; fill-opacity:1; font-family:Arial,Helvetica Neue,Helvetica,sans-serif; font-size:48px; text-anchor:middle;\" transform=\"rotate(0, 914.828, 1557.47)\" x=\"914.828\" y=\"1557.47\">100</text>\n",
       "</g>\n",
       "<g clip-path=\"url(#clip0101)\">\n",
       "<text style=\"fill:#000000; fill-opacity:1; font-family:Arial,Helvetica Neue,Helvetica,sans-serif; font-size:48px; text-anchor:middle;\" transform=\"rotate(0, 1587.86, 1557.47)\" x=\"1587.86\" y=\"1557.47\">200</text>\n",
       "</g>\n",
       "<g clip-path=\"url(#clip0101)\">\n",
       "<text style=\"fill:#000000; fill-opacity:1; font-family:Arial,Helvetica Neue,Helvetica,sans-serif; font-size:48px; text-anchor:middle;\" transform=\"rotate(0, 2260.89, 1557.47)\" x=\"2260.89\" y=\"1557.47\">300</text>\n",
       "</g>\n",
       "<g clip-path=\"url(#clip0101)\">\n",
       "<text style=\"fill:#000000; fill-opacity:1; font-family:Arial,Helvetica Neue,Helvetica,sans-serif; font-size:48px; text-anchor:end;\" transform=\"rotate(0, 164.156, 1480.1)\" x=\"164.156\" y=\"1480.1\">0.00</text>\n",
       "</g>\n",
       "<g clip-path=\"url(#clip0101)\">\n",
       "<text style=\"fill:#000000; fill-opacity:1; font-family:Arial,Helvetica Neue,Helvetica,sans-serif; font-size:48px; text-anchor:end;\" transform=\"rotate(0, 164.156, 1134.77)\" x=\"164.156\" y=\"1134.77\">0.25</text>\n",
       "</g>\n",
       "<g clip-path=\"url(#clip0101)\">\n",
       "<text style=\"fill:#000000; fill-opacity:1; font-family:Arial,Helvetica Neue,Helvetica,sans-serif; font-size:48px; text-anchor:end;\" transform=\"rotate(0, 164.156, 789.444)\" x=\"164.156\" y=\"789.444\">0.50</text>\n",
       "</g>\n",
       "<g clip-path=\"url(#clip0101)\">\n",
       "<text style=\"fill:#000000; fill-opacity:1; font-family:Arial,Helvetica Neue,Helvetica,sans-serif; font-size:48px; text-anchor:end;\" transform=\"rotate(0, 164.156, 444.114)\" x=\"164.156\" y=\"444.114\">0.75</text>\n",
       "</g>\n",
       "<g clip-path=\"url(#clip0101)\">\n",
       "<text style=\"fill:#000000; fill-opacity:1; font-family:Arial,Helvetica Neue,Helvetica,sans-serif; font-size:48px; text-anchor:end;\" transform=\"rotate(0, 164.156, 98.7844)\" x=\"164.156\" y=\"98.7844\">1.00</text>\n",
       "</g>\n",
       "<polyline clip-path=\"url(#clip0103)\" style=\"stroke:#009af9; stroke-width:4; stroke-opacity:1; fill:none\" points=\"\n",
       "  248.527,721.245 255.258,1009.96 261.988,1098.23 268.718,443.695 275.448,712.173 282.179,1101.39 288.909,724.637 295.639,306.488 302.37,861.176 309.1,1149.82 \n",
       "  315.83,1234.03 322.561,424.494 329.291,1308.56 336.021,873.182 342.752,1358.43 349.482,1035.39 356.212,542.923 362.942,1186.52 369.673,1080.53 376.403,1292.5 \n",
       "  383.133,370.491 389.864,938.93 396.594,1042.82 403.324,766.004 410.055,579.242 416.785,374.528 423.515,539.613 430.246,734.073 436.976,738.228 443.706,1369.35 \n",
       "  450.436,978.881 457.167,858.198 463.897,364.189 470.627,983.435 477.358,144.801 484.088,1017.13 490.818,694.836 497.549,199.635 504.279,458.226 511.009,1375.48 \n",
       "  517.74,813.313 524.47,1112.03 531.2,1257.1 537.93,745.787 544.661,801.46 551.391,831.685 558.121,578.082 564.852,524.623 571.582,680.883 578.312,1059.96 \n",
       "  585.043,152.127 591.773,157.204 598.503,741.996 605.233,1416.1 611.964,906.592 618.694,1306.18 625.424,1179.57 632.155,634.682 638.885,755.995 645.615,738.341 \n",
       "  652.346,1064.06 659.076,760.567 665.806,685.251 672.537,1404.8 679.267,1148.86 685.997,448.996 692.727,680.154 699.458,191.658 706.188,161.561 712.918,403.048 \n",
       "  719.649,1359.79 726.379,461.727 733.109,1150.5 739.84,1028.27 746.57,1193.41 753.3,1205.34 760.031,888.249 766.761,88.4582 773.491,170.373 780.221,376.492 \n",
       "  786.952,1335.03 793.682,211.551 800.412,505.633 807.143,233.104 813.873,251.783 820.603,913.086 827.334,336.774 834.064,814.684 840.794,345.497 847.525,386.782 \n",
       "  854.255,637.225 860.985,576.732 867.715,1208.52 874.446,1337.04 881.176,420.198 887.906,605.385 894.637,338.551 901.367,1078.43 908.097,648.992 914.828,504.934 \n",
       "  921.558,688.945 928.288,311.667 935.019,851.76 941.749,452.904 948.479,531.496 955.209,678.427 961.94,106.348 968.67,1387.42 975.4,1241.91 982.131,237.08 \n",
       "  988.861,605.991 995.591,594.972 1002.32,987.343 1009.05,473.752 1015.78,494.848 1022.51,561.211 1029.24,293.774 1035.97,998.125 1042.7,1003.82 1049.43,1144.96 \n",
       "  1056.16,220.002 1062.89,340.351 1069.62,400.832 1076.35,518.431 1083.09,500.189 1089.82,683.5 1096.55,1199.94 1103.28,615.528 1110.01,1346.71 1116.74,1052.76 \n",
       "  1123.47,1387.41 1130.2,438.185 1136.93,1446.74 1143.66,159.469 1150.39,924.88 1157.12,836.68 1163.85,1454.33 1170.58,1022.63 1177.31,1102.51 1184.04,1297.89 \n",
       "  1190.77,226.604 1197.5,824.151 1204.23,555.369 1210.96,1347.8 1217.69,896.938 1224.42,513.061 1231.15,91.7068 1237.88,757.494 1244.61,1114.46 1251.34,1201.14 \n",
       "  1258.07,1176.25 1264.8,629.298 1271.53,1146.43 1278.26,1237.6 1284.99,763.914 1291.72,1194.46 1298.46,1199.45 1305.19,1134.94 1311.92,131.611 1318.65,366.268 \n",
       "  1325.38,783.847 1332.11,854.178 1338.84,1399.39 1345.57,1329.66 1352.3,1215.71 1359.03,235.833 1365.76,695.97 1372.49,471.818 1379.22,884.344 1385.95,1166.03 \n",
       "  1392.68,366.835 1399.41,686.42 1406.14,193.269 1412.87,793.997 1419.6,108.772 1426.33,735.724 1433.06,928.45 1439.79,813.79 1446.52,1188.64 1453.25,1251.2 \n",
       "  1459.98,1223.15 1466.71,135.589 1473.44,1335.41 1480.17,811.367 1486.9,841.728 1493.63,214.409 1500.36,1355.81 1507.09,208.294 1513.82,968.089 1520.56,1172.28 \n",
       "  1527.29,1209.21 1534.02,687.706 1540.75,984.771 1547.48,138.424 1554.21,109.991 1560.94,1462.26 1567.67,1175.62 1574.4,1379.27 1581.13,1227.5 1587.86,827.781 \n",
       "  1594.59,1295.15 1601.32,269.516 1608.05,882.012 1614.78,558.092 1621.51,568.305 1628.24,1448.17 1634.97,614.276 1641.7,313.837 1648.43,213.009 1655.16,350.212 \n",
       "  1661.89,692.537 1668.62,290.547 1675.35,627.694 1682.08,398.931 1688.81,501.966 1695.54,1001.25 1702.27,131.554 1709,1187.3 1715.73,493.049 1722.46,812.058 \n",
       "  1729.19,677.977 1735.93,1084.29 1742.66,1056.52 1749.39,304.715 1756.12,386.569 1762.85,511.026 1769.58,836.558 1776.31,644.4 1783.04,1146.69 1789.77,1068.05 \n",
       "  1796.5,307.58 1803.23,511.491 1809.96,220.193 1816.69,917.755 1823.42,1138.6 1830.15,233.472 1836.88,1215 1843.61,1092.9 1850.34,365.511 1857.07,1072.01 \n",
       "  1863.8,639.86 1870.53,1370.82 1877.26,442.18 1883.99,1132.76 1890.72,633.639 1897.45,775.604 1904.18,305.889 1910.91,1382.53 1917.64,324.541 1924.37,172.365 \n",
       "  1931.1,653.797 1937.83,1273 1944.56,753.461 1951.29,201.497 1958.03,211.055 1964.76,1414.84 1971.49,430.675 1978.22,411.887 1984.95,1296.12 1991.68,691.615 \n",
       "  1998.41,1446.83 2005.14,1011.17 2011.87,135.021 2018.6,619.386 2025.33,258.422 2032.06,520.732 2038.79,185.166 2045.52,965.459 2052.25,1399.64 2058.98,108.891 \n",
       "  2065.71,1394.4 2072.44,846.693 2079.17,1453.42 2085.9,411.324 2092.63,1300.89 2099.36,332.999 2106.09,1279.45 2112.82,485.198 2119.55,1357.51 2126.28,264.524 \n",
       "  2133.01,1332.45 2139.74,431.868 2146.47,885.173 2153.2,1077.73 2159.93,321.356 2166.66,222.218 2173.4,1360.6 2180.13,127.267 2186.86,307.387 2193.59,812.577 \n",
       "  2200.32,242.762 2207.05,597.719 2213.78,551.013 2220.51,1443.65 2227.24,1253.6 2233.97,1003.15 2240.7,895.895 2247.43,1408.52 2254.16,478.993 2260.89,691.584 \n",
       "  \n",
       "  \"/>\n",
       "<polygon clip-path=\"url(#clip0101)\" points=\"\n",
       "1958.43,251.724 2249.26,251.724 2249.26,130.764 1958.43,130.764 \n",
       "  \" fill=\"#ffffff\" fill-rule=\"evenodd\" fill-opacity=\"1\"/>\n",
       "<polyline clip-path=\"url(#clip0101)\" style=\"stroke:#000000; stroke-width:4; stroke-opacity:1; fill:none\" points=\"\n",
       "  1958.43,251.724 2249.26,251.724 2249.26,130.764 1958.43,130.764 1958.43,251.724 \n",
       "  \"/>\n",
       "<polyline clip-path=\"url(#clip0101)\" style=\"stroke:#009af9; stroke-width:4; stroke-opacity:1; fill:none\" points=\"\n",
       "  1982.43,191.244 2126.43,191.244 \n",
       "  \"/>\n",
       "<g clip-path=\"url(#clip0101)\">\n",
       "<text style=\"fill:#000000; fill-opacity:1; font-family:Arial,Helvetica Neue,Helvetica,sans-serif; font-size:48px; text-anchor:start;\" transform=\"rotate(0, 2150.43, 208.744)\" x=\"2150.43\" y=\"208.744\">y1</text>\n",
       "</g>\n",
       "</svg>\n"
      ]
     },
     "execution_count": 3,
     "metadata": {},
     "output_type": "execute_result"
    }
   ],
   "source": [
    "plot(1:300, x)"
   ]
  },
  {
   "cell_type": "code",
   "execution_count": 4,
   "metadata": {},
   "outputs": [
    {
     "ename": "MethodError",
     "evalue": "MethodError: no method matching Hotelling(::Array{Float64,1}, ::Array{Float64,2}, ::Float64)\nClosest candidates are:\n  Hotelling(!Matched::Array{T,2} where T, ::Array{T,2} where T, ::T<:Real) where T<:Real at /Users/yuyafurusawa/Desktop/hotellingTsquare.jl:11\n  Hotelling(::Union{AbstractArray{T<:Real,2}, AbstractArray{T<:Real,1}}, !Matched::T<:Real) where T<:Real at /Users/yuyafurusawa/Desktop/hotellingTsquare.jl:17",
     "output_type": "error",
     "traceback": [
      "MethodError: no method matching Hotelling(::Array{Float64,1}, ::Array{Float64,2}, ::Float64)\nClosest candidates are:\n  Hotelling(!Matched::Array{T,2} where T, ::Array{T,2} where T, ::T<:Real) where T<:Real at /Users/yuyafurusawa/Desktop/hotellingTsquare.jl:11\n  Hotelling(::Union{AbstractArray{T<:Real,2}, AbstractArray{T<:Real,1}}, !Matched::T<:Real) where T<:Real at /Users/yuyafurusawa/Desktop/hotellingTsquare.jl:17",
      "",
      "Stacktrace:",
      " [1] Hotelling(::Array{Float64,1}, ::Float64) at /Users/yuyafurusawa/Desktop/hotellingTsquare.jl:34",
      " [2] top-level scope at In[4]:1"
     ]
    }
   ],
   "source": [
    "ht = Hotelling(x, 0.99)"
   ]
  },
  {
   "cell_type": "code",
   "execution_count": null,
   "metadata": {
    "collapsed": true
   },
   "outputs": [],
   "source": []
  }
 ],
 "metadata": {
  "kernelspec": {
   "display_name": "Julia 1.1.0",
   "language": "julia",
   "name": "julia-1.1"
  },
  "language_info": {
   "file_extension": ".jl",
   "mimetype": "application/julia",
   "name": "julia",
   "version": "1.1.0"
  }
 },
 "nbformat": 4,
 "nbformat_minor": 2
}
