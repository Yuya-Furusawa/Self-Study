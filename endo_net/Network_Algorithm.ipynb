{
 "cells": [
  {
   "cell_type": "code",
   "execution_count": 1,
   "metadata": {},
   "outputs": [],
   "source": [
    "import numpy as np\n",
    "import copy\n",
    "from itertoools import chain, combinations"
   ]
  },
  {
   "cell_type": "code",
   "execution_count": 2,
   "metadata": {},
   "outputs": [],
   "source": [
    "n = 5 # number of agents\n",
    "phi = 0.2"
   ]
  },
  {
   "cell_type": "code",
   "execution_count": 3,
   "metadata": {},
   "outputs": [
    {
     "data": {
      "text/plain": [
       "array([[0., 1., 1., 1., 1.],\n",
       "       [1., 0., 1., 1., 1.],\n",
       "       [1., 1., 0., 1., 1.],\n",
       "       [1., 1., 1., 0., 1.],\n",
       "       [1., 1., 1., 1., 0.]])"
      ]
     },
     "execution_count": 3,
     "metadata": {},
     "output_type": "execute_result"
    }
   ],
   "source": [
    "# initial network\n",
    "G = np.ones((n,n))\n",
    "for i in range(n):\n",
    "    G[i, i] = 0 \n",
    "G"
   ]
  },
  {
   "cell_type": "code",
   "execution_count": 4,
   "metadata": {},
   "outputs": [],
   "source": [
    "alpha = np.array([1, 1, 1, 1, 1])"
   ]
  },
  {
   "cell_type": "code",
   "execution_count": 5,
   "metadata": {},
   "outputs": [],
   "source": [
    "# cost matrix\n",
    "C = np.array([[0, 6, 0.1, 2, 3],\n",
    "                         [0.2, 0, 0.5, 0.02, 1],\n",
    "                         [0.01, 3.5, 0, 2, 0],\n",
    "                         [2.5, 7, 0.1, 0, 5],\n",
    "                         [4, 1, 0.12, 3, 0]])"
   ]
  },
  {
   "cell_type": "code",
   "execution_count": 6,
   "metadata": {},
   "outputs": [],
   "source": [
    "# the set of agents who do not take best response\n",
    "NB = np.array([i for i in range(n)])"
   ]
  },
  {
   "cell_type": "code",
   "execution_count": 7,
   "metadata": {},
   "outputs": [],
   "source": [
    "# compute each agents' payoffs\n",
    "def compute_payoff(G):\n",
    "    #v = np.array([sum(np.linalg.inv(np.eye(n) - phi * G)[i,:]) for i in range(n)])\n",
    "    v = np.linalg.inv(np.eye(n) - phi * G) @ alpha\n",
    "    bool_matrix = G == 1\n",
    "    cost = np.array([sum(C[i, bool_matrix[i]]) for i in range(n)])\n",
    "    return v - cost"
   ]
  },
  {
   "cell_type": "code",
   "execution_count": 8,
   "metadata": {},
   "outputs": [],
   "source": [
    "curr_payoff = compute_payoff(G)"
   ]
  },
  {
   "cell_type": "code",
   "execution_count": 9,
   "metadata": {},
   "outputs": [],
   "source": [
    "NB = NB[curr_payoff < alpha]"
   ]
  },
  {
   "cell_type": "code",
   "execution_count": 10,
   "metadata": {},
   "outputs": [
    {
     "data": {
      "text/plain": [
       "array([0, 2, 3, 4])"
      ]
     },
     "execution_count": 10,
     "metadata": {},
     "output_type": "execute_result"
    }
   ],
   "source": [
    "NB"
   ]
  },
  {
   "cell_type": "code",
   "execution_count": 11,
   "metadata": {},
   "outputs": [],
   "source": [
    "a = np.random.choice(NB, 1)"
   ]
  },
  {
   "cell_type": "code",
   "execution_count": 12,
   "metadata": {},
   "outputs": [
    {
     "data": {
      "text/plain": [
       "array([0])"
      ]
     },
     "execution_count": 12,
     "metadata": {},
     "output_type": "execute_result"
    }
   ],
   "source": [
    "a"
   ]
  },
  {
   "cell_type": "code",
   "execution_count": 13,
   "metadata": {},
   "outputs": [],
   "source": [
    "# take best response\n",
    "def best_response(player_ind, G):\n",
    "    player_ind = int(player_ind)\n",
    "    G_copy = copy.copy(G)\n",
    "    payoff = compute_payoff(G_copy)[player_ind]\n",
    "    delete_edge = []\n",
    "    bool_matrix = G == 1\n",
    "    \n",
    "    # current edges\n",
    "    bool_edge = bool_matrix[player_ind]\n",
    "    while payoff < alpha[player_ind]:\n",
    "        max_cost = np.max(C[player_ind, bool_edge])\n",
    "        edge = int(np.where(C[player_ind,:] == max_cost)[0])\n",
    "        \n",
    "        # delete the edge\n",
    "        G_copy[player_ind, edge] = 0\n",
    "        \n",
    "        # compute new payoff\n",
    "        payoff = compute_payoff(G_copy)[player_ind]\n",
    "        delete_edge.append(edge)\n",
    "        bool_edge[edge] = False\n",
    "        \n",
    "    return delete_edge"
   ]
  },
  {
   "cell_type": "code",
   "execution_count": 14,
   "metadata": {},
   "outputs": [
    {
     "data": {
      "text/plain": [
       "[1, 4, 3]"
      ]
     },
     "execution_count": 14,
     "metadata": {},
     "output_type": "execute_result"
    }
   ],
   "source": [
    "best_response(a, G)"
   ]
  },
  {
   "cell_type": "code",
   "execution_count": null,
   "metadata": {},
   "outputs": [],
   "source": [
    "def powerset(iterable):\n",
    "    s = list(iterable)\n",
    "    if s = []:\n",
    "        return s\n",
    "    else:\n",
    "        return chain.from_iterable(combinations(s,r) for r in range(1, len(s)+1))"
   ]
  },
  {
   "cell_type": "code",
   "execution_count": null,
   "metadata": {},
   "outputs": [],
   "source": [
    "def check_best_response(G):\n",
    "    NB = {}\n",
    "    payoff = compute_payoff(G)\n",
    "    for i in range(n):\n",
    "        max_payoff = payoff[i]\n",
    "        remove_edges = []\n",
    "        edges_index = [i for i, x in enumerate(G[i,:]) if x == 1]\n",
    "        delte_edges = power_set(edges_index)\n",
    "        for delete_edge in delete_edges:\n",
    "            G_copy = copy.copy(G)\n",
    "            for edge in delete_edge:\n",
    "                G_copy[i, edge] = 0\n",
    "            new_payoff = compute_payoff(G_copy)[i]\n",
    "            if new_payoff > max_payoff:\n",
    "                max_payoff = new_payoff\n",
    "                remove_edges = list(delete_edge)\n",
    "        NB[i] = remove_edges\n",
    "    \n",
    "    return NB"
   ]
  },
  {
   "cell_type": "code",
   "execution_count": null,
   "metadata": {},
   "outputs": [],
   "source": [
    "def main(G):\n",
    "    NB = check_best_response(G)\n",
    "    NB_agents = [k for k, v in NB.items() if v != []]\n",
    "    if NB_agents != []:\n",
    "        agent = np.random.choice(NB_agents, 1)\n",
    "        remove_edges = NB.values(agent)\n",
    "        for edge in remove_edges:\n",
    "            G[agent, edge] = 0\n",
    "    return G"
   ]
  }
 ],
 "metadata": {
  "@webio": {
   "lastCommId": null,
   "lastKernelId": null
  },
  "kernelspec": {
   "display_name": "Python 3",
   "language": "python",
   "name": "python3"
  },
  "language_info": {
   "codemirror_mode": {
    "name": "ipython",
    "version": 3
   },
   "file_extension": ".py",
   "mimetype": "text/x-python",
   "name": "python",
   "nbconvert_exporter": "python",
   "pygments_lexer": "ipython3",
   "version": "3.7.3"
  }
 },
 "nbformat": 4,
 "nbformat_minor": 2
}
